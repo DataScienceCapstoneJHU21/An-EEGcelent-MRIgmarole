{
 "cells": [
  {
   "cell_type": "markdown",
   "metadata": {},
   "source": [
    "# Predicting MRI from simultaneous EEG recordings\n",
    "\n",
    "\n",
    "\n",
    "*EEG (avg or FCz referenced) to MRI BOLD translation (MRI with Harvard-Oxford Parcellated based on MNI152 space)*\n",
    "\n",
    "\n",
    "This notebook details filtering, feature extraction and basic model training for a simple feedforward ANN for predicting MRI BOLD signal from simultaneous EEG recordings. The program uses simple festures such as energy in the delta through to gamma bands as predictors (delta band power has shown to be correlated with cortical BOLD in resting wakefulness). Other possible features include low average frequency IMFs from EMD-based analysis and information "
   ]
  },
  {
   "cell_type": "code",
   "execution_count": 66,
   "metadata": {},
   "outputs": [],
   "source": [
    "import numpy as np\n",
    "import matplotlib.pyplot as plt\n",
    "from dipy.sims.voxel import (multi_tensor_dki, single_tensor)\n",
    "from dipy.data import get_fnames\n",
    "from dipy.io.gradients import read_bvals_bvecs\n",
    "from dipy.core.gradients import gradient_table\n",
    "from dipy.reconst.dti import (decompose_tensor, from_lower_triangular)"
   ]
  },
  {
   "cell_type": "code",
   "execution_count": 67,
   "metadata": {},
   "outputs": [],
   "source": [
    "import tensorflow as tf\n",
    "import mne#a package for analysing EEG data\n",
    "import matplotlib.pyplot as plt\n",
    "import pandas as pd\n",
    "import numpy as np\n",
    "from scipy.signal import butter,lfilter\n",
    "from lspopt.lsp import spectrogram_lspopt\n",
    "import random\n",
    "import sklearn\n",
    "import glob\n",
    "fs=250\n",
    "\n",
    "#Butterworth bandpass filter\n",
    "def butter_bandpass(lowcut, highcut, fs, order=5):\n",
    "    nyq = 0.5 * fs\n",
    "    low = lowcut / nyq\n",
    "    high = highcut / nyq\n",
    "    b, a = butter(order, [low, high], btype='band')\n",
    "    return b, a\n",
    "\n",
    "def butter_bandpass_filter(data, lowcut=0.1, highcut=100, fs=fs, order=5):\n",
    "    b, a = butter_bandpass(lowcut, highcut, fs, order=order)\n",
    "    y = lfilter(b, a, data)\n",
    "    return y"
   ]
  },
  {
   "cell_type": "markdown",
   "metadata": {},
   "source": [
    "# Simulated EEG data"
   ]
  },
  {
   "cell_type": "code",
   "execution_count": 68,
   "metadata": {},
   "outputs": [],
   "source": [
    "import colorednoise as cn\n",
    "sim_time = 600 #600 seconds of simulated data\n",
    "beta = 1 # the exponent\n",
    "eeg_samples = fs*sim_time # number of samples to generate\n",
    "channels = 10\n",
    "eeg_data = np.zeros((eeg_samples,channels))\n",
    "for i in range(channels):\n",
    "    eeg_data[:,i] = cn.powerlaw_psd_gaussian(beta, eeg_samples)"
   ]
  },
  {
   "cell_type": "code",
   "execution_count": 69,
   "metadata": {},
   "outputs": [],
   "source": [
    "import os.path as op\n",
    "\n",
    "import numpy as np\n",
    "\n",
    "import mne\n",
    "from mne.datasets import sample\n",
    "\n",
    "def generate_mne_data():\n",
    "    # For this example, we will be using the information of the sample subject.\n",
    "    # This will download the data if it not already on your machine. We also set\n",
    "    # the subjects directory so we don't need to give it to functions.\n",
    "    data_path = sample.data_path()\n",
    "    subjects_dir = op.join(data_path, 'subjects')\n",
    "    subject = 'sample'\n",
    "\n",
    "    # First, we get an info structure from the test subject.\n",
    "    evoked_fname = op.join(data_path, 'MEG', subject, 'sample_audvis-ave.fif')\n",
    "    info = mne.io.read_info(evoked_fname)\n",
    "    tstep = 1. / info['sfreq']\n",
    "\n",
    "    # To simulate sources, we also need a source space. It can be obtained from the\n",
    "    # forward solution of the sample subject.\n",
    "    fwd_fname = op.join(data_path, 'MEG', subject,\n",
    "                        'sample_audvis-meg-eeg-oct-6-fwd.fif')\n",
    "    fwd = mne.read_forward_solution(fwd_fname)\n",
    "    src = fwd['src']\n",
    "\n",
    "    # To select a region to activate, we use the caudal middle frontal to grow\n",
    "    # a region of interest.\n",
    "    selected_label = mne.read_labels_from_annot(\n",
    "        subject, regexp='caudalmiddlefrontal-lh', subjects_dir=subjects_dir)[0]\n",
    "    location = 'center'  # Use the center of the region as a seed.\n",
    "    extent = 10.  # Extent in mm of the region.\n",
    "    label = mne.label.select_sources(\n",
    "        subject, selected_label, location=location, extent=extent,\n",
    "        subjects_dir=subjects_dir)\n",
    "\n",
    "    # Define the time course of the activity for each source of the region to\n",
    "    # activate. Here we use a sine wave at 18 Hz with a peak amplitude\n",
    "    # of 10 nAm.\n",
    "    source_time_series = np.sin(2. * np.pi * 18. * np.arange(100) * tstep) * 10e-9\n",
    "\n",
    "    # Define when the activity occurs using events. The first column is the sample\n",
    "    # of the event, the second is not used, and the third is the event id. Here the\n",
    "    # events occur every 200 samples.\n",
    "    n_events = 50\n",
    "    events = np.zeros((n_events, 3), int)\n",
    "    events[:, 0] = 100 + 200 * np.arange(n_events)  # Events sample.\n",
    "    events[:, 2] = 1  # All events have the sample id.\n",
    "\n",
    "    # Create simulated source activity. Here we use a SourceSimulator whose\n",
    "    # add_data method is key. It specified where (label), what\n",
    "    # (source_time_series), and when (events) an event type will occur.\n",
    "    source_simulator = mne.simulation.SourceSimulator(src, tstep=tstep,duration=300)\n",
    "    source_simulator.add_data(label, source_time_series, events)\n",
    "\n",
    "    # Project the source time series to sensor space and add some noise. The source\n",
    "    # simulator can be given directly to the simulate_raw function.\n",
    "    raw = mne.simulation.simulate_raw(info, source_simulator, forward=fwd)\n",
    "    cov = mne.make_ad_hoc_cov(raw.info)\n",
    "    mne.simulation.add_noise(raw, cov, iir_filter=[0.2, -0.2, 0.04])\n",
    "\n",
    "\n",
    "    # Plot evoked data to get another view of the simulated raw data.\n",
    "    events = mne.find_events(raw)\n",
    "    epochs = mne.Epochs(raw, events, 1, tmin=-0.05, tmax=0.2)\n",
    "    evoked = epochs.average()\n",
    "    EEG_channels= ['EEG 001',\n",
    "     'EEG 002',\n",
    "     'EEG 003',\n",
    "     'EEG 004',\n",
    "     'EEG 005',\n",
    "     'EEG 006',\n",
    "     'EEG 007',\n",
    "     'EEG 008',\n",
    "     'EEG 009',\n",
    "     'EEG 010']\n",
    "    raw_temp=raw.copy()\n",
    "    raw_temp.pick_channels(EEG_channels)\n",
    "    t = mne.simulation.add_noise(raw_temp, cov, iir_filter=[0.2, -0.2, 0.04])\n",
    "    eeg_data= t.get_data()\n",
    "    eeg_data= eeg_data.reshape(180184,10)\n",
    "    eeg_data=eeg_data[:150000]\n",
    "    return eeg_data"
   ]
  },
  {
   "cell_type": "code",
   "execution_count": 70,
   "metadata": {},
   "outputs": [
    {
     "name": "stdout",
     "output_type": "stream",
     "text": [
      "    Read a total of 4 projection items:\n",
      "        PCA-v1 (1 x 102) active\n",
      "        PCA-v2 (1 x 102) active\n",
      "        PCA-v3 (1 x 102) active\n",
      "        Average EEG reference (1 x 60) active\n",
      "Reading forward solution from /Users/ssackstein/mne_data/MNE-sample-data/MEG/sample/sample_audvis-meg-eeg-oct-6-fwd.fif...\n",
      "    Reading a source space...\n",
      "    Computing patch statistics...\n",
      "    Patch information added...\n",
      "    Distance information added...\n",
      "    [done]\n",
      "    Reading a source space...\n",
      "    Computing patch statistics...\n",
      "    Patch information added...\n",
      "    Distance information added...\n",
      "    [done]\n",
      "    2 source spaces read\n",
      "    Desired named matrix (kind = 3523) not available\n",
      "    Read MEG forward solution (7498 sources, 306 channels, free orientations)\n",
      "    Desired named matrix (kind = 3523) not available\n",
      "    Read EEG forward solution (7498 sources, 60 channels, free orientations)\n",
      "    MEG and EEG forward solutions combined\n",
      "    Source spaces transformed to the forward solution coordinate frame\n",
      "Reading labels from parcellation...\n",
      "   read 1 labels from /Users/ssackstein/mne_data/MNE-sample-data/subjects/sample/label/lh.aparc.annot\n",
      "   read 0 labels from /Users/ssackstein/mne_data/MNE-sample-data/subjects/sample/label/rh.aparc.annot\n",
      "Setting up raw simulation: 1 position, \"cos2\" interpolation\n",
      "Event information stored on channel:              STI 014\n",
      "    Interval 0.000-1.665 sec\n",
      "Setting up forward solutions\n",
      "Computing gain matrix for transform #1/1\n",
      "    Interval 0.000-1.665 sec\n",
      "    Interval 0.000-1.665 sec\n",
      "    Interval 0.000-1.665 sec\n",
      "    Interval 0.000-1.665 sec\n",
      "    Interval 0.000-1.665 sec\n",
      "    Interval 0.000-1.665 sec\n",
      "    Interval 0.000-1.665 sec\n",
      "    Interval 0.000-1.665 sec\n",
      "    Interval 0.000-1.665 sec\n",
      "    Interval 0.000-1.665 sec\n",
      "    Interval 0.000-1.665 sec\n",
      "    Interval 0.000-1.665 sec\n",
      "    Interval 0.000-1.665 sec\n",
      "    Interval 0.000-1.665 sec\n",
      "    Interval 0.000-1.665 sec\n",
      "    Interval 0.000-1.665 sec\n",
      "    Interval 0.000-1.665 sec\n",
      "    Interval 0.000-1.665 sec\n",
      "    Interval 0.000-1.665 sec\n",
      "    Interval 0.000-1.665 sec\n",
      "    Interval 0.000-1.665 sec\n",
      "    Interval 0.000-1.665 sec\n",
      "    Interval 0.000-1.665 sec\n",
      "    Interval 0.000-1.665 sec\n",
      "    Interval 0.000-1.665 sec\n",
      "    Interval 0.000-1.665 sec\n",
      "    Interval 0.000-1.665 sec\n",
      "    Interval 0.000-1.665 sec\n",
      "    Interval 0.000-1.665 sec\n",
      "    Interval 0.000-1.665 sec\n",
      "    Interval 0.000-1.665 sec\n",
      "    Interval 0.000-1.665 sec\n",
      "    Interval 0.000-1.665 sec\n",
      "    Interval 0.000-1.665 sec\n",
      "    Interval 0.000-1.665 sec\n",
      "    Interval 0.000-1.665 sec\n",
      "    Interval 0.000-1.665 sec\n",
      "    Interval 0.000-1.665 sec\n",
      "    Interval 0.000-1.665 sec\n",
      "    Interval 0.000-1.665 sec\n",
      "    Interval 0.000-1.665 sec\n",
      "    Interval 0.000-1.665 sec\n",
      "    Interval 0.000-1.665 sec\n",
      "    Interval 0.000-1.665 sec\n",
      "    Interval 0.000-1.665 sec\n",
      "    Interval 0.000-1.665 sec\n",
      "    Interval 0.000-1.665 sec\n",
      "    Interval 0.000-1.665 sec\n",
      "    Interval 0.000-1.665 sec\n",
      "    Interval 0.000-1.665 sec\n",
      "    Interval 0.000-1.665 sec\n",
      "    Interval 0.000-1.665 sec\n",
      "    Interval 0.000-1.665 sec\n",
      "    Interval 0.000-1.665 sec\n",
      "    Interval 0.000-1.665 sec\n",
      "    Interval 0.000-1.665 sec\n",
      "    Interval 0.000-1.665 sec\n",
      "    Interval 0.000-1.665 sec\n",
      "    Interval 0.000-1.665 sec\n",
      "    Interval 0.000-1.665 sec\n",
      "    Interval 0.000-1.665 sec\n",
      "    Interval 0.000-1.665 sec\n",
      "    Interval 0.000-1.665 sec\n",
      "    Interval 0.000-1.665 sec\n",
      "    Interval 0.000-1.665 sec\n",
      "    Interval 0.000-1.665 sec\n",
      "    Interval 0.000-1.665 sec\n",
      "    Interval 0.000-1.665 sec\n",
      "    Interval 0.000-1.665 sec\n",
      "    Interval 0.000-1.665 sec\n",
      "    Interval 0.000-1.665 sec\n",
      "    Interval 0.000-1.665 sec\n",
      "    Interval 0.000-1.665 sec\n",
      "    Interval 0.000-1.665 sec\n",
      "    Interval 0.000-1.665 sec\n",
      "    Interval 0.000-1.665 sec\n",
      "    Interval 0.000-1.665 sec\n",
      "    Interval 0.000-1.665 sec\n",
      "    Interval 0.000-1.665 sec\n",
      "    Interval 0.000-1.665 sec\n",
      "    Interval 0.000-1.665 sec\n",
      "    Interval 0.000-1.665 sec\n",
      "    Interval 0.000-1.665 sec\n",
      "    Interval 0.000-1.665 sec\n",
      "    Interval 0.000-1.665 sec\n",
      "    Interval 0.000-1.665 sec\n",
      "    Interval 0.000-1.665 sec\n",
      "    Interval 0.000-1.665 sec\n",
      "    Interval 0.000-1.665 sec\n",
      "    Interval 0.000-1.665 sec\n",
      "    Interval 0.000-1.665 sec\n",
      "    Interval 0.000-1.665 sec\n",
      "    Interval 0.000-1.665 sec\n",
      "    Interval 0.000-1.665 sec\n",
      "    Interval 0.000-1.665 sec\n",
      "    Interval 0.000-1.665 sec\n",
      "    Interval 0.000-1.665 sec\n",
      "    Interval 0.000-1.665 sec\n",
      "    Interval 0.000-1.665 sec\n",
      "    Interval 0.000-1.665 sec\n",
      "    Interval 0.000-1.665 sec\n",
      "    Interval 0.000-1.665 sec\n",
      "    Interval 0.000-1.665 sec\n",
      "    Interval 0.000-1.665 sec\n",
      "    Interval 0.000-1.665 sec\n",
      "    Interval 0.000-1.665 sec\n",
      "    Interval 0.000-1.665 sec\n",
      "    Interval 0.000-1.665 sec\n",
      "    Interval 0.000-1.665 sec\n",
      "    Interval 0.000-1.665 sec\n",
      "    Interval 0.000-1.665 sec\n",
      "    Interval 0.000-1.665 sec\n",
      "    Interval 0.000-1.665 sec\n",
      "    Interval 0.000-1.665 sec\n",
      "    Interval 0.000-1.665 sec\n",
      "    Interval 0.000-1.665 sec\n",
      "    Interval 0.000-1.665 sec\n",
      "    Interval 0.000-1.665 sec\n",
      "    Interval 0.000-1.665 sec\n",
      "    Interval 0.000-1.665 sec\n",
      "    Interval 0.000-1.665 sec\n",
      "    Interval 0.000-1.665 sec\n",
      "    Interval 0.000-1.665 sec\n",
      "    Interval 0.000-1.665 sec\n",
      "    Interval 0.000-1.665 sec\n",
      "    Interval 0.000-1.665 sec\n",
      "    Interval 0.000-1.665 sec\n",
      "    Interval 0.000-1.665 sec\n",
      "    Interval 0.000-1.665 sec\n",
      "    Interval 0.000-1.665 sec\n",
      "    Interval 0.000-1.665 sec\n",
      "    Interval 0.000-1.665 sec\n",
      "    Interval 0.000-1.665 sec\n",
      "    Interval 0.000-1.665 sec\n",
      "    Interval 0.000-1.665 sec\n",
      "    Interval 0.000-1.665 sec\n",
      "    Interval 0.000-1.665 sec\n",
      "    Interval 0.000-1.665 sec\n",
      "    Interval 0.000-1.665 sec\n",
      "    Interval 0.000-1.665 sec\n",
      "    Interval 0.000-1.665 sec\n",
      "    Interval 0.000-1.665 sec\n",
      "    Interval 0.000-1.665 sec\n",
      "    Interval 0.000-1.665 sec\n",
      "    Interval 0.000-1.665 sec\n",
      "    Interval 0.000-1.665 sec\n",
      "    Interval 0.000-1.665 sec\n",
      "    Interval 0.000-1.665 sec\n",
      "    Interval 0.000-1.665 sec\n",
      "    Interval 0.000-1.665 sec\n",
      "    Interval 0.000-1.665 sec\n",
      "    Interval 0.000-1.665 sec\n",
      "    Interval 0.000-1.665 sec\n",
      "    Interval 0.000-1.665 sec\n",
      "    Interval 0.000-1.665 sec\n",
      "    Interval 0.000-1.665 sec\n",
      "    Interval 0.000-1.665 sec\n",
      "    Interval 0.000-1.665 sec\n",
      "    Interval 0.000-1.665 sec\n",
      "    Interval 0.000-1.665 sec\n",
      "    Interval 0.000-1.665 sec\n",
      "    Interval 0.000-1.665 sec\n",
      "    Interval 0.000-1.665 sec\n",
      "    Interval 0.000-1.665 sec\n",
      "    Interval 0.000-1.665 sec\n",
      "    Interval 0.000-1.665 sec\n",
      "    Interval 0.000-1.665 sec\n",
      "    Interval 0.000-1.665 sec\n",
      "    Interval 0.000-1.665 sec\n",
      "    Interval 0.000-1.665 sec\n",
      "    Interval 0.000-1.665 sec\n",
      "    Interval 0.000-1.665 sec\n",
      "    Interval 0.000-1.665 sec\n",
      "    Interval 0.000-1.665 sec\n",
      "    Interval 0.000-1.665 sec\n",
      "    Interval 0.000-1.665 sec\n",
      "    Interval 0.000-1.665 sec\n",
      "    Interval 0.000-1.665 sec\n",
      "    Interval 0.000-1.665 sec\n",
      "    Interval 0.000-0.306 sec\n",
      "    181 STC iterations provided\n",
      "[done]\n",
      "Adding noise to 366/376 channels (366 channels in cov)\n",
      "50 events found\n",
      "Event IDs: [1]\n",
      "Not setting metadata\n",
      "50 matching events found\n",
      "Setting baseline interval to [-0.049948803289596964, 0.0] sec\n",
      "Applying baseline correction (mode: mean)\n",
      "Created an SSP operator (subspace dimension = 4)\n",
      "4 projection items activated\n",
      "Removing projector <Projection | PCA-v1, active : True, n_channels : 102>\n",
      "Removing projector <Projection | PCA-v2, active : True, n_channels : 102>\n",
      "Removing projector <Projection | PCA-v3, active : True, n_channels : 102>\n",
      "Adding noise to 10/10 channels (366 channels in cov)\n"
     ]
    }
   ],
   "source": [
    "eeg_data =generate_mne_data()"
   ]
  },
  {
   "cell_type": "code",
   "execution_count": 71,
   "metadata": {},
   "outputs": [
    {
     "data": {
      "text/plain": [
       "(150000, 10)"
      ]
     },
     "execution_count": 71,
     "metadata": {},
     "output_type": "execute_result"
    }
   ],
   "source": [
    "eeg_data.shape"
   ]
  },
  {
   "cell_type": "code",
   "execution_count": 72,
   "metadata": {},
   "outputs": [
    {
     "data": {
      "text/plain": [
       "array([ 1.86731915e-06,  2.45119794e-06, -1.72114865e-07, -1.11623006e-06,\n",
       "       -1.92991288e-06,  3.36709268e-07,  1.55441976e-06,  2.30839167e-06,\n",
       "        2.00779940e-06, -4.26471722e-07])"
      ]
     },
     "execution_count": 72,
     "metadata": {},
     "output_type": "execute_result"
    }
   ],
   "source": [
    "eeg_data[1,:]"
   ]
  },
  {
   "cell_type": "code",
   "execution_count": 73,
   "metadata": {},
   "outputs": [
    {
     "data": {
      "text/plain": [
       "[<matplotlib.lines.Line2D at 0x292ab7190>]"
      ]
     },
     "execution_count": 73,
     "metadata": {},
     "output_type": "execute_result"
    },
    {
     "data": {
      "image/png": "[encoded data removed]",
      "text/plain": [
       "<Figure size 432x288 with 1 Axes>"
      ]
     },
     "metadata": {
      "needs_background": "light"
     },
     "output_type": "display_data"
    }
   ],
   "source": [
    "plt.plot(np.arange(0,sim_time,1/fs),eeg_data[:,i])"
   ]
  },
  {
   "cell_type": "markdown",
   "metadata": {},
   "source": [
    "# Simple feature extraction for EEG data"
   ]
  },
  {
   "cell_type": "code",
   "execution_count": 74,
   "metadata": {},
   "outputs": [],
   "source": [
    "def get_f_bands(f):\n",
    "    f_sw = [k for k in range(len(f)) if f[k]<=1.5 and f[k]>0.1]\n",
    "    #literature suggests a robust correlation between EEG <1.5Hz and cortical MRI\n",
    "    f_delta = [k for k in range(len(f)) if f[k]>1.5 and f[k]<=4]\n",
    "    f_theta = [k for k in range(len(f)) if f[k]>4 and f[k]<=8]\n",
    "    f_alpha = [k for k in range(len(f)) if f[k]>8 and f[k]<=12]\n",
    "    f_beta = [k for k in range(len(f)) if f[k]>12 and f[k]<=24]\n",
    "    f_gamma = [k for k in range(len(f)) if f[k]>24]\n",
    "    f_bands = [f_sw,f_delta,f_theta,f_alpha,f_beta,f_gamma]\n",
    "    return f_bands\n",
    "\n",
    "def get_power_data(data,window=2,use_mne=0,r=fs):\n",
    "    #data - mne readable file (if use_mne) or numpy array (ch_data,ch)\n",
    "    #window = size of sample window\n",
    "    #r - moving avg sliding window, default to 1 second\n",
    "    if use_mne: \n",
    "        raw=mne.io.read_raw_brainvision(file,preload=True).resample(fs, npad='auto')\n",
    "        eeg = raw.copy().pick_types(meg=False, eeg=True, eog=False)\n",
    "        eeg_data = eeg[:][0]\n",
    "    else:\n",
    "        eeg_data = data\n",
    "    f, t, Sxx = spectrogram_lspopt(eeg_data[:,0], fs=fs,nperseg=window*fs,noverlap=window*fs-1,c_parameter=20)\n",
    "    f_bands = get_f_bands(f)\n",
    "    p_len = len(pd.Series(np.sum(Sxx[f_bands[0],:],axis=0)).rolling(r).median()[r-1:])\n",
    "    power_data = np.zeros((p_len,eeg_data.shape[1]*len(f_bands)))   \n",
    "    for i in range(eeg_data.shape[1]):\n",
    "        eeg_data[:,i] = butter_bandpass_filter(eeg_data[:,i])#optional butter bandpass\n",
    "        f, t, Sxx = spectrogram_lspopt(eeg_data[:,i], fs=fs,nperseg=window*fs,noverlap=window*fs-1,c_parameter=20)\n",
    "        for b in range(len(f_bands)):\n",
    "            power_data[:,i*len(f_bands)+b] = pd.Series(np.sum(Sxx[f_bands[b],:],axis=0)).rolling(r).median()[r-1:]\n",
    "        print('Channel ' + str(i+1)+' done')\n",
    "    power_data = np.log(power_data)\n",
    "    return power_data,t[r-1:]"
   ]
  },
  {
   "cell_type": "code",
   "execution_count": 75,
   "metadata": {
    "scrolled": true
   },
   "outputs": [
    {
     "name": "stdout",
     "output_type": "stream",
     "text": [
      "Channel 1 done\n",
      "Channel 2 done\n",
      "Channel 3 done\n",
      "Channel 4 done\n",
      "Channel 5 done\n",
      "Channel 6 done\n",
      "Channel 7 done\n",
      "Channel 8 done\n",
      "Channel 9 done\n",
      "Channel 10 done\n"
     ]
    }
   ],
   "source": [
    "data_list = [eeg_data]#eeg_data or list of files\n",
    "power_data = []\n",
    "t_data = []\n",
    "for data in data_list:\n",
    "    p,t=get_power_data(data)\n",
    "    t_data.append(t)\n",
    "    power_data.append(p)"
   ]
  },
  {
   "cell_type": "code",
   "execution_count": 84,
   "metadata": {},
   "outputs": [
    {
     "data": {
      "text/plain": [
       "(149252, 60)"
      ]
     },
     "execution_count": 84,
     "metadata": {},
     "output_type": "execute_result"
    }
   ],
   "source": [
    "power_data[0].shape"
   ]
  },
  {
   "cell_type": "markdown",
   "metadata": {},
   "source": [
    "# Marker extraction code (if they exists)"
   ]
  },
  {
   "cell_type": "code",
   "execution_count": 78,
   "metadata": {},
   "outputs": [],
   "source": [
    "#raw=mne.io.read_raw_brainvision(EEG_files[0],preload=True)\n",
    "#annot = mne.read_annotations('mark_test.vmrk')\n",
    "#raw.set_annotations(annot)"
   ]
  },
  {
   "cell_type": "markdown",
   "metadata": {},
   "source": [
    "annot = mne.read_annotations(EEG_mark[1],1000)\n",
    "annot"
   ]
  },
  {
   "cell_type": "markdown",
   "metadata": {},
   "source": [
    "# Simulation code"
   ]
  },
  {
   "cell_type": "code",
   "execution_count": 221,
   "metadata": {},
   "outputs": [],
   "source": [
    "def get_MRI_baseline():\n",
    "    fimg, fbvals, fbvecs = get_fnames('small_64D')\n",
    "    bvals, bvecs = read_bvals_bvecs(fbvals, fbvecs)\n",
    "    bvals = np.concatenate((bvals, bvals * 2), axis=0)\n",
    "    bvecs = np.concatenate((bvecs, bvecs), axis=0)\n",
    "    gtab = gradient_table(bvals, bvecs)\n",
    "    eeg= np.array([1.45704796e-06, 1.75558268e-06, 1.55654514e-06, 1.44484317e-06,\n",
    "       2.11409969e-06, 4.20040075e-06, 3.64490848e-06, 3.12608849e-06,\n",
    "       1.26340068e-06, 6.83264224e-07])\n",
    "    n = np.array([np.mean(eeg),np.std(eeg)])\n",
    "    mevals =np.concatenate((eeg, n), axis=None).reshape(4,3)\n",
    "    angles = [(90, 0), (90, 0), (20, 0), (20, 0)]\n",
    "    fie = 0.49  # intra-axonal water fraction\n",
    "    fractions = [fie*50, (1 - fie)*50, fie*50, (1 - fie)*50]\n",
    "    signal_dki, dt, kt = multi_tensor_dki(gtab, mevals, S0=200, angles=angles,\n",
    "                                          fractions=fractions, snr=None)\n",
    "    signal_noisy, dt, kt = multi_tensor_dki(gtab, mevals, S0=200,\n",
    "                                            angles=angles, fractions=fractions,\n",
    "                                            snr=10)\n",
    "    dt_evals, dt_evecs = decompose_tensor(from_lower_triangular(dt))\n",
    "    signal_dti = single_tensor(gtab, S0=200, evals=dt_evals, evecs=dt_evecs,\n",
    "                               snr=None)\n",
    "    \n",
    "    signal =np.array([])\n",
    "    for i in range(3):\n",
    "        eeg= eeg_data[i*eeg_data.shape[0]//3,:]\n",
    "        n = np.array([np.mean(eeg),np.std(eeg)])\n",
    "        mevals =np.concatenate((eeg, n), axis=None).reshape(4,3)\n",
    "        signal_noisy, dt, kt = multi_tensor_dki(gtab, mevals, S0=200,\n",
    "                                            angles=angles, fractions=fractions,\n",
    "                                            snr=10)\n",
    "        signal = np.concatenate((signal, signal_noisy), axis=None)\n",
    "    signal =np.repeat(signal,20)\n",
    "    signal=signal.reshape((-1,20))\n",
    "        \n",
    "    return signal"
   ]
  },
  {
   "cell_type": "code",
   "execution_count": 222,
   "metadata": {},
   "outputs": [
    {
     "data": {
      "text/plain": [
       "150000"
      ]
     },
     "execution_count": 222,
     "metadata": {},
     "output_type": "execute_result"
    }
   ],
   "source": [
    "eeg_data.shape[0]"
   ]
  },
  {
   "cell_type": "code",
   "execution_count": 223,
   "metadata": {},
   "outputs": [],
   "source": [
    "MRI_data=get_MRI_baseline()"
   ]
  },
  {
   "cell_type": "code",
   "execution_count": 224,
   "metadata": {},
   "outputs": [],
   "source": [
    "MRI_data=MRI_data[:300,:]*(1e-07)"
   ]
  },
  {
   "cell_type": "code",
   "execution_count": 225,
   "metadata": {},
   "outputs": [
    {
     "data": {
      "text/plain": [
       "array([[2.03817421e-05, 2.03817421e-05, 2.03817421e-05, ...,\n",
       "        2.03817421e-05, 2.03817421e-05, 2.03817421e-05],\n",
       "       [2.05702474e-05, 2.05702474e-05, 2.05702474e-05, ...,\n",
       "        2.05702474e-05, 2.05702474e-05, 2.05702474e-05],\n",
       "       [1.75996749e-05, 1.75996749e-05, 1.75996749e-05, ...,\n",
       "        1.75996749e-05, 1.75996749e-05, 1.75996749e-05],\n",
       "       ...,\n",
       "       [1.82044349e-05, 1.82044349e-05, 1.82044349e-05, ...,\n",
       "        1.82044349e-05, 1.82044349e-05, 1.82044349e-05],\n",
       "       [1.69416132e-05, 1.69416132e-05, 1.69416132e-05, ...,\n",
       "        1.69416132e-05, 1.69416132e-05, 1.69416132e-05],\n",
       "       [2.04981605e-05, 2.04981605e-05, 2.04981605e-05, ...,\n",
       "        2.04981605e-05, 2.04981605e-05, 2.04981605e-05]])"
      ]
     },
     "execution_count": 225,
     "metadata": {},
     "output_type": "execute_result"
    }
   ],
   "source": [
    "MRI_data"
   ]
  },
  {
   "cell_type": "code",
   "execution_count": 226,
   "metadata": {},
   "outputs": [],
   "source": [
    "#encode some MRI data into EEGimport colorednoise as cn\n",
    "fs_MRI = 0.5\n",
    "beta = 0.2 # the colored noise exponent\n",
    "MRI_samples = int(fs_MRI*sim_time) # number of samples to generate (5 minutes of data)\n",
    "rois = 20\n",
    "#MRI_data = np.zeros((MRI_samples,rois))\n",
    "for i in range(rois):\n",
    "    MRI_data[:,i] -= cn.powerlaw_psd_gaussian(beta, MRI_samples)\n",
    "t_vec = (t_data[0]*fs).astype('int')\n",
    "MRI_data = np.repeat(MRI_data, 1/fs_MRI*fs,axis=0)\n",
    "MRI_data = MRI_data[t_vec,:]\n",
    "MRI_data = np.log(MRI_data-np.min(MRI_data)+1e-6)#mitigate effects of outliers\n",
    "#low_bands = list(np.arange(0,power_data[0].shape[1],6))+list(np.arange(1,power_data[0].shape[1],6))\n",
    "#MRI_data[:,0] += np.mean(power_data[0][:,low_bands],axis=1)*0.8#encode some MRI data \n",
    "#MRI_data[:,1] += np.mean(power_data[0][:,low_bands],axis=1)*0.8"
   ]
  },
  {
   "cell_type": "code",
   "execution_count": 228,
   "metadata": {},
   "outputs": [
    {
     "data": {
      "text/plain": [
       "array([[1.52270528, 1.24579559, 1.07630467, ..., 1.56753834, 1.48001337,\n",
       "        1.18412138],\n",
       "       [1.52048483, 1.05378004, 1.34815858, ..., 1.38251249, 1.40734371,\n",
       "        0.93837839],\n",
       "       [1.52048483, 1.05378004, 1.34815858, ..., 1.38251249, 1.40734371,\n",
       "        0.93837839],\n",
       "       ...,\n",
       "       [1.65809347, 1.55551017, 0.50967227, ..., 0.7702466 , 1.41159799,\n",
       "        1.17927906],\n",
       "       [1.65809347, 1.55551017, 0.50967227, ..., 0.7702466 , 1.41159799,\n",
       "        1.17927906],\n",
       "       [1.65809347, 1.55551017, 0.50967227, ..., 0.7702466 , 1.41159799,\n",
       "        1.17927906]])"
      ]
     },
     "execution_count": 228,
     "metadata": {},
     "output_type": "execute_result"
    }
   ],
   "source": [
    "MRI_data"
   ]
  },
  {
   "cell_type": "code",
   "execution_count": 229,
   "metadata": {},
   "outputs": [
    {
     "data": {
      "text/plain": [
       "(149252,)"
      ]
     },
     "execution_count": 229,
     "metadata": {},
     "output_type": "execute_result"
    }
   ],
   "source": [
    "t_vec.shape"
   ]
  },
  {
   "cell_type": "code",
   "execution_count": 230,
   "metadata": {},
   "outputs": [
    {
     "data": {
      "image/png": "[encoded data removed]",
      "text/plain": [
       "<Figure size 432x288 with 1 Axes>"
      ]
     },
     "metadata": {
      "needs_background": "light"
     },
     "output_type": "display_data"
    },
    {
     "data": {
      "image/png": "[encoded data removed]",
      "text/plain": [
       "<Figure size 432x288 with 1 Axes>"
      ]
     },
     "metadata": {
      "needs_background": "light"
     },
     "output_type": "display_data"
    },
    {
     "data": {
      "image/png": "[encoded data removed]",
      "text/plain": [
       "<Figure size 432x288 with 1 Axes>"
      ]
     },
     "metadata": {
      "needs_background": "light"
     },
     "output_type": "display_data"
    },
    {
     "data": {
      "image/png": "[encoded data removed]",
      "text/plain": [
       "<Figure size 432x288 with 1 Axes>"
      ]
     },
     "metadata": {
      "needs_background": "light"
     },
     "output_type": "display_data"
    },
    {
     "data": {
      "image/png": "[encoded data removed]",
      "text/plain": [
       "<Figure size 432x288 with 1 Axes>"
      ]
     },
     "metadata": {
      "needs_background": "light"
     },
     "output_type": "display_data"
    }
   ],
   "source": [
    "#show the first n simulated time series\n",
    "for i in range(5):\n",
    "    plt.plot(t_vec,MRI_data[:149252,i])\n",
    "    plt.show()"
   ]
  },
  {
   "cell_type": "markdown",
   "metadata": {},
   "source": [
    "# Real MRI data extraction code"
   ]
  },
  {
   "cell_type": "code",
   "execution_count": 231,
   "metadata": {},
   "outputs": [],
   "source": [
    "#MRI_list = [MRI_data]#change these to location of MRI csv file"
   ]
  },
  {
   "cell_type": "code",
   "execution_count": 232,
   "metadata": {},
   "outputs": [],
   "source": [
    "def get_MRI_data(fs_MRI=3):\n",
    "    MRI_data = []\n",
    "    for i in range(len(MRI_list)):\n",
    "        t_vec = (t_data[i]*fs).astype('int')\n",
    "        MRI=pd.read_csv(MRI_files[i],header=None,sep=' ')\n",
    "        cols = [0]\n",
    "        MRI.drop(MRI.columns[cols],axis=1,inplace=True)\n",
    "        MRI = np.log(np.array(MRI))\n",
    "        MRI= np.repeat(MRI, 1/fs_MRI*fs,axis=1).transpose()\n",
    "        MRI = MRI[t_vec,:]\n",
    "        MRI-=np.mean(MRI,axis=0)\n",
    "        MRI/=np.std(MRI,axis=0)\n",
    "        MRI_data.append(MRI)\n",
    "    return MRI_data"
   ]
  },
  {
   "cell_type": "code",
   "execution_count": 233,
   "metadata": {},
   "outputs": [],
   "source": [
    "#MRI_data = get_MRI_data()"
   ]
  },
  {
   "cell_type": "markdown",
   "metadata": {},
   "source": [
    "# Randomize training, validation and testing sets\n",
    "\n",
    "An important point is that because of temporal dependence data cannot be sampled independently for creating validation and testing sets. We choose a compromise which segments data into a |training|validation|test| set with a random boundary between validation and training data."
   ]
  },
  {
   "cell_type": "code",
   "execution_count": 234,
   "metadata": {},
   "outputs": [],
   "source": [
    "MRI_data = [MRI_data]#change these to location of MRI csv file"
   ]
  },
  {
   "cell_type": "code",
   "execution_count": 235,
   "metadata": {},
   "outputs": [],
   "source": [
    "def rand_parts(seq, val_len,test_len):\n",
    "    #creates test and validation index sets\n",
    "    test_val_len = val_len+test_len\n",
    "    indices = range(len(seq) - (test_val_len - 1))\n",
    "    result = []\n",
    "    offset = 0\n",
    "    s = random.sample(indices, 1)[0]    \n",
    "    result.append(seq[s:s+val_len])\n",
    "    result.append(seq[s+val_len:s+val_len+test_len])\n",
    "    return result"
   ]
  },
  {
   "cell_type": "code",
   "execution_count": 236,
   "metadata": {},
   "outputs": [],
   "source": [
    "from sklearn.preprocessing import scale\n",
    "test_val_frac = 0.2\n",
    "test_inds = []\n",
    "power_test = []\n",
    "power_train = []\n",
    "power_val = []\n",
    "MRI_test = []\n",
    "MRI_val = []\n",
    "MRI_train = []\n",
    "for i in range(len(MRI_data)):\n",
    "    inds = (t_data[i]*fs).astype(int)\n",
    "    test_val_size = int(len(t_data[i])*test_val_frac)\n",
    "    tv_inds = rand_parts(inds,test_val_size,test_val_size)\n",
    "    power_test.append(scale(power_data[i][tv_inds[0],:]))\n",
    "    power_val.append(scale(power_data[i][tv_inds[1],:]))\n",
    "    power_train.append(scale(np.array([power_data[i][k,:] for k,x in enumerate(t_data[i]) \n",
    "                                 if k not in tv_inds[0] and k not in tv_inds[1]])))\n",
    "    MRI_test.append(scale(MRI_data[i][tv_inds[0],:]))\n",
    "    MRI_val.append(scale(MRI_data[i][tv_inds[1],:]))\n",
    "    MRI_train.append(scale(np.array([MRI_data[i][k,:] for k,x in enumerate(t_data[i]) \n",
    "                                 if k not in tv_inds[0] and k not in tv_inds[1]])))"
   ]
  },
  {
   "cell_type": "code",
   "execution_count": 237,
   "metadata": {},
   "outputs": [],
   "source": [
    "#concatenate all data sets for model training/testing/validation\n",
    "power_train = np.concatenate(power_train)\n",
    "MRI_train = np.concatenate(MRI_train)\n",
    "power_val = np.concatenate(power_val)\n",
    "MRI_val = np.concatenate(MRI_val)\n",
    "power_test = np.concatenate(power_test)\n",
    "MRI_test = np.concatenate(MRI_test)"
   ]
  },
  {
   "cell_type": "code",
   "execution_count": 238,
   "metadata": {},
   "outputs": [],
   "source": [
    "#Optionally train only on low frequency EEG bands\n",
    "power_train = power_train[:,low_bands]\n",
    "power_val = power_val[:,low_bands]\n",
    "power_test = power_test[:,low_bands]"
   ]
  },
  {
   "cell_type": "markdown",
   "metadata": {},
   "source": [
    "## CNN model"
   ]
  },
  {
   "cell_type": "code",
   "execution_count": 239,
   "metadata": {},
   "outputs": [],
   "source": [
    "\n",
    "CNNmodel = tf.keras.Sequential()\n",
    "CNNmodel.add(tf.keras.layers.Dropout(0.2))\n",
    "CNNmodel.add(tf.keras.layers.Dense(128, input_shape=(power_train.shape[1],),activation=\"relu\"))\n",
    "CNNmodel.add(tf.keras.layers.Dropout(0.2))\n",
    "CNNmodel.add(tf.keras.layers.Dense(128,activation=\"relu\"))\n",
    "CNNmodel.add(tf.keras.layers.Dropout(0.2))\n",
    "CNNmodel.add(tf.keras.layers.Dense(MRI_train.shape[1],activation=\"linear\"))\n",
    "l = tf.keras.losses.LogCosh()\n",
    "CNNmodel.compile(optimizer='Adam', loss=l)"
   ]
  },
  {
   "cell_type": "code",
   "execution_count": 240,
   "metadata": {},
   "outputs": [
    {
     "data": {
      "text/plain": [
       "((89921, 20), (89921, 20))"
      ]
     },
     "execution_count": 240,
     "metadata": {},
     "output_type": "execute_result"
    }
   ],
   "source": [
    "power_train.shape,MRI_train.shape"
   ]
  },
  {
   "cell_type": "code",
   "execution_count": 241,
   "metadata": {},
   "outputs": [
    {
     "name": "stdout",
     "output_type": "stream",
     "text": [
      "Epoch 1/5\n",
      " 18/703 [..............................] - ETA: 4s - loss: 0.3686 "
     ]
    },
    {
     "name": "stderr",
     "output_type": "stream",
     "text": [
      "2022-04-29 18:41:10.305421: I tensorflow/core/grappler/optimizers/custom_graph_optimizer_registry.cc:113] Plugin optimizer for device_type GPU is enabled.\n"
     ]
    },
    {
     "name": "stdout",
     "output_type": "stream",
     "text": [
      "703/703 [==============================] - 4s 5ms/step - loss: 0.3208\n",
      "Epoch 2/5\n",
      "703/703 [==============================] - 4s 6ms/step - loss: 0.2912\n",
      "Epoch 3/5\n",
      "703/703 [==============================] - 4s 6ms/step - loss: 0.2755\n",
      "Epoch 4/5\n",
      "703/703 [==============================] - 4s 5ms/step - loss: 0.2650\n",
      "Epoch 5/5\n",
      "703/703 [==============================] - 4s 5ms/step - loss: 0.2579\n"
     ]
    },
    {
     "data": {
      "text/plain": [
       "<keras.callbacks.History at 0x303046d60>"
      ]
     },
     "execution_count": 241,
     "metadata": {},
     "output_type": "execute_result"
    }
   ],
   "source": [
    "random.seed(10062020)\n",
    "CNNmodel.fit(power_train, MRI_train, batch_size=128, epochs=5)"
   ]
  },
  {
   "cell_type": "code",
   "execution_count": 242,
   "metadata": {},
   "outputs": [
    {
     "name": "stderr",
     "output_type": "stream",
     "text": [
      "2022-04-29 18:41:31.540571: I tensorflow/core/grappler/optimizers/custom_graph_optimizer_registry.cc:113] Plugin optimizer for device_type GPU is enabled.\n"
     ]
    },
    {
     "name": "stdout",
     "output_type": "stream",
     "text": [
      "tf.Tensor(0.1995809, shape=(), dtype=float32)\n",
      "[[1.         0.72541548]\n",
      " [0.72541548 1.        ]]\n"
     ]
    }
   ],
   "source": [
    "y_pred=CNNmodel.predict(power_train)\n",
    "y = MRI_train\n",
    "y_pred_mean=np.mean(y_pred,axis=1)\n",
    "y_mean = np.mean(y,axis=1)\n",
    "print(l(y,y_pred))\n",
    "print(np.corrcoef(y_mean,y_pred_mean))"
   ]
  },
  {
   "cell_type": "code",
   "execution_count": 243,
   "metadata": {},
   "outputs": [
    {
     "data": {
      "text/plain": [
       "<matplotlib.legend.Legend at 0x30332e460>"
      ]
     },
     "execution_count": 243,
     "metadata": {},
     "output_type": "execute_result"
    },
    {
     "data": {
      "image/png": "[encoded data removed]",
      "text/plain": [
       "<Figure size 432x288 with 1 Axes>"
      ]
     },
     "metadata": {
      "needs_background": "light"
     },
     "output_type": "display_data"
    }
   ],
   "source": [
    "plt.plot(y_pred_mean,label='y_pred',alpha=0.5)\n",
    "plt.plot(y_mean,label='y',alpha=0.5)\n",
    "# plt.plot(np.transpose(MRI_data)[:,2],label='y')\n",
    "plt.legend()"
   ]
  },
  {
   "cell_type": "markdown",
   "metadata": {},
   "source": [
    "## LSTM Model "
   ]
  },
  {
   "cell_type": "code",
   "execution_count": 244,
   "metadata": {},
   "outputs": [],
   "source": [
    "import numpy as np\n",
    "import tensorflow as tf\n",
    "from tensorflow import keras\n",
    "from tensorflow.keras import layers\n",
    "from tensorflow.keras.layers import Embedding, Dense, LSTM\n",
    "model = tf.keras.Sequential()\n",
    "model.add(layers.Embedding(input_dim=power_train.shape[1], output_dim=64))\n",
    "model.add(LSTM(64))\n",
    "model.add(tf.keras.layers.Dense(128, input_shape=(power_train.shape[1],),activation=\"relu\"))\n",
    "model.add(tf.keras.layers.Dropout(0.2))\n",
    "model.add(tf.keras.layers.Dense(128,activation=\"relu\"))\n",
    "model.add(tf.keras.layers.Dropout(0.2))\n",
    "model.add(tf.keras.layers.Dense(MRI_train.shape[1],activation=\"linear\"))\n",
    "#l = tf.keras.losses.BinaryCrossentropy()\n",
    "l = tf.keras.losses.LogCosh()\n",
    "model.compile(optimizer='Adam', loss=l)\n"
   ]
  },
  {
   "cell_type": "code",
   "execution_count": 245,
   "metadata": {},
   "outputs": [
    {
     "name": "stdout",
     "output_type": "stream",
     "text": [
      "Epoch 1/5\n"
     ]
    },
    {
     "name": "stderr",
     "output_type": "stream",
     "text": [
      "2022-04-29 18:41:47.271539: I tensorflow/core/grappler/optimizers/custom_graph_optimizer_registry.cc:113] Plugin optimizer for device_type GPU is enabled.\n",
      "2022-04-29 18:41:47.437780: I tensorflow/core/grappler/optimizers/custom_graph_optimizer_registry.cc:113] Plugin optimizer for device_type GPU is enabled.\n"
     ]
    },
    {
     "name": "stdout",
     "output_type": "stream",
     "text": [
      "  4/703 [..............................] - ETA: 14s - loss: 0.3448 "
     ]
    },
    {
     "name": "stderr",
     "output_type": "stream",
     "text": [
      "2022-04-29 18:41:47.545471: I tensorflow/core/grappler/optimizers/custom_graph_optimizer_registry.cc:113] Plugin optimizer for device_type GPU is enabled.\n"
     ]
    },
    {
     "name": "stdout",
     "output_type": "stream",
     "text": [
      "703/703 [==============================] - 13s 18ms/step - loss: 0.3296\n",
      "Epoch 2/5\n",
      "703/703 [==============================] - 12s 18ms/step - loss: 0.2937\n",
      "Epoch 3/5\n",
      "703/703 [==============================] - 12s 17ms/step - loss: 0.2660\n",
      "Epoch 4/5\n",
      "703/703 [==============================] - 12s 17ms/step - loss: 0.2449\n",
      "Epoch 5/5\n",
      "703/703 [==============================] - 12s 17ms/step - loss: 0.2293\n"
     ]
    },
    {
     "data": {
      "text/plain": [
       "<keras.callbacks.History at 0x2d8762b50>"
      ]
     },
     "execution_count": 245,
     "metadata": {},
     "output_type": "execute_result"
    }
   ],
   "source": [
    "model.fit(power_train, MRI_train, batch_size=128, epochs=5)"
   ]
  },
  {
   "cell_type": "code",
   "execution_count": 246,
   "metadata": {},
   "outputs": [
    {
     "name": "stderr",
     "output_type": "stream",
     "text": [
      "2022-04-29 18:42:51.722555: I tensorflow/core/grappler/optimizers/custom_graph_optimizer_registry.cc:113] Plugin optimizer for device_type GPU is enabled.\n",
      "2022-04-29 18:42:51.762691: I tensorflow/core/grappler/optimizers/custom_graph_optimizer_registry.cc:113] Plugin optimizer for device_type GPU is enabled.\n"
     ]
    },
    {
     "name": "stdout",
     "output_type": "stream",
     "text": [
      "[[1.         0.66117973]\n",
      " [0.66117973 1.        ]]\n"
     ]
    }
   ],
   "source": [
    "y_pred=model.predict(power_train)\n",
    "y = MRI_train\n",
    "y_pred_mean=np.mean(y_pred,axis=1)\n",
    "y_mean = np.mean(y,axis=1)\n",
    "#print(l(y,y_pred))\n",
    "print(np.corrcoef(y_mean,y_pred_mean))"
   ]
  },
  {
   "cell_type": "code",
   "execution_count": 247,
   "metadata": {},
   "outputs": [
    {
     "data": {
      "text/plain": [
       "<matplotlib.legend.Legend at 0x2d85e3ac0>"
      ]
     },
     "execution_count": 247,
     "metadata": {},
     "output_type": "execute_result"
    },
    {
     "data": {
      "image/png": "[encoded data removed]",
      "text/plain": [
       "<Figure size 432x288 with 1 Axes>"
      ]
     },
     "metadata": {
      "needs_background": "light"
     },
     "output_type": "display_data"
    }
   ],
   "source": [
    "plt.plot(y_pred_mean,label='y_pred',alpha=0.5)\n",
    "plt.plot(y_mean,label='y',alpha=0.5)\n",
    "# plt.plot(np.transpose(MRI_data)[:,2],label='y')\n",
    "plt.legend()"
   ]
  },
  {
   "cell_type": "markdown",
   "metadata": {},
   "source": [
    "## RNN model "
   ]
  },
  {
   "cell_type": "code",
   "execution_count": 28,
   "metadata": {},
   "outputs": [],
   "source": [
    "import numpy as np\n",
    "import tensorflow as tf\n",
    "from tensorflow import keras\n",
    "from tensorflow.keras import layers\n",
    "model = tf.keras.Sequential()\n",
    "model.add(tf.keras.layers.Dropout(0.2))\n",
    "model.add(layers.Embedding(input_dim=power_train.shape[1], output_dim=64))\n",
    "\n",
    "# The output of GRU will be a 3D tensor of shape (batch_size, timesteps, 256)\n",
    "model.add(layers.GRU(256, return_sequences=True))\n",
    "\n",
    "# The output of SimpleRNN will be a 2D tensor of shape (batch_size, 128)\n",
    "model.add(layers.SimpleRNN(128))\n",
    "model.add(tf.keras.layers.Dense(128, input_shape=(power_train.shape[1],),activation=\"relu\"))\n",
    "model.add(tf.keras.layers.Dropout(0.2))\n",
    "model.add(tf.keras.layers.Dense(128,activation=\"relu\"))\n",
    "model.add(tf.keras.layers.Dropout(0.2))\n",
    "model.add(tf.keras.layers.Dense(MRI_train.shape[1],activation=\"linear\"))\n",
    "l = tf.keras.losses.LogCosh()\n",
    "model.compile(optimizer='Adam', loss=l)"
   ]
  },
  {
   "cell_type": "code",
   "execution_count": 29,
   "metadata": {},
   "outputs": [
    {
     "name": "stdout",
     "output_type": "stream",
     "text": [
      "Epoch 1/5\n"
     ]
    },
    {
     "name": "stderr",
     "output_type": "stream",
     "text": [
      "2022-04-27 22:14:49.504289: I tensorflow/core/grappler/optimizers/custom_graph_optimizer_registry.cc:113] Plugin optimizer for device_type GPU is enabled.\n",
      "2022-04-27 22:14:49.719401: I tensorflow/core/grappler/optimizers/custom_graph_optimizer_registry.cc:113] Plugin optimizer for device_type GPU is enabled.\n"
     ]
    },
    {
     "name": "stdout",
     "output_type": "stream",
     "text": [
      "\r",
      "  1/703 [..............................] - ETA: 15:58 - loss: 0.3391"
     ]
    },
    {
     "name": "stderr",
     "output_type": "stream",
     "text": [
      "2022-04-27 22:14:50.070945: I tensorflow/core/grappler/optimizers/custom_graph_optimizer_registry.cc:113] Plugin optimizer for device_type GPU is enabled.\n"
     ]
    },
    {
     "name": "stdout",
     "output_type": "stream",
     "text": [
      "703/703 [==============================] - 171s 242ms/step - loss: 0.3109\n",
      "Epoch 2/5\n",
      "703/703 [==============================] - 181s 257ms/step - loss: 0.2592\n",
      "Epoch 3/5\n",
      "703/703 [==============================] - 183s 260ms/step - loss: 0.2311\n",
      "Epoch 4/5\n",
      "703/703 [==============================] - 187s 267ms/step - loss: 0.2136\n",
      "Epoch 5/5\n",
      "703/703 [==============================] - 193s 274ms/step - loss: 0.2007\n"
     ]
    },
    {
     "data": {
      "text/plain": [
       "<keras.callbacks.History at 0x2ad888fd0>"
      ]
     },
     "execution_count": 29,
     "metadata": {},
     "output_type": "execute_result"
    }
   ],
   "source": [
    "model.fit(power_train, MRI_train, batch_size=128, epochs=5)"
   ]
  },
  {
   "cell_type": "code",
   "execution_count": 30,
   "metadata": {},
   "outputs": [
    {
     "name": "stderr",
     "output_type": "stream",
     "text": [
      "2022-04-27 22:30:04.393837: W tensorflow/python/util/util.cc:368] Sets are not currently considered sequences, but this may change in the future, so consider avoiding using them.\n",
      "WARNING:absl:Found untraced functions such as gru_cell_layer_call_fn, gru_cell_layer_call_and_return_conditional_losses while saving (showing 2 of 2). These functions will not be directly callable after loading.\n"
     ]
    },
    {
     "name": "stdout",
     "output_type": "stream",
     "text": [
      "INFO:tensorflow:Assets written to: ./modelRNN/assets\n"
     ]
    },
    {
     "name": "stderr",
     "output_type": "stream",
     "text": [
      "INFO:tensorflow:Assets written to: ./modelRNN/assets\n",
      "WARNING:absl:<keras.layers.recurrent.GRUCell object at 0x2ad850430> has the same name 'GRUCell' as a built-in Keras object. Consider renaming <class 'keras.layers.recurrent.GRUCell'> to avoid naming conflicts when loading with `tf.keras.models.load_model`. If renaming is not possible, pass the object in the `custom_objects` parameter of the load function.\n"
     ]
    }
   ],
   "source": [
    "model.save('./modelRNN')"
   ]
  },
  {
   "cell_type": "code",
   "execution_count": 31,
   "metadata": {},
   "outputs": [
    {
     "name": "stderr",
     "output_type": "stream",
     "text": [
      "2022-04-27 22:30:05.483045: I tensorflow/core/grappler/optimizers/custom_graph_optimizer_registry.cc:113] Plugin optimizer for device_type GPU is enabled.\n",
      "2022-04-27 22:30:05.536035: I tensorflow/core/grappler/optimizers/custom_graph_optimizer_registry.cc:113] Plugin optimizer for device_type GPU is enabled.\n"
     ]
    },
    {
     "name": "stdout",
     "output_type": "stream",
     "text": [
      "[[1.         0.70810529]\n",
      " [0.70810529 1.        ]]\n"
     ]
    }
   ],
   "source": [
    "y_pred=model.predict(power_train)\n",
    "y = MRI_train\n",
    "y_pred_mean=np.mean(y_pred,axis=1)\n",
    "y_mean = np.mean(y,axis=1)\n",
    "#print(l(y,y_pred))\n",
    "print(np.corrcoef(y_mean,y_pred_mean))"
   ]
  },
  {
   "cell_type": "code",
   "execution_count": 32,
   "metadata": {},
   "outputs": [
    {
     "data": {
      "text/plain": [
       "<matplotlib.legend.Legend at 0x2adf14580>"
      ]
     },
     "execution_count": 32,
     "metadata": {},
     "output_type": "execute_result"
    },
    {
     "data": {
      "image/png": "[encoded data removed]",
      "text/plain": [
       "<Figure size 432x288 with 1 Axes>"
      ]
     },
     "metadata": {
      "needs_background": "light"
     },
     "output_type": "display_data"
    }
   ],
   "source": [
    "plt.plot(y_pred_mean,label='y_pred',alpha=0.5)\n",
    "plt.plot(y_mean,label='y',alpha=0.5)\n",
    "# plt.plot(np.transpose(MRI_data)[:,2],label='y')\n",
    "plt.legend()"
   ]
  },
  {
   "cell_type": "markdown",
   "metadata": {},
   "source": [
    "## Graph CNN "
   ]
  },
  {
   "cell_type": "code",
   "execution_count": 248,
   "metadata": {},
   "outputs": [],
   "source": [
    "import torch\n"
   ]
  },
  {
   "cell_type": "code",
   "execution_count": 659,
   "metadata": {},
   "outputs": [],
   "source": [
    "from pyedflib import highlevel\n",
    "def write_edf(eeg_data):\n",
    "    # write an edf file\n",
    "    signals = power_train.reshape(20,-1)\n",
    "    #[:, :10].reshape(10,-1)\n",
    "\n",
    "    ch = ['EEG Fp1-LE', 'EEG F3-LE', 'EEG C3-LE', 'EEG P3-LE', 'EEG O1-LE', 'EEG F7-LE', 'EEG T3-LE', 'EEG T5-LE', 'EEG Fz-LE', 'EEG Fp2-LE', 'EEG F4-LE', 'EEG C4-LE', 'EEG P4-LE', 'EEG O2-LE', 'EEG F8-LE', 'EEG T4-LE', 'EEG T6-LE', 'EEG Cz-LE', 'EEG Pz-LE',\n",
    "     'EEG A2-A1']\n",
    "\n",
    "    channel_names = ch[:20]\n",
    "    print()\n",
    "    #['ch1', 'ch2', 'ch3', 'ch4', 'ch5', 'ch6','ch7','ch9','ch10','ch11']\n",
    "    signal_headers = highlevel.make_signal_headers(channel_names, sample_frequency=600)\n",
    "    highlevel.write_edf('edf_file.edf', signals, signal_headers)\n",
    "    return 'edf_file.edf'"
   ]
  },
  {
   "cell_type": "code",
   "execution_count": 660,
   "metadata": {},
   "outputs": [
    {
     "data": {
      "text/plain": [
       "(89921, 20)"
      ]
     },
     "execution_count": 660,
     "metadata": {},
     "output_type": "execute_result"
    }
   ],
   "source": [
    "power_train.shape"
   ]
  },
  {
   "cell_type": "code",
   "execution_count": 661,
   "metadata": {},
   "outputs": [
    {
     "name": "stdout",
     "output_type": "stream",
     "text": [
      "\n"
     ]
    },
    {
     "data": {
      "text/plain": [
       "'edf_file.edf'"
      ]
     },
     "execution_count": 661,
     "metadata": {},
     "output_type": "execute_result"
    }
   ],
   "source": [
    "write_edf(power_train)"
   ]
  },
  {
   "cell_type": "code",
   "execution_count": 662,
   "metadata": {},
   "outputs": [
    {
     "name": "stdout",
     "output_type": "stream",
     "text": [
      "Extracting EDF parameters from /Users/ssackstein/Desktop/JHU/Capstone/EEGtransformMRI/edf_file.edf...\n",
      "EDF file detected\n",
      "Setting channel info structure...\n",
      "Creating raw.info structure...\n",
      "\n",
      "\u001b[1mEEG Information.\n",
      "\u001b[0mNumber of Channels: 20\n",
      "Sample rate: 600.0 Hz.\n",
      "Duration: 149.998 seconds.\n",
      "Channel Names: ['EEG Fp1-LE', 'EEG F3-LE', 'EEG C3-LE', 'EEG P3-LE', 'EEG O1-LE', 'EEG F7-LE', 'EEG T3-LE', 'EEG T5-LE', 'EEG Fz-LE', 'EEG Fp2-LE', 'EEG F4-LE', 'EEG C4-LE', 'EEG P4-LE', 'EEG O2-LE', 'EEG F8-LE', 'EEG T4-LE', 'EEG T6-LE', 'EEG Cz-LE', 'EEG Pz-LE', 'EEG A2-A1']\n"
     ]
    }
   ],
   "source": [
    "import eegraph\n",
    "G = eegraph.Graph()\n",
    "file ='edf_file.edf'\n",
    "G.load_data(file)"
   ]
  },
  {
   "cell_type": "code",
   "execution_count": 663,
   "metadata": {},
   "outputs": [
    {
     "name": "stdout",
     "output_type": "stream",
     "text": [
      "\u001b[1mModel Data.\u001b[0m\n",
      "Squared_coherence_Estimator()\n",
      "Frequency Bands: ['delta', 'theta', 'alpha', 'beta', 'gamma'] [True, True, True, True, True]\n",
      "Intervals:  [(0, 89999.0)]\n",
      "\n",
      "Threshold: 0.001\n",
      "Number of graphs created: 5\n"
     ]
    }
   ],
   "source": [
    "graphs, connectivity_matrix = G.modelate(window_size = 600, bands = ['delta', 'theta', 'alpha', 'beta', 'gamma'],connectivity = 'squared_coherence',threshold=0.001)"
   ]
  },
  {
   "cell_type": "code",
   "execution_count": 664,
   "metadata": {},
   "outputs": [
    {
     "name": "stdout",
     "output_type": "stream",
     "text": [
      "0 165\n",
      "1 178\n",
      "2 188\n",
      "3 190\n",
      "4 190\n"
     ]
    }
   ],
   "source": [
    "for i in range(len(graphs.keys())): \n",
    "    #if len(graphs[i].edges) > 20:\n",
    "    print(i, len(graphs[i].edges))"
   ]
  },
  {
   "cell_type": "code",
   "execution_count": 665,
   "metadata": {},
   "outputs": [],
   "source": [
    "G.visualize(graphs[4], 'graph_1')"
   ]
  },
  {
   "cell_type": "code",
   "execution_count": 696,
   "metadata": {},
   "outputs": [],
   "source": [
    "def get_edgedict(nodes, node=None):\n",
    "    nodeslist=[i for i in nodes]\n",
    "    nodesval=[i for i in range(len(nodes))]\n",
    "    nodesdict= dict(zip(nodeslist,nodesval))\n",
    "    if node!=None:\n",
    "        return nodesdict, nodesdict[node]\n",
    "    return nodesdict, 0\n",
    "def per_edge(edge_list, nodes):\n",
    "    nodesdict, node = get_edgedict(nodes)\n",
    "    node_names = [i for i in nodesdict.keys()]\n",
    "    node_edg_flat =dict()\n",
    "    for i in node_names:\n",
    "        n=nodesdict[i]\n",
    "        if len(edge_list.edges(i))>5:\n",
    "            node_edg_flat[n]=[nodesdict[j[1]] for j in edge_list.edges(i)]\n",
    "        else:\n",
    "            node_edg_flat[n]=[n]*(len(edge_list.nodes)-1)\n",
    "    return node_edg_flat\n",
    "edges_per= per_edge(edge_list=graphs[3], nodes=graphs[3].nodes)    "
   ]
  },
  {
   "cell_type": "code",
   "execution_count": 712,
   "metadata": {},
   "outputs": [],
   "source": [
    "nodesdict,node_x =get_edgedict(nodes=graphs[3].nodes)"
   ]
  },
  {
   "cell_type": "code",
   "execution_count": 697,
   "metadata": {},
   "outputs": [
    {
     "data": {
      "text/plain": [
       "20"
      ]
     },
     "execution_count": 697,
     "metadata": {},
     "output_type": "execute_result"
    }
   ],
   "source": [
    "len(graphs[3].nodes)"
   ]
  },
  {
   "cell_type": "code",
   "execution_count": 698,
   "metadata": {},
   "outputs": [],
   "source": [
    "edges_min=min([len(i) for i in edges_per.values()])\n",
    "edges= [i[:edges_min] for i in edges_per.values()]\n"
   ]
  },
  {
   "cell_type": "code",
   "execution_count": 699,
   "metadata": {},
   "outputs": [
    {
     "data": {
      "text/plain": [
       "([[1, 2, 3, 4, 5, 6, 7, 8, 9, 10, 11, 12, 13, 14, 15, 16, 17, 18, 19],\n",
       "  [0, 2, 3, 4, 5, 6, 7, 8, 9, 10, 11, 12, 13, 14, 15, 16, 17, 18, 19],\n",
       "  [0, 1, 3, 4, 5, 6, 7, 8, 9, 10, 11, 12, 13, 14, 15, 16, 17, 18, 19],\n",
       "  [0, 1, 2, 4, 5, 6, 7, 8, 9, 10, 11, 12, 13, 14, 15, 16, 17, 18, 19],\n",
       "  [0, 1, 2, 3, 5, 6, 7, 8, 9, 10, 11, 12, 13, 14, 15, 16, 17, 18, 19],\n",
       "  [0, 1, 2, 3, 4, 6, 7, 8, 9, 10, 11, 12, 13, 14, 15, 16, 17, 18, 19],\n",
       "  [0, 1, 2, 3, 4, 5, 7, 8, 9, 10, 11, 12, 13, 14, 15, 16, 17, 18, 19],\n",
       "  [0, 1, 2, 3, 4, 5, 6, 8, 9, 10, 11, 12, 13, 14, 15, 16, 17, 18, 19],\n",
       "  [0, 1, 2, 3, 4, 5, 6, 7, 9, 10, 11, 12, 13, 14, 15, 16, 17, 18, 19],\n",
       "  [0, 1, 2, 3, 4, 5, 6, 7, 8, 10, 11, 12, 13, 14, 15, 16, 17, 18, 19],\n",
       "  [0, 1, 2, 3, 4, 5, 6, 7, 8, 9, 11, 12, 13, 14, 15, 16, 17, 18, 19],\n",
       "  [0, 1, 2, 3, 4, 5, 6, 7, 8, 9, 10, 12, 13, 14, 15, 16, 17, 18, 19],\n",
       "  [0, 1, 2, 3, 4, 5, 6, 7, 8, 9, 10, 11, 13, 14, 15, 16, 17, 18, 19],\n",
       "  [0, 1, 2, 3, 4, 5, 6, 7, 8, 9, 10, 11, 12, 14, 15, 16, 17, 18, 19],\n",
       "  [0, 1, 2, 3, 4, 5, 6, 7, 8, 9, 10, 11, 12, 13, 15, 16, 17, 18, 19],\n",
       "  [0, 1, 2, 3, 4, 5, 6, 7, 8, 9, 10, 11, 12, 13, 14, 16, 17, 18, 19],\n",
       "  [0, 1, 2, 3, 4, 5, 6, 7, 8, 9, 10, 11, 12, 13, 14, 15, 17, 18, 19],\n",
       "  [0, 1, 2, 3, 4, 5, 6, 7, 8, 9, 10, 11, 12, 13, 14, 15, 16, 18, 19],\n",
       "  [0, 1, 2, 3, 4, 5, 6, 7, 8, 9, 10, 11, 12, 13, 14, 15, 16, 17, 19],\n",
       "  [0, 1, 2, 3, 4, 5, 6, 7, 8, 9, 10, 11, 12, 13, 14, 15, 16, 17, 18]],\n",
       " 19)"
      ]
     },
     "execution_count": 699,
     "metadata": {},
     "output_type": "execute_result"
    }
   ],
   "source": [
    "edges,edges_min"
   ]
  },
  {
   "cell_type": "code",
   "execution_count": 700,
   "metadata": {},
   "outputs": [],
   "source": [
    "edges_array=np.array(edges).flatten()"
   ]
  },
  {
   "cell_type": "code",
   "execution_count": 702,
   "metadata": {},
   "outputs": [],
   "source": [
    "connect= [len(i) for i in edges_per.values()]\n",
    "c= edges_min\n",
    "l=[]\n",
    "for i in range(len(connect)*c):\n",
    "    if i%c==0:\n",
    "        l.append([int(i/c)]*c)\n",
    "l = np.array(l).flatten()"
   ]
  },
  {
   "cell_type": "code",
   "execution_count": 703,
   "metadata": {},
   "outputs": [
    {
     "data": {
      "text/plain": [
       "torch.Size([2, 380])"
      ]
     },
     "execution_count": 703,
     "metadata": {},
     "output_type": "execute_result"
    }
   ],
   "source": [
    "edge_index = torch.tensor(np.array([l,edges_array]))\n",
    "edge_index.shape"
   ]
  },
  {
   "cell_type": "code",
   "execution_count": 704,
   "metadata": {},
   "outputs": [],
   "source": [
    "weights=np.array([i[2] for i in graphs[4].edges().data(\"weight\", default=0.1)])"
   ]
  },
  {
   "cell_type": "code",
   "execution_count": 714,
   "metadata": {},
   "outputs": [
    {
     "data": {
      "text/plain": [
       "[('Fp1', 'F3', 0.0334379018521267),\n",
       " ('Fp1', 'C3', 0.16285139130542386),\n",
       " ('Fp1', 'P3', 0.21901074007313137),\n",
       " ('Fp1', 'O1', 0.13288905633430192),\n",
       " ('Fp1', 'F7', 0.09039383934091956),\n",
       " ('Fp1', 'T3', 0.1556204049373424),\n",
       " ('Fp1', 'T5', 0.10293044314372367),\n",
       " ('Fp1', 'Fz', 0.2698279472074552),\n",
       " ('Fp1', 'Fp2', 0.054341566111075136),\n",
       " ('Fp1', 'F4', 0.12328138983161081),\n",
       " ('Fp1', 'C4', 0.08019651298125259),\n",
       " ('Fp1', 'P4', 0.11982557302444137),\n",
       " ('Fp1', 'O2', 0.10256698512009896),\n",
       " ('Fp1', 'F8', 0.16660041327584446),\n",
       " ('Fp1', 'T4', 0.13372328702451247),\n",
       " ('Fp1', 'T6', 0.26105014695126455),\n",
       " ('Fp1', 'Cz', 0.12028643098596999),\n",
       " ('Fp1', 'Pz', 0.1380660724877201),\n",
       " ('F3', 'C3', 0.01924640055405097),\n",
       " ('F3', 'P3', 0.030970815683609827),\n",
       " ('F3', 'O1', 0.013880028247348908),\n",
       " ('F3', 'F7', 0.009762119537430477),\n",
       " ('F3', 'T3', 0.0872361417473323),\n",
       " ('F3', 'T5', 0.04212345526350254),\n",
       " ('F3', 'Fz', 0.015738269479533915),\n",
       " ('F3', 'Fp2', 0.03592844048342346),\n",
       " ('F3', 'F4', 0.026732432029454436),\n",
       " ('F3', 'C4', 0.04286109774166771),\n",
       " ('F3', 'P4', 0.08290044831147692),\n",
       " ('F3', 'O2', 0.049092603581257666),\n",
       " ('F3', 'F8', 0.019393094030596403),\n",
       " ('F3', 'T4', 0.045315335834015195),\n",
       " ('F3', 'T6', 0.013541239538314709),\n",
       " ('F3', 'Cz', 0.04181602667992068),\n",
       " ('F3', 'Pz', 0.026064884231947496),\n",
       " ('C3', 'P3', 0.19955983943886318),\n",
       " ('C3', 'O1', 0.32649367699415255),\n",
       " ('C3', 'F7', 0.10862414680557574),\n",
       " ('C3', 'T3', 0.16238538604389324),\n",
       " ('C3', 'T5', 0.11005234827708006),\n",
       " ('C3', 'Fz', 0.21393783649701462),\n",
       " ('C3', 'Fp2', 0.010583825965907703),\n",
       " ('C3', 'F4', 0.19870375633028384),\n",
       " ('C3', 'C4', 0.10655835474355506),\n",
       " ('C3', 'P4', 0.141833235012664),\n",
       " ('C3', 'O2', 0.16847157546865615),\n",
       " ('C3', 'F8', 0.21963867759987954),\n",
       " ('C3', 'T4', 0.17037489201533004),\n",
       " ('C3', 'T6', 0.27993271608456466),\n",
       " ('C3', 'Cz', 0.17786036582150885),\n",
       " ('C3', 'Pz', 0.1577322316152314),\n",
       " ('P3', 'O1', 0.1395479193217988),\n",
       " ('P3', 'F7', 0.05714547928212338),\n",
       " ('P3', 'T3', 0.08968113748564266),\n",
       " ('P3', 'T5', 0.17434885658852592),\n",
       " ('P3', 'Fz', 0.2347339784239852),\n",
       " ('P3', 'Fp2', 0.1184662113244392),\n",
       " ('P3', 'F4', 0.09286099179181465),\n",
       " ('P3', 'C4', 0.07464761690735514),\n",
       " ('P3', 'P4', 0.06771893592291814),\n",
       " ('P3', 'O2', 0.1263412579999523),\n",
       " ('P3', 'F8', 0.18313698766196146),\n",
       " ('P3', 'T4', 0.06805628838607432),\n",
       " ('P3', 'T6', 0.27091750772266027),\n",
       " ('P3', 'Cz', 0.1456031168904262),\n",
       " ('P3', 'Pz', 0.0608941815454817),\n",
       " ('O1', 'F7', 0.05402890402844486),\n",
       " ('O1', 'T3', 0.10887322205551832),\n",
       " ('O1', 'T5', 0.08260922772230268),\n",
       " ('O1', 'Fz', 0.16154735739199452),\n",
       " ('O1', 'Fp2', 0.012373041949704821),\n",
       " ('O1', 'F4', 0.14396734008150455),\n",
       " ('O1', 'C4', 0.08635731541457534),\n",
       " ('O1', 'P4', 0.11470474426821295),\n",
       " ('O1', 'O2', 0.21409029517481043),\n",
       " ('O1', 'F8', 0.1616939391419061),\n",
       " ('O1', 'T4', 0.23648310576812928),\n",
       " ('O1', 'T6', 0.223825849466227),\n",
       " ('O1', 'Cz', 0.1822683512433357),\n",
       " ('O1', 'Pz', 0.10574966744241217),\n",
       " ('F7', 'T3', 0.11367610957536234),\n",
       " ('F7', 'T5', 0.05902041163494531),\n",
       " ('F7', 'Fz', 0.20403470814175886),\n",
       " ('F7', 'Fp2', 0.0032327154498477226),\n",
       " ('F7', 'F4', 0.11539058894597536),\n",
       " ('F7', 'C4', 0.024667441452837495),\n",
       " ('F7', 'P4', 0.040161637487990995),\n",
       " ('F7', 'O2', 0.07686759546073152),\n",
       " ('F7', 'F8', 0.06350109795697594),\n",
       " ('F7', 'T4', 0.06327010742102974),\n",
       " ('F7', 'T6', 0.16213192585194403),\n",
       " ('F7', 'Cz', 0.17024947431681298),\n",
       " ('F7', 'Pz', 0.07293855708531473),\n",
       " ('T3', 'T5', 0.05111039719586273),\n",
       " ('T3', 'Fz', 0.0785914436043652),\n",
       " ('T3', 'Fp2', 0.005396205412961226),\n",
       " ('T3', 'F4', 0.09939446414498351),\n",
       " ('T3', 'C4', 0.11220824135866268),\n",
       " ('T3', 'P4', 0.06322869126982096),\n",
       " ('T3', 'O2', 0.06836753396479449),\n",
       " ('T3', 'F8', 0.1276395980662308),\n",
       " ('T3', 'T4', 0.21814292229880725),\n",
       " ('T3', 'T6', 0.26177750093192137),\n",
       " ('T3', 'Cz', 0.22041007280527225),\n",
       " ('T3', 'Pz', 0.11409173854741346),\n",
       " ('T5', 'Fz', 0.19726302301009266),\n",
       " ('T5', 'Fp2', 0.0254500074660342),\n",
       " ('T5', 'F4', 0.09061675864097536),\n",
       " ('T5', 'C4', 0.04885798654388889),\n",
       " ('T5', 'P4', 0.24554866071973663),\n",
       " ('T5', 'O2', 0.1049593414007756),\n",
       " ('T5', 'F8', 0.14195392600775497),\n",
       " ('T5', 'T4', 0.15435357475119377),\n",
       " ('T5', 'T6', 0.13789192897881183),\n",
       " ('T5', 'Cz', 0.09658026816411557),\n",
       " ('T5', 'Pz', 0.11090072872618784),\n",
       " ('Fz', 'Fp2', 0.01822431495723214),\n",
       " ('Fz', 'F4', 0.08501703850668448),\n",
       " ('Fz', 'C4', 0.07165014431743998),\n",
       " ('Fz', 'P4', 0.10286462000503062),\n",
       " ('Fz', 'O2', 0.1406748265388856),\n",
       " ('Fz', 'F8', 0.17370091593445816),\n",
       " ('Fz', 'T4', 0.13283544438053937),\n",
       " ('Fz', 'T6', 0.2401042275060388),\n",
       " ('Fz', 'Cz', 0.18618773049030146),\n",
       " ('Fz', 'Pz', 0.09065697413244382),\n",
       " ('Fp2', 'F4', 0.008587845686893735),\n",
       " ('Fp2', 'C4', 0.005464559516869922),\n",
       " ('Fp2', 'P4', 0.00943726215599078),\n",
       " ('Fp2', 'O2', 0.035136355811144014),\n",
       " ('Fp2', 'F8', 0.031230982023403044),\n",
       " ('Fp2', 'T4', 0.01627059022668694),\n",
       " ('Fp2', 'T6', 0.010492425009169831),\n",
       " ('Fp2', 'Cz', 0.023352842808515958),\n",
       " ('Fp2', 'Pz', 0.012637140655140674),\n",
       " ('F4', 'C4', 0.07607711702911375),\n",
       " ('F4', 'P4', 0.1645365966885189),\n",
       " ('F4', 'O2', 0.0776754602519895),\n",
       " ('F4', 'F8', 0.11441626096151426),\n",
       " ('F4', 'T4', 0.12191290394965833),\n",
       " ('F4', 'T6', 0.1909691694027997),\n",
       " ('F4', 'Cz', 0.18361917004933662),\n",
       " ('F4', 'Pz', 0.1867132219604692),\n",
       " ('C4', 'P4', 0.03198098061283676),\n",
       " ('C4', 'O2', 0.09167194551103344),\n",
       " ('C4', 'F8', 0.2299157178702905),\n",
       " ('C4', 'T4', 0.04083236267805135),\n",
       " ('C4', 'T6', 0.11572215711218889),\n",
       " ('C4', 'Cz', 0.2177467778980052),\n",
       " ('C4', 'Pz', 0.04337317894219138),\n",
       " ('P4', 'O2', 0.09438583916640211),\n",
       " ('P4', 'F8', 0.13547130126025636),\n",
       " ('P4', 'T4', 0.1852493840778863),\n",
       " ('P4', 'T6', 0.1394384386443542),\n",
       " ('P4', 'Cz', 0.11420054991990634),\n",
       " ('P4', 'Pz', 0.11943145588581196),\n",
       " ('O2', 'F8', 0.23209330960935468),\n",
       " ('O2', 'T4', 0.10670676381755927),\n",
       " ('O2', 'T6', 0.18076287061443555),\n",
       " ('O2', 'Cz', 0.18531082292805112),\n",
       " ('O2', 'Pz', 0.09804890103641142),\n",
       " ('F8', 'T4', 0.1564246169923033),\n",
       " ('F8', 'T6', 0.2909920600779482),\n",
       " ('F8', 'Cz', 0.27456080917431774),\n",
       " ('F8', 'Pz', 0.13109239725257432),\n",
       " ('T4', 'T6', 0.15921037352521816),\n",
       " ('T4', 'Cz', 0.1101783634354823),\n",
       " ('T4', 'Pz', 0.08982825156703951),\n",
       " ('T6', 'Cz', 0.34039439221046025),\n",
       " ('T6', 'Pz', 0.17413014996286164),\n",
       " ('Cz', 'Pz', 0.21599561795147557)]"
      ]
     },
     "execution_count": 714,
     "metadata": {},
     "output_type": "execute_result"
    }
   ],
   "source": [
    "[i for i in graphs[4].edges().data(\"weight\", default=0.1)]"
   ]
  },
  {
   "cell_type": "code",
   "execution_count": 705,
   "metadata": {},
   "outputs": [],
   "source": [
    "nl=[]\n",
    "for j in graphs[4].edges().data(\"weight\", default=0.1):   \n",
    "    if nodesdict[j[0]] == node_x: \n",
    "        nl.append(j[2])\n",
    "       \n",
    "    "
   ]
  },
  {
   "cell_type": "code",
   "execution_count": null,
   "metadata": {},
   "outputs": [],
   "source": []
  },
  {
   "cell_type": "code",
   "execution_count": 749,
   "metadata": {},
   "outputs": [],
   "source": [
    "def node_weight(edge_list, nodes,weight):\n",
    "    nodesdict, node = get_edgedict(nodes)\n",
    "    node_names = [i for i in nodesdict.keys()]\n",
    "    node_edg_flat =dict()\n",
    "    for i in node_names:\n",
    "        n=nodesdict[i]\n",
    "        if len(edge_list.edges(i))>18:\n",
    "            nl=[0.1]\n",
    "            for j in weight.data(\"weight\", default=0.1):   \n",
    "                if nodesdict[j[0]] == node_x: \n",
    "                    nl.append(j[2])\n",
    "            node_edg_flat[n]=nl\n",
    "        else:\n",
    "            node_edg_flat[n]=[0.1]*(len(edge_list.nodes))\n",
    "    return node_edg_flat\n",
    "node_weight_per= node_weight(edge_list=graphs[3], nodes=graphs[3].nodes, weight=graphs[4].edges())    "
   ]
  },
  {
   "cell_type": "code",
   "execution_count": 750,
   "metadata": {},
   "outputs": [
    {
     "data": {
      "text/plain": [
       "(380,)"
      ]
     },
     "execution_count": 750,
     "metadata": {},
     "output_type": "execute_result"
    }
   ],
   "source": [
    "\n",
    "node_weight_per_min=min([len(i) for i in node_weight_per.values()])\n",
    "nweight= [i[:node_weight_per_min] for i in node_weight_per.values()]\n",
    "weight_array=np.array(nweight).flatten()\n",
    "weight_array.shape"
   ]
  },
  {
   "cell_type": "code",
   "execution_count": 751,
   "metadata": {},
   "outputs": [
    {
     "data": {
      "text/plain": [
       "19"
      ]
     },
     "execution_count": 751,
     "metadata": {},
     "output_type": "execute_result"
    }
   ],
   "source": [
    "node_weight_per_min"
   ]
  },
  {
   "cell_type": "code",
   "execution_count": 794,
   "metadata": {},
   "outputs": [],
   "source": [
    "weight_array=np.array(weight_array,np.double).astype(np.float32)"
   ]
  },
  {
   "cell_type": "code",
   "execution_count": 795,
   "metadata": {},
   "outputs": [],
   "source": [
    "edge_attr =torch.tensor(weight_array)\n",
    "#edge_attr=edge_attr.type(torch.DoubleTensor)"
   ]
  },
  {
   "cell_type": "code",
   "execution_count": 796,
   "metadata": {},
   "outputs": [
    {
     "data": {
      "text/plain": [
       "tensor([0.1000, 0.0334, 0.1629, 0.2190, 0.1329, 0.0904, 0.1556, 0.1029, 0.2698,\n",
       "        0.0543, 0.1233, 0.0802, 0.1198, 0.1026, 0.1666, 0.1337, 0.2611, 0.1203,\n",
       "        0.1381, 0.1000, 0.0334, 0.1629, 0.2190, 0.1329, 0.0904, 0.1556, 0.1029,\n",
       "        0.2698, 0.0543, 0.1233, 0.0802, 0.1198, 0.1026, 0.1666, 0.1337, 0.2611,\n",
       "        0.1203, 0.1381, 0.1000, 0.0334, 0.1629, 0.2190, 0.1329, 0.0904, 0.1556,\n",
       "        0.1029, 0.2698, 0.0543, 0.1233, 0.0802, 0.1198, 0.1026, 0.1666, 0.1337,\n",
       "        0.2611, 0.1203, 0.1381, 0.1000, 0.0334, 0.1629, 0.2190, 0.1329, 0.0904,\n",
       "        0.1556, 0.1029, 0.2698, 0.0543, 0.1233, 0.0802, 0.1198, 0.1026, 0.1666,\n",
       "        0.1337, 0.2611, 0.1203, 0.1381, 0.1000, 0.0334, 0.1629, 0.2190, 0.1329,\n",
       "        0.0904, 0.1556, 0.1029, 0.2698, 0.0543, 0.1233, 0.0802, 0.1198, 0.1026,\n",
       "        0.1666, 0.1337, 0.2611, 0.1203, 0.1381, 0.1000, 0.0334, 0.1629, 0.2190,\n",
       "        0.1329, 0.0904, 0.1556, 0.1029, 0.2698, 0.0543, 0.1233, 0.0802, 0.1198,\n",
       "        0.1026, 0.1666, 0.1337, 0.2611, 0.1203, 0.1381, 0.1000, 0.0334, 0.1629,\n",
       "        0.2190, 0.1329, 0.0904, 0.1556, 0.1029, 0.2698, 0.0543, 0.1233, 0.0802,\n",
       "        0.1198, 0.1026, 0.1666, 0.1337, 0.2611, 0.1203, 0.1381, 0.1000, 0.0334,\n",
       "        0.1629, 0.2190, 0.1329, 0.0904, 0.1556, 0.1029, 0.2698, 0.0543, 0.1233,\n",
       "        0.0802, 0.1198, 0.1026, 0.1666, 0.1337, 0.2611, 0.1203, 0.1381, 0.1000,\n",
       "        0.0334, 0.1629, 0.2190, 0.1329, 0.0904, 0.1556, 0.1029, 0.2698, 0.0543,\n",
       "        0.1233, 0.0802, 0.1198, 0.1026, 0.1666, 0.1337, 0.2611, 0.1203, 0.1381,\n",
       "        0.1000, 0.0334, 0.1629, 0.2190, 0.1329, 0.0904, 0.1556, 0.1029, 0.2698,\n",
       "        0.0543, 0.1233, 0.0802, 0.1198, 0.1026, 0.1666, 0.1337, 0.2611, 0.1203,\n",
       "        0.1381, 0.1000, 0.0334, 0.1629, 0.2190, 0.1329, 0.0904, 0.1556, 0.1029,\n",
       "        0.2698, 0.0543, 0.1233, 0.0802, 0.1198, 0.1026, 0.1666, 0.1337, 0.2611,\n",
       "        0.1203, 0.1381, 0.1000, 0.0334, 0.1629, 0.2190, 0.1329, 0.0904, 0.1556,\n",
       "        0.1029, 0.2698, 0.0543, 0.1233, 0.0802, 0.1198, 0.1026, 0.1666, 0.1337,\n",
       "        0.2611, 0.1203, 0.1381, 0.1000, 0.0334, 0.1629, 0.2190, 0.1329, 0.0904,\n",
       "        0.1556, 0.1029, 0.2698, 0.0543, 0.1233, 0.0802, 0.1198, 0.1026, 0.1666,\n",
       "        0.1337, 0.2611, 0.1203, 0.1381, 0.1000, 0.0334, 0.1629, 0.2190, 0.1329,\n",
       "        0.0904, 0.1556, 0.1029, 0.2698, 0.0543, 0.1233, 0.0802, 0.1198, 0.1026,\n",
       "        0.1666, 0.1337, 0.2611, 0.1203, 0.1381, 0.1000, 0.0334, 0.1629, 0.2190,\n",
       "        0.1329, 0.0904, 0.1556, 0.1029, 0.2698, 0.0543, 0.1233, 0.0802, 0.1198,\n",
       "        0.1026, 0.1666, 0.1337, 0.2611, 0.1203, 0.1381, 0.1000, 0.0334, 0.1629,\n",
       "        0.2190, 0.1329, 0.0904, 0.1556, 0.1029, 0.2698, 0.0543, 0.1233, 0.0802,\n",
       "        0.1198, 0.1026, 0.1666, 0.1337, 0.2611, 0.1203, 0.1381, 0.1000, 0.0334,\n",
       "        0.1629, 0.2190, 0.1329, 0.0904, 0.1556, 0.1029, 0.2698, 0.0543, 0.1233,\n",
       "        0.0802, 0.1198, 0.1026, 0.1666, 0.1337, 0.2611, 0.1203, 0.1381, 0.1000,\n",
       "        0.0334, 0.1629, 0.2190, 0.1329, 0.0904, 0.1556, 0.1029, 0.2698, 0.0543,\n",
       "        0.1233, 0.0802, 0.1198, 0.1026, 0.1666, 0.1337, 0.2611, 0.1203, 0.1381,\n",
       "        0.1000, 0.0334, 0.1629, 0.2190, 0.1329, 0.0904, 0.1556, 0.1029, 0.2698,\n",
       "        0.0543, 0.1233, 0.0802, 0.1198, 0.1026, 0.1666, 0.1337, 0.2611, 0.1203,\n",
       "        0.1381, 0.1000, 0.0334, 0.1629, 0.2190, 0.1329, 0.0904, 0.1556, 0.1029,\n",
       "        0.2698, 0.0543, 0.1233, 0.0802, 0.1198, 0.1026, 0.1666, 0.1337, 0.2611,\n",
       "        0.1203, 0.1381])"
      ]
     },
     "execution_count": 796,
     "metadata": {},
     "output_type": "execute_result"
    }
   ],
   "source": [
    "#edge_attr=edge_attr.double()\n",
    "edge_attr"
   ]
  },
  {
   "cell_type": "code",
   "execution_count": 780,
   "metadata": {},
   "outputs": [],
   "source": [
    "#edge_attr =torch.tensor([1. for i in range(edge_index.shape[1])])"
   ]
  },
  {
   "cell_type": "code",
   "execution_count": 797,
   "metadata": {},
   "outputs": [
    {
     "data": {
      "text/plain": [
       "(torch.Size([380]), torch.Size([2, 380]))"
      ]
     },
     "execution_count": 797,
     "metadata": {},
     "output_type": "execute_result"
    }
   ],
   "source": [
    "edge_attr.shape, edge_index.shape"
   ]
  },
  {
   "cell_type": "code",
   "execution_count": 798,
   "metadata": {},
   "outputs": [
    {
     "data": {
      "text/plain": [
       "RecurrentGCN(\n",
       "  (recurrent): DCRNN(\n",
       "    (conv_x_z): DConv(148, 128)\n",
       "    (conv_x_r): DConv(148, 128)\n",
       "    (conv_x_h): DConv(148, 128)\n",
       "  )\n",
       "  (linear): Linear(in_features=128, out_features=1, bias=True)\n",
       ")"
      ]
     },
     "execution_count": 798,
     "metadata": {},
     "output_type": "execute_result"
    }
   ],
   "source": [
    "import torch\n",
    "import torch.nn.functional as F\n",
    "from torch_geometric_temporal.nn.recurrent import DCRNN\n",
    "from tqdm import tqdm\n",
    "class RecurrentGCN(torch.nn.Module):\n",
    "    def __init__(self, node_features):\n",
    "        super(RecurrentGCN, self).__init__()\n",
    "        self.recurrent = DCRNN(node_features, 128, 1)\n",
    "        self.linear = torch.nn.Linear(128, 1)\n",
    "\n",
    "    def forward(self, x, edge_index, edge_weight):\n",
    "        h = self.recurrent(x, edge_index, edge_weight)\n",
    "        h = F.relu(h)\n",
    "        h = self.linear(h)\n",
    "        return h\n",
    "\n",
    "from torch_geometric_temporal.signal import temporal_signal_split\n",
    "\n",
    "\n",
    "\n",
    "model = RecurrentGCN(node_features = 20)\n",
    "\n",
    "optimizer = torch.optim.Adam(model.parameters(), lr=0.01)\n",
    "\n",
    "model.train()\n",
    "time=0\n",
    "#for epoch in tqdm(range(sim_time)):\n",
    "cost = 0\n",
    "\n",
    "y_hat = model(torch.tensor(power_train[:,:], dtype=torch.float), edge_index,edge_attr)\n",
    "cost = cost + torch.mean((y_hat-torch.tensor(MRI_train[:,:], dtype=torch.float))**2)\n",
    "cost = cost \n",
    "time+=1\n",
    "cost.backward()\n",
    "optimizer.step()\n",
    "optimizer.zero_grad()\n",
    "model.eval()\n"
   ]
  },
  {
   "cell_type": "code",
   "execution_count": 799,
   "metadata": {},
   "outputs": [
    {
     "data": {
      "text/plain": [
       "(89921, 20)"
      ]
     },
     "execution_count": 799,
     "metadata": {},
     "output_type": "execute_result"
    }
   ],
   "source": [
    "power_train[:,:].shape"
   ]
  },
  {
   "cell_type": "code",
   "execution_count": 800,
   "metadata": {},
   "outputs": [
    {
     "data": {
      "text/plain": [
       "((89921, 1), (89921, 20))"
      ]
     },
     "execution_count": 800,
     "metadata": {},
     "output_type": "execute_result"
    }
   ],
   "source": [
    "y_hat.detach().numpy().shape,MRI_train.shape"
   ]
  },
  {
   "cell_type": "code",
   "execution_count": 801,
   "metadata": {},
   "outputs": [
    {
     "name": "stdout",
     "output_type": "stream",
     "text": [
      "MSE: 1.0007\n"
     ]
    }
   ],
   "source": [
    "#cost = 0\n",
    "\n",
    "#y_hat = model(torch.tensor(power_train[:,:], dtype=torch.float), edge_index, edge_attr)\n",
    "#cost = cost + torch.mean((y_hat-torch.tensor(MRI_train[:,:], dtype=torch.float))**2)\n",
    "#cost = cost / (time+1)\n",
    "cost = cost.item()\n",
    "print(\"MSE: {:.4f}\".format(cost))"
   ]
  },
  {
   "cell_type": "code",
   "execution_count": 802,
   "metadata": {},
   "outputs": [],
   "source": [
    "y_pred=(torch.tensor(MRI_train[:,:], dtype=torch.float)-y_hat).detach().numpy()\n",
    "y = MRI_train\n",
    "y_pred_mean=np.mean(y_pred,axis=1)\n",
    "y_mean = np.mean(y,axis=1)\n"
   ]
  },
  {
   "cell_type": "code",
   "execution_count": 803,
   "metadata": {},
   "outputs": [
    {
     "name": "stdout",
     "output_type": "stream",
     "text": [
      "[[1.         0.99962736]\n",
      " [0.99962736 1.        ]]\n"
     ]
    }
   ],
   "source": [
    "print(np.corrcoef(y_mean,y_pred_mean))"
   ]
  },
  {
   "cell_type": "code",
   "execution_count": 804,
   "metadata": {},
   "outputs": [
    {
     "data": {
      "text/plain": [
       "<matplotlib.legend.Legend at 0x1589b4430>"
      ]
     },
     "execution_count": 804,
     "metadata": {},
     "output_type": "execute_result"
    },
    {
     "data": {
      "image/png": "[encoded data removed]",
      "text/plain": [
       "<Figure size 432x288 with 1 Axes>"
      ]
     },
     "metadata": {
      "needs_background": "light"
     },
     "output_type": "display_data"
    }
   ],
   "source": [
    "plt.plot(y_pred_mean,label='y_pred',alpha=0.5)\n",
    "plt.plot(y_mean,label='y',alpha=0.5)\n",
    "\n",
    "plt.legend()"
   ]
  },
  {
   "cell_type": "markdown",
   "metadata": {},
   "source": [
    "# Simple models based on simulated data does not generalize well\n",
    "The model based on simulated data does not generalize well."
   ]
  },
  {
   "cell_type": "code",
   "execution_count": 41,
   "metadata": {},
   "outputs": [
    {
     "name": "stdout",
     "output_type": "stream",
     "text": [
      "tf.Tensor(0.38337782, shape=(), dtype=float32)\n",
      "[[1.         0.08891975]\n",
      " [0.08891975 1.        ]]\n"
     ]
    }
   ],
   "source": [
    "y_pred=CNNmodel.predict(power_val)\n",
    "y = MRI_val\n",
    "y_pred_mean=np.mean(y_pred,axis=1)\n",
    "y_mean = np.mean(y,axis=1)\n",
    "print(l(y,y_pred))\n",
    "print(np.corrcoef(y_mean,y_pred_mean))"
   ]
  },
  {
   "cell_type": "code",
   "execution_count": 42,
   "metadata": {
    "scrolled": true
   },
   "outputs": [
    {
     "data": {
      "text/plain": [
       "<matplotlib.legend.Legend at 0x2a0a2ab80>"
      ]
     },
     "execution_count": 42,
     "metadata": {},
     "output_type": "execute_result"
    },
    {
     "data": {
      "image/png": "[encoded data removed]",
      "text/plain": [
       "<Figure size 432x288 with 1 Axes>"
      ]
     },
     "metadata": {
      "needs_background": "light"
     },
     "output_type": "display_data"
    }
   ],
   "source": [
    "plt.plot(y_pred_mean,label='y_pred',alpha=0.5)\n",
    "plt.plot(y_mean,label='y',alpha=0.5)\n",
    "# plt.plot(np.transpose(MRI_data)[:,2],label='y')\n",
    "plt.legend()"
   ]
  },
  {
   "cell_type": "markdown",
   "metadata": {},
   "source": [
    "# Cortical MRI ROI Only Fitting\n",
    "\n",
    "This model is based on real cortical MRI ROIs from the Harvard-Oxford cortical parcellation."
   ]
  },
  {
   "cell_type": "code",
   "execution_count": 78,
   "metadata": {},
   "outputs": [],
   "source": [
    "cort_train = MRI_train[:,:4]\n",
    "cort_val = MRI_val[:,4:]\n",
    "cort_test = MRI_test[:,:4]\n",
    "sub_train = MRI_train[:,4:]\n",
    "sub_val = MRI_val[:,:4]\n",
    "sub_test = MRI_test[:,:4]"
   ]
  },
  {
   "cell_type": "code",
   "execution_count": 85,
   "metadata": {},
   "outputs": [
    {
     "data": {
      "text/plain": [
       "(89921, 4)"
      ]
     },
     "execution_count": 85,
     "metadata": {},
     "output_type": "execute_result"
    }
   ],
   "source": [
    "MRI_train[:,:4].shape"
   ]
  },
  {
   "cell_type": "code",
   "execution_count": 86,
   "metadata": {},
   "outputs": [],
   "source": [
    "\n",
    "model2 = tf.keras.Sequential()\n",
    "model2.add(tf.keras.layers.Dropout(0.2))\n",
    "model2.add(tf.keras.layers.Dense(128, input_shape=(cort_train.shape[1],),activation=\"relu\"))\n",
    "model2.add(tf.keras.layers.Dropout(0.2))\n",
    "model2.add(tf.keras.layers.Dense(128,activation=\"relu\"))\n",
    "model2.add(tf.keras.layers.Dropout(0.2))\n",
    "model2.add(tf.keras.layers.Dense(sub_train.shape[1],activation=\"linear\"))\n",
    "l = tf.keras.losses.LogCosh()\n",
    "model2.compile(optimizer='Adam', loss=l)"
   ]
  },
  {
   "cell_type": "code",
   "execution_count": 87,
   "metadata": {},
   "outputs": [
    {
     "name": "stdout",
     "output_type": "stream",
     "text": [
      "Epoch 1/50\n",
      "  9/703 [..............................] - ETA: 4s - loss: 0.3701  "
     ]
    },
    {
     "name": "stderr",
     "output_type": "stream",
     "text": [
      "2022-04-27 22:53:33.809845: I tensorflow/core/grappler/optimizers/custom_graph_optimizer_registry.cc:113] Plugin optimizer for device_type GPU is enabled.\n"
     ]
    },
    {
     "name": "stdout",
     "output_type": "stream",
     "text": [
      "703/703 [==============================] - 4s 6ms/step - loss: 0.3400\n",
      "Epoch 2/50\n",
      "703/703 [==============================] - 4s 6ms/step - loss: 0.3195\n",
      "Epoch 3/50\n",
      "703/703 [==============================] - 4s 6ms/step - loss: 0.3054\n",
      "Epoch 4/50\n",
      "703/703 [==============================] - 4s 5ms/step - loss: 0.2954\n",
      "Epoch 5/50\n",
      "703/703 [==============================] - 4s 6ms/step - loss: 0.2877\n",
      "Epoch 6/50\n",
      "703/703 [==============================] - 4s 6ms/step - loss: 0.2811\n",
      "Epoch 7/50\n",
      "703/703 [==============================] - 4s 6ms/step - loss: 0.2766\n",
      "Epoch 8/50\n",
      "703/703 [==============================] - 4s 6ms/step - loss: 0.2724\n",
      "Epoch 9/50\n",
      "703/703 [==============================] - 4s 6ms/step - loss: 0.2692\n",
      "Epoch 10/50\n",
      "703/703 [==============================] - 4s 6ms/step - loss: 0.2655\n",
      "Epoch 11/50\n",
      "703/703 [==============================] - 4s 6ms/step - loss: 0.2629\n",
      "Epoch 12/50\n",
      "703/703 [==============================] - 4s 6ms/step - loss: 0.2607\n",
      "Epoch 13/50\n",
      "703/703 [==============================] - 4s 6ms/step - loss: 0.2580\n",
      "Epoch 14/50\n",
      "703/703 [==============================] - 4s 5ms/step - loss: 0.2560\n",
      "Epoch 15/50\n",
      "703/703 [==============================] - 4s 6ms/step - loss: 0.2544\n",
      "Epoch 16/50\n",
      "703/703 [==============================] - 4s 6ms/step - loss: 0.2527\n",
      "Epoch 17/50\n",
      "703/703 [==============================] - 4s 6ms/step - loss: 0.2507\n",
      "Epoch 18/50\n",
      "703/703 [==============================] - 4s 6ms/step - loss: 0.2495\n",
      "Epoch 19/50\n",
      "703/703 [==============================] - 4s 6ms/step - loss: 0.2480\n",
      "Epoch 20/50\n",
      "703/703 [==============================] - 4s 6ms/step - loss: 0.2469\n",
      "Epoch 21/50\n",
      "703/703 [==============================] - 4s 6ms/step - loss: 0.2457\n",
      "Epoch 22/50\n",
      "703/703 [==============================] - 4s 6ms/step - loss: 0.2442\n",
      "Epoch 23/50\n",
      "703/703 [==============================] - 4s 5ms/step - loss: 0.2431\n",
      "Epoch 24/50\n",
      "703/703 [==============================] - 4s 5ms/step - loss: 0.2422\n",
      "Epoch 25/50\n",
      "703/703 [==============================] - 4s 5ms/step - loss: 0.2408\n",
      "Epoch 26/50\n",
      "703/703 [==============================] - 4s 5ms/step - loss: 0.2401\n",
      "Epoch 27/50\n",
      "703/703 [==============================] - 4s 5ms/step - loss: 0.2392\n",
      "Epoch 28/50\n",
      "703/703 [==============================] - 4s 5ms/step - loss: 0.2378\n",
      "Epoch 29/50\n",
      "703/703 [==============================] - 4s 5ms/step - loss: 0.2371\n",
      "Epoch 30/50\n",
      "703/703 [==============================] - 4s 6ms/step - loss: 0.2367\n",
      "Epoch 31/50\n",
      "703/703 [==============================] - 4s 5ms/step - loss: 0.2360\n",
      "Epoch 32/50\n",
      "703/703 [==============================] - 4s 6ms/step - loss: 0.2353\n",
      "Epoch 33/50\n",
      "703/703 [==============================] - 4s 5ms/step - loss: 0.2342\n",
      "Epoch 34/50\n",
      "703/703 [==============================] - 4s 6ms/step - loss: 0.2335\n",
      "Epoch 35/50\n",
      "703/703 [==============================] - 4s 6ms/step - loss: 0.2328\n",
      "Epoch 36/50\n",
      "703/703 [==============================] - 4s 6ms/step - loss: 0.2320\n",
      "Epoch 37/50\n",
      "703/703 [==============================] - 4s 5ms/step - loss: 0.2311\n",
      "Epoch 38/50\n",
      "703/703 [==============================] - 4s 6ms/step - loss: 0.2310\n",
      "Epoch 39/50\n",
      "703/703 [==============================] - 4s 6ms/step - loss: 0.2305\n",
      "Epoch 40/50\n",
      "703/703 [==============================] - 4s 6ms/step - loss: 0.2299\n",
      "Epoch 41/50\n",
      "703/703 [==============================] - 4s 6ms/step - loss: 0.2295\n",
      "Epoch 42/50\n",
      "703/703 [==============================] - 4s 5ms/step - loss: 0.2289\n",
      "Epoch 43/50\n",
      "703/703 [==============================] - 4s 6ms/step - loss: 0.2286\n",
      "Epoch 44/50\n",
      "703/703 [==============================] - 4s 6ms/step - loss: 0.2277\n",
      "Epoch 45/50\n",
      "703/703 [==============================] - 4s 6ms/step - loss: 0.2276\n",
      "Epoch 46/50\n",
      "703/703 [==============================] - 4s 5ms/step - loss: 0.2273\n",
      "Epoch 47/50\n",
      "703/703 [==============================] - 4s 6ms/step - loss: 0.2268\n",
      "Epoch 48/50\n",
      "703/703 [==============================] - 4s 6ms/step - loss: 0.2257\n",
      "Epoch 49/50\n",
      "703/703 [==============================] - 4s 6ms/step - loss: 0.2255\n",
      "Epoch 50/50\n",
      "703/703 [==============================] - 4s 6ms/step - loss: 0.2248\n"
     ]
    },
    {
     "data": {
      "text/plain": [
       "<keras.callbacks.History at 0x17e422d60>"
      ]
     },
     "execution_count": 87,
     "metadata": {},
     "output_type": "execute_result"
    }
   ],
   "source": [
    "random.seed(100)\n",
    "model2.fit(MRI_train[:,:4], MRI_train[:,4:], batch_size=128, epochs=50)"
   ]
  },
  {
   "cell_type": "code",
   "execution_count": 81,
   "metadata": {},
   "outputs": [],
   "source": [
    "#model2.save('/model2')"
   ]
  },
  {
   "cell_type": "code",
   "execution_count": 82,
   "metadata": {},
   "outputs": [],
   "source": [
    "#model2 = tf.keras.models.load_model('/MRI/model2')"
   ]
  },
  {
   "cell_type": "code",
   "execution_count": 91,
   "metadata": {
    "scrolled": true
   },
   "outputs": [
    {
     "name": "stdout",
     "output_type": "stream",
     "text": [
      "[[1.         0.75376143]\n",
      " [0.75376143 1.        ]]\n"
     ]
    }
   ],
   "source": [
    "y_pred=model2.predict(cort_train)\n",
    "y = MRI_train[:,4:]\n",
    "y_pred_mean=np.mean(y_pred,axis=1)\n",
    "y_mean = np.mean(y,axis=1)\n",
    "# print(l(y,y_pred))\n",
    "print(np.corrcoef(y_mean,y_pred_mean))"
   ]
  },
  {
   "cell_type": "code",
   "execution_count": 92,
   "metadata": {},
   "outputs": [
    {
     "data": {
      "text/plain": [
       "<matplotlib.legend.Legend at 0x3342e8d00>"
      ]
     },
     "execution_count": 92,
     "metadata": {},
     "output_type": "execute_result"
    },
    {
     "data": {
      "image/png": "[encoded data removed]",
      "text/plain": [
       "<Figure size 432x288 with 1 Axes>"
      ]
     },
     "metadata": {
      "needs_background": "light"
     },
     "output_type": "display_data"
    }
   ],
   "source": [
    "plt.plot(y_pred_mean,label='y_pred',alpha=0.5)\n",
    "plt.plot(y_mean,label='y',alpha=0.5)\n",
    "# plt.plot(np.transpose(MRI_data)[:,2],label='y')\n",
    "plt.legend()"
   ]
  },
  {
   "cell_type": "code",
   "execution_count": 75,
   "metadata": {},
   "outputs": [
    {
     "name": "stderr",
     "output_type": "stream",
     "text": [
      "2022-04-27 22:41:36.028934: I tensorflow/core/grappler/optimizers/custom_graph_optimizer_registry.cc:113] Plugin optimizer for device_type GPU is enabled.\n"
     ]
    },
    {
     "name": "stdout",
     "output_type": "stream",
     "text": [
      "tf.Tensor(0.3925294, shape=(), dtype=float32)\n",
      "[[1.         0.12406183]\n",
      " [0.12406183 1.        ]]\n"
     ]
    }
   ],
   "source": [
    "y_pred=model2.predict(cort_val)\n",
    "y = sub_val\n",
    "y_pred_mean=np.mean(y_pred,axis=1)\n",
    "y_mean = np.mean(y,axis=1)\n",
    "print(l(y,y_pred))\n",
    "print(np.corrcoef(y_mean,y_pred_mean))"
   ]
  },
  {
   "cell_type": "code",
   "execution_count": 76,
   "metadata": {
    "scrolled": false
   },
   "outputs": [
    {
     "data": {
      "text/plain": [
       "<matplotlib.legend.Legend at 0x2ef23b580>"
      ]
     },
     "execution_count": 76,
     "metadata": {},
     "output_type": "execute_result"
    },
    {
     "data": {
      "image/png": "[encoded data removed]",
      "text/plain": [
       "<Figure size 432x288 with 1 Axes>"
      ]
     },
     "metadata": {
      "needs_background": "light"
     },
     "output_type": "display_data"
    }
   ],
   "source": [
    "plt.plot(y_pred_mean,label='y_pred',alpha=0.5)\n",
    "plt.plot(y_mean,label='y',alpha=0.5)\n",
    "# plt.plot(np.transpose(MRI_data)[:,2],label='y')\n",
    "plt.legend()"
   ]
  },
  {
   "cell_type": "code",
   "execution_count": 93,
   "metadata": {},
   "outputs": [
    {
     "data": {
      "text/plain": [
       "<matplotlib.legend.Legend at 0x320f344c0>"
      ]
     },
     "execution_count": 93,
     "metadata": {},
     "output_type": "execute_result"
    },
    {
     "data": {
      "image/png": "[encoded data removed]",
      "text/plain": [
       "<Figure size 432x288 with 1 Axes>"
      ]
     },
     "metadata": {
      "needs_background": "light"
     },
     "output_type": "display_data"
    }
   ],
   "source": [
    "i=1\n",
    "y_pred=CNNmodel.predict(power_test)[:,i]\n",
    "y=MRI_test[:,i]\n",
    "plt.plot(y_pred,label='y_pred')\n",
    "plt.plot(y,label='y')\n",
    "# plt.plot(np.transpose(MRI_data)[:,2],label='y')\n",
    "plt.legend()"
   ]
  },
  {
   "cell_type": "code",
   "execution_count": 94,
   "metadata": {},
   "outputs": [
    {
     "data": {
      "text/plain": [
       "array([[1.        , 0.15808112],\n",
       "       [0.15808112, 1.        ]])"
      ]
     },
     "execution_count": 94,
     "metadata": {},
     "output_type": "execute_result"
    }
   ],
   "source": [
    "np.corrcoef(y_pred,y)"
   ]
  },
  {
   "cell_type": "markdown",
   "metadata": {},
   "source": [
    "# Conclusion\n",
    "\n",
    "Real data generalises marginally better than simulated MRI/EEG data based on mostly uncorrelated colored noise. More sophisticated models e.g. deep RNNs may help to generalise further."
   ]
  }
 ],
 "metadata": {
  "kernelspec": {
   "display_name": "Python (myenv)",
   "language": "python",
   "name": "base"
  },
  "language_info": {
   "codemirror_mode": {
    "name": "ipython",
    "version": 3
   },
   "file_extension": ".py",
   "mimetype": "text/x-python",
   "name": "python",
   "nbconvert_exporter": "python",
   "pygments_lexer": "ipython3",
   "version": "3.9.10"
  }
 },
 "nbformat": 4,
 "nbformat_minor": 2
}
