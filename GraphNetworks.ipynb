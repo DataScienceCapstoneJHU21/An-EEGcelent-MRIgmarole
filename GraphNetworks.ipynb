{
 "cells": [
  {
   "cell_type": "markdown",
   "metadata": {},
   "source": [
    "# Predicting MRI from simultaneous EEG recordings\n",
    "\n",
    "\n",
    "\n",
    "*EEG (avg or FCz referenced) to MRI BOLD translation (MRI with Harvard-Oxford Parcellated based on MNI152 space)*\n",
    "\n",
    "\n",
    "This notebook details filtering, feature extraction and basic model training for a simple feedforward ANN for predicting MRI BOLD signal from simultaneous EEG recordings. The program uses simple festures such as energy in the delta through to gamma bands as predictors (delta band power has shown to be correlated with cortical BOLD in resting wakefulness). Other possible features include low average frequency IMFs from EMD-based analysis and information "
   ]
  },
  {
   "cell_type": "code",
   "execution_count": 1,
   "metadata": {},
   "outputs": [],
   "source": [
    "import numpy as np\n",
    "import matplotlib.pyplot as plt\n",
    "from dipy.sims.voxel import (multi_tensor_dki, single_tensor)\n",
    "from dipy.data import get_fnames\n",
    "from dipy.io.gradients import read_bvals_bvecs\n",
    "from dipy.core.gradients import gradient_table\n",
    "from dipy.reconst.dti import (decompose_tensor, from_lower_triangular)"
   ]
  },
  {
   "cell_type": "code",
   "execution_count": 2,
   "metadata": {},
   "outputs": [],
   "source": [
    "import tensorflow as tf\n",
    "import mne#a package for analysing EEG data\n",
    "import matplotlib.pyplot as plt\n",
    "import pandas as pd\n",
    "import numpy as np\n",
    "from scipy.signal import butter,lfilter\n",
    "from lspopt.lsp import spectrogram_lspopt\n",
    "import random\n",
    "import sklearn\n",
    "import glob\n",
    "fs=250\n",
    "\n",
    "#Butterworth bandpass filter\n",
    "def butter_bandpass(lowcut, highcut, fs, order=5):\n",
    "    nyq = 0.5 * fs\n",
    "    low = lowcut / nyq\n",
    "    high = highcut / nyq\n",
    "    b, a = butter(order, [low, high], btype='band')\n",
    "    return b, a\n",
    "\n",
    "def butter_bandpass_filter(data, lowcut=0.1, highcut=100, fs=fs, order=5):\n",
    "    b, a = butter_bandpass(lowcut, highcut, fs, order=order)\n",
    "    y = lfilter(b, a, data)\n",
    "    return y"
   ]
  },
  {
   "cell_type": "markdown",
   "metadata": {},
   "source": [
    "# Simulated EEG data"
   ]
  },
  {
   "cell_type": "code",
   "execution_count": 3,
   "metadata": {},
   "outputs": [],
   "source": [
    "import colorednoise as cn\n",
    "sim_time = 600 #600 seconds of simulated data\n",
    "beta = 1 # the exponent\n",
    "eeg_samples = fs*sim_time # number of samples to generate\n",
    "channels = 10\n",
    "eeg_data = np.zeros((eeg_samples,channels))\n",
    "for i in range(channels):\n",
    "    eeg_data[:,i] = cn.powerlaw_psd_gaussian(beta, eeg_samples)"
   ]
  },
  {
   "cell_type": "code",
   "execution_count": 4,
   "metadata": {},
   "outputs": [],
   "source": [
    "import os.path as op\n",
    "\n",
    "import numpy as np\n",
    "\n",
    "import mne\n",
    "from mne.datasets import sample\n",
    "\n",
    "def generate_mne_data():\n",
    "    # For this example, we will be using the information of the sample subject.\n",
    "    # This will download the data if it not already on your machine. We also set\n",
    "    # the subjects directory so we don't need to give it to functions.\n",
    "    data_path = sample.data_path()\n",
    "    subjects_dir = op.join(data_path, 'subjects')\n",
    "    subject = 'sample'\n",
    "\n",
    "    # First, we get an info structure from the test subject.\n",
    "    evoked_fname = op.join(data_path, 'MEG', subject, 'sample_audvis-ave.fif')\n",
    "    info = mne.io.read_info(evoked_fname)\n",
    "    tstep = 1. / info['sfreq']\n",
    "\n",
    "    # To simulate sources, we also need a source space. It can be obtained from the\n",
    "    # forward solution of the sample subject.\n",
    "    fwd_fname = op.join(data_path, 'MEG', subject,\n",
    "                        'sample_audvis-meg-eeg-oct-6-fwd.fif')\n",
    "    fwd = mne.read_forward_solution(fwd_fname)\n",
    "    src = fwd['src']\n",
    "\n",
    "    # To select a region to activate, we use the caudal middle frontal to grow\n",
    "    # a region of interest.\n",
    "    selected_label = mne.read_labels_from_annot(\n",
    "        subject, regexp='caudalmiddlefrontal-lh', subjects_dir=subjects_dir)[0]\n",
    "    location = 'center'  # Use the center of the region as a seed.\n",
    "    extent = 10.  # Extent in mm of the region.\n",
    "    label = mne.label.select_sources(\n",
    "        subject, selected_label, location=location, extent=extent,\n",
    "        subjects_dir=subjects_dir)\n",
    "\n",
    "    # Define the time course of the activity for each source of the region to\n",
    "    # activate. Here we use a sine wave at 18 Hz with a peak amplitude\n",
    "    # of 10 nAm.\n",
    "    source_time_series = np.sin(2. * np.pi * 18. * np.arange(100) * tstep) * 10e-9\n",
    "\n",
    "    # Define when the activity occurs using events. The first column is the sample\n",
    "    # of the event, the second is not used, and the third is the event id. Here the\n",
    "    # events occur every 200 samples.\n",
    "    n_events = 50\n",
    "    events = np.zeros((n_events, 3), int)\n",
    "    events[:, 0] = 100 + 200 * np.arange(n_events)  # Events sample.\n",
    "    events[:, 2] = 1  # All events have the sample id.\n",
    "\n",
    "    # Create simulated source activity. Here we use a SourceSimulator whose\n",
    "    # add_data method is key. It specified where (label), what\n",
    "    # (source_time_series), and when (events) an event type will occur.\n",
    "    source_simulator = mne.simulation.SourceSimulator(src, tstep=tstep,duration=300)\n",
    "    source_simulator.add_data(label, source_time_series, events)\n",
    "\n",
    "    # Project the source time series to sensor space and add some noise. The source\n",
    "    # simulator can be given directly to the simulate_raw function.\n",
    "    raw = mne.simulation.simulate_raw(info, source_simulator, forward=fwd)\n",
    "    cov = mne.make_ad_hoc_cov(raw.info)\n",
    "    mne.simulation.add_noise(raw, cov, iir_filter=[0.2, -0.2, 0.04])\n",
    "\n",
    "\n",
    "    # Plot evoked data to get another view of the simulated raw data.\n",
    "    events = mne.find_events(raw)\n",
    "    epochs = mne.Epochs(raw, events, 1, tmin=-0.05, tmax=0.2)\n",
    "    evoked = epochs.average()\n",
    "    EEG_channels= ['EEG 001',\n",
    "     'EEG 002',\n",
    "     'EEG 003',\n",
    "     'EEG 004',\n",
    "     'EEG 005',\n",
    "     'EEG 006',\n",
    "     'EEG 007',\n",
    "     'EEG 008',\n",
    "     'EEG 009',\n",
    "     'EEG 010']\n",
    "    raw_temp=raw.copy()\n",
    "    raw_temp.pick_channels(EEG_channels)\n",
    "    t = mne.simulation.add_noise(raw_temp, cov, iir_filter=[0.2, -0.2, 0.04])\n",
    "    eeg_data= t.get_data()\n",
    "    eeg_data= eeg_data.reshape(180184,10)\n",
    "    eeg_data=eeg_data[:150000]\n",
    "    return eeg_data"
   ]
  },
  {
   "cell_type": "code",
   "execution_count": 5,
   "metadata": {},
   "outputs": [
    {
     "name": "stdout",
     "output_type": "stream",
     "text": [
      "    Read a total of 4 projection items:\n",
      "        PCA-v1 (1 x 102) active\n",
      "        PCA-v2 (1 x 102) active\n",
      "        PCA-v3 (1 x 102) active\n",
      "        Average EEG reference (1 x 60) active\n",
      "Reading forward solution from /Users/ssackstein/mne_data/MNE-sample-data/MEG/sample/sample_audvis-meg-eeg-oct-6-fwd.fif...\n",
      "    Reading a source space...\n",
      "    Computing patch statistics...\n",
      "    Patch information added...\n",
      "    Distance information added...\n",
      "    [done]\n",
      "    Reading a source space...\n",
      "    Computing patch statistics...\n",
      "    Patch information added...\n",
      "    Distance information added...\n",
      "    [done]\n",
      "    2 source spaces read\n",
      "    Desired named matrix (kind = 3523) not available\n",
      "    Read MEG forward solution (7498 sources, 306 channels, free orientations)\n",
      "    Desired named matrix (kind = 3523) not available\n",
      "    Read EEG forward solution (7498 sources, 60 channels, free orientations)\n",
      "    MEG and EEG forward solutions combined\n",
      "    Source spaces transformed to the forward solution coordinate frame\n",
      "Reading labels from parcellation...\n",
      "   read 1 labels from /Users/ssackstein/mne_data/MNE-sample-data/subjects/sample/label/lh.aparc.annot\n",
      "   read 0 labels from /Users/ssackstein/mne_data/MNE-sample-data/subjects/sample/label/rh.aparc.annot\n",
      "Setting up raw simulation: 1 position, \"cos2\" interpolation\n",
      "Event information stored on channel:              STI 014\n",
      "    Interval 0.000-1.665 sec\n",
      "Setting up forward solutions\n",
      "Computing gain matrix for transform #1/1\n",
      "    Interval 0.000-1.665 sec\n",
      "    Interval 0.000-1.665 sec\n",
      "    Interval 0.000-1.665 sec\n",
      "    Interval 0.000-1.665 sec\n",
      "    Interval 0.000-1.665 sec\n",
      "    Interval 0.000-1.665 sec\n",
      "    Interval 0.000-1.665 sec\n",
      "    Interval 0.000-1.665 sec\n",
      "    Interval 0.000-1.665 sec\n",
      "    Interval 0.000-1.665 sec\n",
      "    Interval 0.000-1.665 sec\n",
      "    Interval 0.000-1.665 sec\n",
      "    Interval 0.000-1.665 sec\n",
      "    Interval 0.000-1.665 sec\n",
      "    Interval 0.000-1.665 sec\n",
      "    Interval 0.000-1.665 sec\n",
      "    Interval 0.000-1.665 sec\n",
      "    Interval 0.000-1.665 sec\n",
      "    Interval 0.000-1.665 sec\n",
      "    Interval 0.000-1.665 sec\n",
      "    Interval 0.000-1.665 sec\n",
      "    Interval 0.000-1.665 sec\n",
      "    Interval 0.000-1.665 sec\n",
      "    Interval 0.000-1.665 sec\n",
      "    Interval 0.000-1.665 sec\n",
      "    Interval 0.000-1.665 sec\n",
      "    Interval 0.000-1.665 sec\n",
      "    Interval 0.000-1.665 sec\n",
      "    Interval 0.000-1.665 sec\n",
      "    Interval 0.000-1.665 sec\n",
      "    Interval 0.000-1.665 sec\n",
      "    Interval 0.000-1.665 sec\n",
      "    Interval 0.000-1.665 sec\n",
      "    Interval 0.000-1.665 sec\n",
      "    Interval 0.000-1.665 sec\n",
      "    Interval 0.000-1.665 sec\n",
      "    Interval 0.000-1.665 sec\n",
      "    Interval 0.000-1.665 sec\n",
      "    Interval 0.000-1.665 sec\n",
      "    Interval 0.000-1.665 sec\n",
      "    Interval 0.000-1.665 sec\n",
      "    Interval 0.000-1.665 sec\n",
      "    Interval 0.000-1.665 sec\n",
      "    Interval 0.000-1.665 sec\n",
      "    Interval 0.000-1.665 sec\n",
      "    Interval 0.000-1.665 sec\n",
      "    Interval 0.000-1.665 sec\n",
      "    Interval 0.000-1.665 sec\n",
      "    Interval 0.000-1.665 sec\n",
      "    Interval 0.000-1.665 sec\n",
      "    Interval 0.000-1.665 sec\n",
      "    Interval 0.000-1.665 sec\n",
      "    Interval 0.000-1.665 sec\n",
      "    Interval 0.000-1.665 sec\n",
      "    Interval 0.000-1.665 sec\n",
      "    Interval 0.000-1.665 sec\n",
      "    Interval 0.000-1.665 sec\n",
      "    Interval 0.000-1.665 sec\n",
      "    Interval 0.000-1.665 sec\n",
      "    Interval 0.000-1.665 sec\n",
      "    Interval 0.000-1.665 sec\n",
      "    Interval 0.000-1.665 sec\n",
      "    Interval 0.000-1.665 sec\n",
      "    Interval 0.000-1.665 sec\n",
      "    Interval 0.000-1.665 sec\n",
      "    Interval 0.000-1.665 sec\n",
      "    Interval 0.000-1.665 sec\n",
      "    Interval 0.000-1.665 sec\n",
      "    Interval 0.000-1.665 sec\n",
      "    Interval 0.000-1.665 sec\n",
      "    Interval 0.000-1.665 sec\n",
      "    Interval 0.000-1.665 sec\n",
      "    Interval 0.000-1.665 sec\n",
      "    Interval 0.000-1.665 sec\n",
      "    Interval 0.000-1.665 sec\n",
      "    Interval 0.000-1.665 sec\n",
      "    Interval 0.000-1.665 sec\n",
      "    Interval 0.000-1.665 sec\n",
      "    Interval 0.000-1.665 sec\n",
      "    Interval 0.000-1.665 sec\n",
      "    Interval 0.000-1.665 sec\n",
      "    Interval 0.000-1.665 sec\n",
      "    Interval 0.000-1.665 sec\n",
      "    Interval 0.000-1.665 sec\n",
      "    Interval 0.000-1.665 sec\n",
      "    Interval 0.000-1.665 sec\n",
      "    Interval 0.000-1.665 sec\n",
      "    Interval 0.000-1.665 sec\n",
      "    Interval 0.000-1.665 sec\n",
      "    Interval 0.000-1.665 sec\n",
      "    Interval 0.000-1.665 sec\n",
      "    Interval 0.000-1.665 sec\n",
      "    Interval 0.000-1.665 sec\n",
      "    Interval 0.000-1.665 sec\n",
      "    Interval 0.000-1.665 sec\n",
      "    Interval 0.000-1.665 sec\n",
      "    Interval 0.000-1.665 sec\n",
      "    Interval 0.000-1.665 sec\n",
      "    Interval 0.000-1.665 sec\n",
      "    Interval 0.000-1.665 sec\n",
      "    Interval 0.000-1.665 sec\n",
      "    Interval 0.000-1.665 sec\n",
      "    Interval 0.000-1.665 sec\n",
      "    Interval 0.000-1.665 sec\n",
      "    Interval 0.000-1.665 sec\n",
      "    Interval 0.000-1.665 sec\n",
      "    Interval 0.000-1.665 sec\n",
      "    Interval 0.000-1.665 sec\n",
      "    Interval 0.000-1.665 sec\n",
      "    Interval 0.000-1.665 sec\n",
      "    Interval 0.000-1.665 sec\n",
      "    Interval 0.000-1.665 sec\n",
      "    Interval 0.000-1.665 sec\n",
      "    Interval 0.000-1.665 sec\n",
      "    Interval 0.000-1.665 sec\n",
      "    Interval 0.000-1.665 sec\n",
      "    Interval 0.000-1.665 sec\n",
      "    Interval 0.000-1.665 sec\n",
      "    Interval 0.000-1.665 sec\n",
      "    Interval 0.000-1.665 sec\n",
      "    Interval 0.000-1.665 sec\n",
      "    Interval 0.000-1.665 sec\n",
      "    Interval 0.000-1.665 sec\n",
      "    Interval 0.000-1.665 sec\n",
      "    Interval 0.000-1.665 sec\n",
      "    Interval 0.000-1.665 sec\n",
      "    Interval 0.000-1.665 sec\n",
      "    Interval 0.000-1.665 sec\n",
      "    Interval 0.000-1.665 sec\n",
      "    Interval 0.000-1.665 sec\n",
      "    Interval 0.000-1.665 sec\n",
      "    Interval 0.000-1.665 sec\n",
      "    Interval 0.000-1.665 sec\n",
      "    Interval 0.000-1.665 sec\n",
      "    Interval 0.000-1.665 sec\n",
      "    Interval 0.000-1.665 sec\n",
      "    Interval 0.000-1.665 sec\n",
      "    Interval 0.000-1.665 sec\n",
      "    Interval 0.000-1.665 sec\n",
      "    Interval 0.000-1.665 sec\n",
      "    Interval 0.000-1.665 sec\n",
      "    Interval 0.000-1.665 sec\n",
      "    Interval 0.000-1.665 sec\n",
      "    Interval 0.000-1.665 sec\n",
      "    Interval 0.000-1.665 sec\n",
      "    Interval 0.000-1.665 sec\n",
      "    Interval 0.000-1.665 sec\n",
      "    Interval 0.000-1.665 sec\n",
      "    Interval 0.000-1.665 sec\n",
      "    Interval 0.000-1.665 sec\n",
      "    Interval 0.000-1.665 sec\n",
      "    Interval 0.000-1.665 sec\n",
      "    Interval 0.000-1.665 sec\n",
      "    Interval 0.000-1.665 sec\n",
      "    Interval 0.000-1.665 sec\n",
      "    Interval 0.000-1.665 sec\n",
      "    Interval 0.000-1.665 sec\n",
      "    Interval 0.000-1.665 sec\n",
      "    Interval 0.000-1.665 sec\n",
      "    Interval 0.000-1.665 sec\n",
      "    Interval 0.000-1.665 sec\n",
      "    Interval 0.000-1.665 sec\n",
      "    Interval 0.000-1.665 sec\n",
      "    Interval 0.000-1.665 sec\n",
      "    Interval 0.000-1.665 sec\n",
      "    Interval 0.000-1.665 sec\n",
      "    Interval 0.000-1.665 sec\n",
      "    Interval 0.000-1.665 sec\n",
      "    Interval 0.000-1.665 sec\n",
      "    Interval 0.000-1.665 sec\n",
      "    Interval 0.000-1.665 sec\n",
      "    Interval 0.000-1.665 sec\n",
      "    Interval 0.000-1.665 sec\n",
      "    Interval 0.000-1.665 sec\n",
      "    Interval 0.000-1.665 sec\n",
      "    Interval 0.000-1.665 sec\n",
      "    Interval 0.000-1.665 sec\n",
      "    Interval 0.000-1.665 sec\n",
      "    Interval 0.000-1.665 sec\n",
      "    Interval 0.000-0.306 sec\n",
      "    181 STC iterations provided\n",
      "[done]\n",
      "Adding noise to 366/376 channels (366 channels in cov)\n",
      "50 events found\n",
      "Event IDs: [1]\n",
      "Not setting metadata\n",
      "50 matching events found\n",
      "Setting baseline interval to [-0.049948803289596964, 0.0] sec\n",
      "Applying baseline correction (mode: mean)\n",
      "Created an SSP operator (subspace dimension = 4)\n",
      "4 projection items activated\n",
      "Removing projector <Projection | PCA-v1, active : True, n_channels : 102>\n",
      "Removing projector <Projection | PCA-v2, active : True, n_channels : 102>\n",
      "Removing projector <Projection | PCA-v3, active : True, n_channels : 102>\n",
      "Adding noise to 10/10 channels (366 channels in cov)\n"
     ]
    }
   ],
   "source": [
    "eeg_data =generate_mne_data()"
   ]
  },
  {
   "cell_type": "code",
   "execution_count": 6,
   "metadata": {},
   "outputs": [
    {
     "data": {
      "text/plain": [
       "(150000, 10)"
      ]
     },
     "execution_count": 6,
     "metadata": {},
     "output_type": "execute_result"
    }
   ],
   "source": [
    "eeg_data.shape"
   ]
  },
  {
   "cell_type": "code",
   "execution_count": 7,
   "metadata": {},
   "outputs": [
    {
     "data": {
      "text/plain": [
       "array([-2.76353870e-06, -1.67550069e-06, -8.26676019e-07, -8.28916530e-08,\n",
       "       -1.49870073e-06, -2.75358632e-06, -1.99213070e-06, -3.22915040e-07,\n",
       "        8.81643789e-07,  3.17481706e-08])"
      ]
     },
     "execution_count": 7,
     "metadata": {},
     "output_type": "execute_result"
    }
   ],
   "source": [
    "eeg_data[1,:]"
   ]
  },
  {
   "cell_type": "code",
   "execution_count": 8,
   "metadata": {},
   "outputs": [
    {
     "data": {
      "text/plain": [
       "[<matplotlib.lines.Line2D at 0x28df8f7c0>]"
      ]
     },
     "execution_count": 8,
     "metadata": {},
     "output_type": "execute_result"
    },
    {
     "data": {
      "image/png": "[encoded data removed]",
      "text/plain": [
       "<Figure size 432x288 with 1 Axes>"
      ]
     },
     "metadata": {
      "needs_background": "light"
     },
     "output_type": "display_data"
    }
   ],
   "source": [
    "plt.plot(np.arange(0,sim_time,1/fs),eeg_data[:,i])"
   ]
  },
  {
   "cell_type": "markdown",
   "metadata": {},
   "source": [
    "# Simple feature extraction for EEG data"
   ]
  },
  {
   "cell_type": "code",
   "execution_count": 9,
   "metadata": {},
   "outputs": [],
   "source": [
    "def get_f_bands(f):\n",
    "    f_sw = [k for k in range(len(f)) if f[k]<=1.5 and f[k]>0.1]\n",
    "    #literature suggests a robust correlation between EEG <1.5Hz and cortical MRI\n",
    "    f_delta = [k for k in range(len(f)) if f[k]>1.5 and f[k]<=4]\n",
    "    f_theta = [k for k in range(len(f)) if f[k]>4 and f[k]<=8]\n",
    "    f_alpha = [k for k in range(len(f)) if f[k]>8 and f[k]<=12]\n",
    "    f_beta = [k for k in range(len(f)) if f[k]>12 and f[k]<=24]\n",
    "    f_gamma = [k for k in range(len(f)) if f[k]>24]\n",
    "    f_bands = [f_sw,f_delta,f_theta,f_alpha,f_beta,f_gamma]\n",
    "    return f_bands\n",
    "\n",
    "def get_power_data(data,window=2,use_mne=0,r=fs):\n",
    "    #data - mne readable file (if use_mne) or numpy array (ch_data,ch)\n",
    "    #window = size of sample window\n",
    "    #r - moving avg sliding window, default to 1 second\n",
    "    if use_mne: \n",
    "        raw=mne.io.read_raw_brainvision(file,preload=True).resample(fs, npad='auto')\n",
    "        eeg = raw.copy().pick_types(meg=False, eeg=True, eog=False)\n",
    "        eeg_data = eeg[:][0]\n",
    "    else:\n",
    "        eeg_data = data\n",
    "    f, t, Sxx = spectrogram_lspopt(eeg_data[:,0], fs=fs,nperseg=window*fs,noverlap=window*fs-1,c_parameter=20)\n",
    "    f_bands = get_f_bands(f)\n",
    "    p_len = len(pd.Series(np.sum(Sxx[f_bands[0],:],axis=0)).rolling(r).median()[r-1:])\n",
    "    power_data = np.zeros((p_len,eeg_data.shape[1]*len(f_bands)))   \n",
    "    for i in range(eeg_data.shape[1]):\n",
    "        eeg_data[:,i] = butter_bandpass_filter(eeg_data[:,i])#optional butter bandpass\n",
    "        f, t, Sxx = spectrogram_lspopt(eeg_data[:,i], fs=fs,nperseg=window*fs,noverlap=window*fs-1,c_parameter=20)\n",
    "        for b in range(len(f_bands)):\n",
    "            power_data[:,i*len(f_bands)+b] = pd.Series(np.sum(Sxx[f_bands[b],:],axis=0)).rolling(r).median()[r-1:]\n",
    "        print('Channel ' + str(i+1)+' done')\n",
    "    power_data = np.log(power_data)\n",
    "    return power_data,t[r-1:]"
   ]
  },
  {
   "cell_type": "code",
   "execution_count": 10,
   "metadata": {
    "scrolled": true
   },
   "outputs": [
    {
     "name": "stdout",
     "output_type": "stream",
     "text": [
      "Channel 1 done\n",
      "Channel 2 done\n",
      "Channel 3 done\n",
      "Channel 4 done\n",
      "Channel 5 done\n",
      "Channel 6 done\n",
      "Channel 7 done\n",
      "Channel 8 done\n",
      "Channel 9 done\n",
      "Channel 10 done\n"
     ]
    }
   ],
   "source": [
    "data_list = [eeg_data]#eeg_data or list of files\n",
    "power_data = []\n",
    "t_data = []\n",
    "for data in data_list:\n",
    "    p,t=get_power_data(data)\n",
    "    t_data.append(t)\n",
    "    power_data.append(p)"
   ]
  },
  {
   "cell_type": "code",
   "execution_count": 11,
   "metadata": {},
   "outputs": [
    {
     "data": {
      "text/plain": [
       "(149252, 60)"
      ]
     },
     "execution_count": 11,
     "metadata": {},
     "output_type": "execute_result"
    }
   ],
   "source": [
    "power_data[0].shape"
   ]
  },
  {
   "cell_type": "markdown",
   "metadata": {},
   "source": [
    "# Marker extraction code (if they exists)"
   ]
  },
  {
   "cell_type": "code",
   "execution_count": 12,
   "metadata": {},
   "outputs": [],
   "source": [
    "#raw=mne.io.read_raw_brainvision(EEG_files[0],preload=True)\n",
    "#annot = mne.read_annotations('mark_test.vmrk')\n",
    "#raw.set_annotations(annot)"
   ]
  },
  {
   "cell_type": "markdown",
   "metadata": {},
   "source": [
    "annot = mne.read_annotations(EEG_mark[1],1000)\n",
    "annot"
   ]
  },
  {
   "cell_type": "markdown",
   "metadata": {},
   "source": [
    "# Simulation code"
   ]
  },
  {
   "cell_type": "code",
   "execution_count": 13,
   "metadata": {},
   "outputs": [],
   "source": [
    "def get_MRI_baseline():\n",
    "    fimg, fbvals, fbvecs = get_fnames('small_64D')\n",
    "    bvals, bvecs = read_bvals_bvecs(fbvals, fbvecs)\n",
    "    bvals = np.concatenate((bvals, bvals * 2), axis=0)\n",
    "    bvecs = np.concatenate((bvecs, bvecs), axis=0)\n",
    "    gtab = gradient_table(bvals, bvecs)\n",
    "    eeg= np.array([1.45704796e-06, 1.75558268e-06, 1.55654514e-06, 1.44484317e-06,\n",
    "       2.11409969e-06, 4.20040075e-06, 3.64490848e-06, 3.12608849e-06,\n",
    "       1.26340068e-06, 6.83264224e-07])\n",
    "    n = np.array([np.mean(eeg),np.std(eeg)])\n",
    "    mevals =np.concatenate((eeg, n), axis=None).reshape(4,3)\n",
    "    angles = [(90, 0), (90, 0), (20, 0), (20, 0)]\n",
    "    fie = 0.49  # intra-axonal water fraction\n",
    "    fractions = [fie*50, (1 - fie)*50, fie*50, (1 - fie)*50]\n",
    "    signal_dki, dt, kt = multi_tensor_dki(gtab, mevals, S0=200, angles=angles,\n",
    "                                          fractions=fractions, snr=None)\n",
    "    signal_noisy, dt, kt = multi_tensor_dki(gtab, mevals, S0=200,\n",
    "                                            angles=angles, fractions=fractions,\n",
    "                                            snr=10)\n",
    "    dt_evals, dt_evecs = decompose_tensor(from_lower_triangular(dt))\n",
    "    signal_dti = single_tensor(gtab, S0=200, evals=dt_evals, evecs=dt_evecs,\n",
    "                               snr=None)\n",
    "    \n",
    "    signal =np.array([])\n",
    "    for i in range(3):\n",
    "        eeg= eeg_data[i*eeg_data.shape[0]//3,:]\n",
    "        n = np.array([np.mean(eeg),np.std(eeg)])\n",
    "        mevals =np.concatenate((eeg, n), axis=None).reshape(4,3)\n",
    "        signal_noisy, dt, kt = multi_tensor_dki(gtab, mevals, S0=200,\n",
    "                                            angles=angles, fractions=fractions,\n",
    "                                            snr=10)\n",
    "        signal = np.concatenate((signal, signal_noisy), axis=None)\n",
    "    signal =np.repeat(signal,20)\n",
    "    signal=signal.reshape((-1,20))\n",
    "        \n",
    "    return signal"
   ]
  },
  {
   "cell_type": "code",
   "execution_count": 14,
   "metadata": {},
   "outputs": [
    {
     "data": {
      "text/plain": [
       "150000"
      ]
     },
     "execution_count": 14,
     "metadata": {},
     "output_type": "execute_result"
    }
   ],
   "source": [
    "eeg_data.shape[0]"
   ]
  },
  {
   "cell_type": "code",
   "execution_count": 15,
   "metadata": {},
   "outputs": [],
   "source": [
    "MRI_data=get_MRI_baseline()"
   ]
  },
  {
   "cell_type": "code",
   "execution_count": 16,
   "metadata": {},
   "outputs": [],
   "source": [
    "MRI_data=MRI_data[:300,:]*(1e-07)"
   ]
  },
  {
   "cell_type": "code",
   "execution_count": 17,
   "metadata": {},
   "outputs": [
    {
     "data": {
      "text/plain": [
       "array([[2.24293263e-05, 2.24293263e-05, 2.24293263e-05, ...,\n",
       "        2.24293263e-05, 2.24293263e-05, 2.24293263e-05],\n",
       "       [1.88617751e-05, 1.88617751e-05, 1.88617751e-05, ...,\n",
       "        1.88617751e-05, 1.88617751e-05, 1.88617751e-05],\n",
       "       [2.05429741e-05, 2.05429741e-05, 2.05429741e-05, ...,\n",
       "        2.05429741e-05, 2.05429741e-05, 2.05429741e-05],\n",
       "       ...,\n",
       "       [1.69101916e-05, 1.69101916e-05, 1.69101916e-05, ...,\n",
       "        1.69101916e-05, 1.69101916e-05, 1.69101916e-05],\n",
       "       [2.08754228e-05, 2.08754228e-05, 2.08754228e-05, ...,\n",
       "        2.08754228e-05, 2.08754228e-05, 2.08754228e-05],\n",
       "       [2.53096114e-05, 2.53096114e-05, 2.53096114e-05, ...,\n",
       "        2.53096114e-05, 2.53096114e-05, 2.53096114e-05]])"
      ]
     },
     "execution_count": 17,
     "metadata": {},
     "output_type": "execute_result"
    }
   ],
   "source": [
    "MRI_data"
   ]
  },
  {
   "cell_type": "code",
   "execution_count": 18,
   "metadata": {},
   "outputs": [],
   "source": [
    "#encode some MRI data into EEGimport colorednoise as cn\n",
    "fs_MRI = 0.5\n",
    "beta = 0.2 # the colored noise exponent\n",
    "MRI_samples = int(fs_MRI*sim_time) # number of samples to generate (5 minutes of data)\n",
    "rois = 20\n",
    "#MRI_data = np.zeros((MRI_samples,rois))\n",
    "for i in range(rois):\n",
    "    MRI_data[:,i] -= cn.powerlaw_psd_gaussian(beta, MRI_samples)\n",
    "t_vec = (t_data[0]*fs).astype('int')\n",
    "MRI_data = np.repeat(MRI_data, 1/fs_MRI*fs,axis=0)\n",
    "MRI_data = MRI_data[t_vec,:]\n",
    "MRI_data = np.log(MRI_data-np.min(MRI_data)+1e-6)#mitigate effects of outliers\n",
    "#low_bands = list(np.arange(0,power_data[0].shape[1],6))+list(np.arange(1,power_data[0].shape[1],6))\n",
    "#MRI_data[:,0] += np.mean(power_data[0][:,low_bands],axis=1)*0.8#encode some MRI data \n",
    "#MRI_data[:,1] += np.mean(power_data[0][:,low_bands],axis=1)*0.8"
   ]
  },
  {
   "cell_type": "code",
   "execution_count": 19,
   "metadata": {},
   "outputs": [
    {
     "data": {
      "text/plain": [
       "array([[1.41365699, 1.06074429, 1.37430437, ..., 1.09938685, 1.78843969,\n",
       "        1.54820169],\n",
       "       [0.94998125, 0.59007179, 0.77315389, ..., 1.12423644, 1.45260472,\n",
       "        0.97263451],\n",
       "       [0.94998125, 0.59007179, 0.77315389, ..., 1.12423644, 1.45260472,\n",
       "        0.97263451],\n",
       "       ...,\n",
       "       [1.57477089, 1.04042112, 0.69646587, ..., 1.42533351, 1.37092432,\n",
       "        0.87414572],\n",
       "       [1.57477089, 1.04042112, 0.69646587, ..., 1.42533351, 1.37092432,\n",
       "        0.87414572],\n",
       "       [1.57477089, 1.04042112, 0.69646587, ..., 1.42533351, 1.37092432,\n",
       "        0.87414572]])"
      ]
     },
     "execution_count": 19,
     "metadata": {},
     "output_type": "execute_result"
    }
   ],
   "source": [
    "MRI_data"
   ]
  },
  {
   "cell_type": "code",
   "execution_count": 20,
   "metadata": {},
   "outputs": [
    {
     "data": {
      "text/plain": [
       "(149252,)"
      ]
     },
     "execution_count": 20,
     "metadata": {},
     "output_type": "execute_result"
    }
   ],
   "source": [
    "t_vec.shape"
   ]
  },
  {
   "cell_type": "code",
   "execution_count": 21,
   "metadata": {},
   "outputs": [
    {
     "data": {
      "image/png": "[encoded data removed]",
      "text/plain": [
       "<Figure size 432x288 with 1 Axes>"
      ]
     },
     "metadata": {
      "needs_background": "light"
     },
     "output_type": "display_data"
    },
    {
     "data": {
      "image/png": "[encoded data removed]",
      "text/plain": [
       "<Figure size 432x288 with 1 Axes>"
      ]
     },
     "metadata": {
      "needs_background": "light"
     },
     "output_type": "display_data"
    },
    {
     "data": {
      "image/png": "[encoded data removed]",
      "text/plain": [
       "<Figure size 432x288 with 1 Axes>"
      ]
     },
     "metadata": {
      "needs_background": "light"
     },
     "output_type": "display_data"
    },
    {
     "data": {
      "image/png": "[encoded data removed]",
      "text/plain": [
       "<Figure size 432x288 with 1 Axes>"
      ]
     },
     "metadata": {
      "needs_background": "light"
     },
     "output_type": "display_data"
    },
    {
     "data": {
      "image/png": "[encoded data removed]",
      "text/plain": [
       "<Figure size 432x288 with 1 Axes>"
      ]
     },
     "metadata": {
      "needs_background": "light"
     },
     "output_type": "display_data"
    }
   ],
   "source": [
    "#show the first n simulated time series\n",
    "for i in range(5):\n",
    "    plt.plot(t_vec,MRI_data[:149252,i])\n",
    "    plt.show()"
   ]
  },
  {
   "cell_type": "markdown",
   "metadata": {},
   "source": [
    "# Real MRI data extraction code"
   ]
  },
  {
   "cell_type": "code",
   "execution_count": 22,
   "metadata": {},
   "outputs": [],
   "source": [
    "#MRI_list = [MRI_data]#change these to location of MRI csv file"
   ]
  },
  {
   "cell_type": "code",
   "execution_count": 23,
   "metadata": {},
   "outputs": [],
   "source": [
    "def get_MRI_data(fs_MRI=3):\n",
    "    MRI_data = []\n",
    "    for i in range(len(MRI_list)):\n",
    "        t_vec = (t_data[i]*fs).astype('int')\n",
    "        MRI=pd.read_csv(MRI_files[i],header=None,sep=' ')\n",
    "        cols = [0]\n",
    "        MRI.drop(MRI.columns[cols],axis=1,inplace=True)\n",
    "        MRI = np.log(np.array(MRI))\n",
    "        MRI= np.repeat(MRI, 1/fs_MRI*fs,axis=1).transpose()\n",
    "        MRI = MRI[t_vec,:]\n",
    "        MRI-=np.mean(MRI,axis=0)\n",
    "        MRI/=np.std(MRI,axis=0)\n",
    "        MRI_data.append(MRI)\n",
    "    return MRI_data"
   ]
  },
  {
   "cell_type": "code",
   "execution_count": 24,
   "metadata": {},
   "outputs": [],
   "source": [
    "#MRI_data = get_MRI_data()"
   ]
  },
  {
   "cell_type": "markdown",
   "metadata": {},
   "source": [
    "# Randomize training, validation and testing sets\n",
    "\n",
    "An important point is that because of temporal dependence data cannot be sampled independently for creating validation and testing sets. We choose a compromise which segments data into a |training|validation|test| set with a random boundary between validation and training data."
   ]
  },
  {
   "cell_type": "code",
   "execution_count": 25,
   "metadata": {},
   "outputs": [],
   "source": [
    "MRI_data = [MRI_data]#change these to location of MRI csv file"
   ]
  },
  {
   "cell_type": "code",
   "execution_count": 26,
   "metadata": {},
   "outputs": [],
   "source": [
    "def rand_parts(seq, val_len,test_len):\n",
    "    #creates test and validation index sets\n",
    "    test_val_len = val_len+test_len\n",
    "    indices = range(len(seq) - (test_val_len - 1))\n",
    "    result = []\n",
    "    offset = 0\n",
    "    s = random.sample(indices, 1)[0]    \n",
    "    result.append(seq[s:s+val_len])\n",
    "    result.append(seq[s+val_len:s+val_len+test_len])\n",
    "    return result"
   ]
  },
  {
   "cell_type": "code",
   "execution_count": 27,
   "metadata": {},
   "outputs": [],
   "source": [
    "from sklearn.preprocessing import scale\n",
    "test_val_frac = 0.2\n",
    "test_inds = []\n",
    "power_test = []\n",
    "power_train = []\n",
    "power_val = []\n",
    "MRI_test = []\n",
    "MRI_val = []\n",
    "MRI_train = []\n",
    "for i in range(len(MRI_data)):\n",
    "    inds = (t_data[i]*fs).astype(int)\n",
    "    test_val_size = int(len(t_data[i])*test_val_frac)\n",
    "    tv_inds = rand_parts(inds,test_val_size,test_val_size)\n",
    "    power_test.append(scale(power_data[i][tv_inds[0],:]))\n",
    "    power_val.append(scale(power_data[i][tv_inds[1],:]))\n",
    "    power_train.append(scale(np.array([power_data[i][k,:] for k,x in enumerate(t_data[i]) \n",
    "                                 if k not in tv_inds[0] and k not in tv_inds[1]])))\n",
    "    MRI_test.append(scale(MRI_data[i][tv_inds[0],:]))\n",
    "    MRI_val.append(scale(MRI_data[i][tv_inds[1],:]))\n",
    "    MRI_train.append(scale(np.array([MRI_data[i][k,:] for k,x in enumerate(t_data[i]) \n",
    "                                 if k not in tv_inds[0] and k not in tv_inds[1]])))"
   ]
  },
  {
   "cell_type": "code",
   "execution_count": 28,
   "metadata": {},
   "outputs": [],
   "source": [
    "#concatenate all data sets for model training/testing/validation\n",
    "power_train = np.concatenate(power_train)\n",
    "MRI_train = np.concatenate(MRI_train)\n",
    "power_val = np.concatenate(power_val)\n",
    "MRI_val = np.concatenate(MRI_val)\n",
    "power_test = np.concatenate(power_test)\n",
    "MRI_test = np.concatenate(MRI_test)"
   ]
  },
  {
   "cell_type": "code",
   "execution_count": 30,
   "metadata": {},
   "outputs": [],
   "source": [
    "#Optionally train only on low frequency EEG bands\n",
    "low_bands = list(np.arange(0,power_data[0].shape[1],6))+list(np.arange(1,power_data[0].shape[1],6))\n",
    "power_train = power_train[:,low_bands]\n",
    "power_val = power_val[:,low_bands]\n",
    "power_test = power_test[:,low_bands]"
   ]
  },
  {
   "cell_type": "markdown",
   "metadata": {},
   "source": [
    "## CNN model"
   ]
  },
  {
   "cell_type": "code",
   "execution_count": 31,
   "metadata": {},
   "outputs": [
    {
     "name": "stdout",
     "output_type": "stream",
     "text": [
      "Metal device set to: Apple M1 Pro\n"
     ]
    },
    {
     "name": "stderr",
     "output_type": "stream",
     "text": [
      "2022-05-07 11:55:13.537542: I tensorflow/core/common_runtime/pluggable_device/pluggable_device_factory.cc:305] Could not identify NUMA node of platform GPU ID 0, defaulting to 0. Your kernel may not have been built with NUMA support.\n",
      "2022-05-07 11:55:13.538440: I tensorflow/core/common_runtime/pluggable_device/pluggable_device_factory.cc:271] Created TensorFlow device (/job:localhost/replica:0/task:0/device:GPU:0 with 0 MB memory) -> physical PluggableDevice (device: 0, name: METAL, pci bus id: <undefined>)\n"
     ]
    }
   ],
   "source": [
    "\n",
    "CNNmodel = tf.keras.Sequential()\n",
    "CNNmodel.add(tf.keras.layers.Dropout(0.2))\n",
    "CNNmodel.add(tf.keras.layers.Dense(128, input_shape=(power_train.shape[1],),activation=\"relu\"))\n",
    "CNNmodel.add(tf.keras.layers.Dropout(0.2))\n",
    "CNNmodel.add(tf.keras.layers.Dense(128,activation=\"relu\"))\n",
    "CNNmodel.add(tf.keras.layers.Dropout(0.2))\n",
    "CNNmodel.add(tf.keras.layers.Dense(MRI_train.shape[1],activation=\"linear\"))\n",
    "l = tf.keras.losses.LogCosh()\n",
    "CNNmodel.compile(optimizer='Adam', loss=l)"
   ]
  },
  {
   "cell_type": "code",
   "execution_count": 32,
   "metadata": {},
   "outputs": [
    {
     "data": {
      "text/plain": [
       "((89921, 20), (89921, 20))"
      ]
     },
     "execution_count": 32,
     "metadata": {},
     "output_type": "execute_result"
    }
   ],
   "source": [
    "power_train.shape,MRI_train.shape"
   ]
  },
  {
   "cell_type": "code",
   "execution_count": 33,
   "metadata": {},
   "outputs": [
    {
     "name": "stdout",
     "output_type": "stream",
     "text": [
      "Epoch 1/5\n"
     ]
    },
    {
     "name": "stderr",
     "output_type": "stream",
     "text": [
      "2022-05-07 11:55:16.425570: W tensorflow/core/platform/profile_utils/cpu_utils.cc:128] Failed to get CPU frequency: 0 Hz\n"
     ]
    },
    {
     "name": "stdout",
     "output_type": "stream",
     "text": [
      "\r",
      "  1/703 [..............................] - ETA: 4:15 - loss: 0.4257"
     ]
    },
    {
     "name": "stderr",
     "output_type": "stream",
     "text": [
      "2022-05-07 11:55:16.653427: I tensorflow/core/grappler/optimizers/custom_graph_optimizer_registry.cc:113] Plugin optimizer for device_type GPU is enabled.\n"
     ]
    },
    {
     "name": "stdout",
     "output_type": "stream",
     "text": [
      "703/703 [==============================] - 4s 6ms/step - loss: 0.3118\n",
      "Epoch 2/5\n",
      "703/703 [==============================] - 4s 6ms/step - loss: 0.2822\n",
      "Epoch 3/5\n",
      "703/703 [==============================] - 4s 6ms/step - loss: 0.2672\n",
      "Epoch 4/5\n",
      "703/703 [==============================] - 4s 6ms/step - loss: 0.2568\n",
      "Epoch 5/5\n",
      "703/703 [==============================] - 4s 6ms/step - loss: 0.2496\n"
     ]
    },
    {
     "data": {
      "text/plain": [
       "<keras.callbacks.History at 0x28e92a970>"
      ]
     },
     "execution_count": 33,
     "metadata": {},
     "output_type": "execute_result"
    }
   ],
   "source": [
    "random.seed(10062020)\n",
    "CNNmodel.fit(power_train, MRI_train, batch_size=128, epochs=5)"
   ]
  },
  {
   "cell_type": "code",
   "execution_count": 34,
   "metadata": {},
   "outputs": [
    {
     "name": "stderr",
     "output_type": "stream",
     "text": [
      "2022-05-07 11:56:10.633654: I tensorflow/core/grappler/optimizers/custom_graph_optimizer_registry.cc:113] Plugin optimizer for device_type GPU is enabled.\n"
     ]
    },
    {
     "name": "stdout",
     "output_type": "stream",
     "text": [
      "tf.Tensor(0.19054703, shape=(), dtype=float32)\n",
      "[[1.         0.73222806]\n",
      " [0.73222806 1.        ]]\n"
     ]
    }
   ],
   "source": [
    "y_pred=CNNmodel.predict(power_train)\n",
    "y = MRI_train\n",
    "y_pred_mean=np.mean(y_pred,axis=1)\n",
    "y_mean = np.mean(y,axis=1)\n",
    "print(l(y,y_pred))\n",
    "print(np.corrcoef(y_mean,y_pred_mean))"
   ]
  },
  {
   "cell_type": "code",
   "execution_count": 35,
   "metadata": {},
   "outputs": [
    {
     "data": {
      "text/plain": [
       "<matplotlib.legend.Legend at 0x2e154ca00>"
      ]
     },
     "execution_count": 35,
     "metadata": {},
     "output_type": "execute_result"
    },
    {
     "data": {
      "image/png": "[encoded data removed]",
      "text/plain": [
       "<Figure size 432x288 with 1 Axes>"
      ]
     },
     "metadata": {
      "needs_background": "light"
     },
     "output_type": "display_data"
    }
   ],
   "source": [
    "plt.plot(y_pred_mean,label='y_pred',alpha=0.5)\n",
    "plt.plot(y_mean,label='y',alpha=0.5)\n",
    "# plt.plot(np.transpose(MRI_data)[:,2],label='y')\n",
    "plt.legend()"
   ]
  },
  {
   "cell_type": "code",
   "execution_count": 36,
   "metadata": {},
   "outputs": [
    {
     "name": "stdout",
     "output_type": "stream",
     "text": [
      "tf.Tensor(0.3743941, shape=(), dtype=float32)\n",
      "[[1.         0.02942548]\n",
      " [0.02942548 1.        ]]\n"
     ]
    }
   ],
   "source": [
    "#DOESNT GENERALIZE WELL\n",
    "y_pred=CNNmodel.predict(power_test)\n",
    "y = MRI_test\n",
    "y_pred_mean=np.mean(y_pred,axis=1)\n",
    "y_mean = np.mean(y,axis=1)\n",
    "print(l(y,y_pred))\n",
    "print(np.corrcoef(y_mean,y_pred_mean))"
   ]
  },
  {
   "cell_type": "markdown",
   "metadata": {},
   "source": [
    "## LSTM Model "
   ]
  },
  {
   "cell_type": "code",
   "execution_count": 37,
   "metadata": {},
   "outputs": [],
   "source": [
    "import numpy as np\n",
    "import tensorflow as tf\n",
    "from tensorflow import keras\n",
    "from tensorflow.keras import layers\n",
    "from tensorflow.keras.layers import Embedding, Dense, LSTM\n",
    "LSTMmodel = tf.keras.Sequential()\n",
    "LSTMmodel.add(layers.Embedding(input_dim=power_train.shape[1], output_dim=64))\n",
    "LSTMmodel.add(LSTM(64))\n",
    "LSTMmodel.add(tf.keras.layers.Dense(128, input_shape=(power_train.shape[1],),activation=\"relu\"))\n",
    "LSTMmodel.add(tf.keras.layers.Dropout(0.2))\n",
    "LSTMmodel.add(tf.keras.layers.Dense(128,activation=\"relu\"))\n",
    "LSTMmodel.add(tf.keras.layers.Dropout(0.2))\n",
    "LSTMmodel.add(tf.keras.layers.Dense(MRI_train.shape[1],activation=\"linear\"))\n",
    "#l = tf.keras.losses.BinaryCrossentropy()\n",
    "l = tf.keras.losses.LogCosh()\n",
    "LSTMmodel.compile(optimizer='Adam', loss=l)\n"
   ]
  },
  {
   "cell_type": "code",
   "execution_count": 38,
   "metadata": {},
   "outputs": [
    {
     "name": "stdout",
     "output_type": "stream",
     "text": [
      "Epoch 1/5\n"
     ]
    },
    {
     "name": "stderr",
     "output_type": "stream",
     "text": [
      "2022-05-07 11:57:10.743350: I tensorflow/core/grappler/optimizers/custom_graph_optimizer_registry.cc:113] Plugin optimizer for device_type GPU is enabled.\n",
      "2022-05-07 11:57:10.914308: I tensorflow/core/grappler/optimizers/custom_graph_optimizer_registry.cc:113] Plugin optimizer for device_type GPU is enabled.\n"
     ]
    },
    {
     "name": "stdout",
     "output_type": "stream",
     "text": [
      "  4/703 [..............................] - ETA: 14s - loss: 0.3374 "
     ]
    },
    {
     "name": "stderr",
     "output_type": "stream",
     "text": [
      "2022-05-07 11:57:11.055398: I tensorflow/core/grappler/optimizers/custom_graph_optimizer_registry.cc:113] Plugin optimizer for device_type GPU is enabled.\n"
     ]
    },
    {
     "name": "stdout",
     "output_type": "stream",
     "text": [
      "703/703 [==============================] - 13s 18ms/step - loss: 0.3210\n",
      "Epoch 2/5\n",
      "703/703 [==============================] - 13s 18ms/step - loss: 0.2847\n",
      "Epoch 3/5\n",
      "703/703 [==============================] - 12s 18ms/step - loss: 0.2545\n",
      "Epoch 4/5\n",
      "703/703 [==============================] - 12s 18ms/step - loss: 0.2341\n",
      "Epoch 5/5\n",
      "703/703 [==============================] - 12s 17ms/step - loss: 0.2190\n"
     ]
    },
    {
     "data": {
      "text/plain": [
       "<keras.callbacks.History at 0x2dcb96df0>"
      ]
     },
     "execution_count": 38,
     "metadata": {},
     "output_type": "execute_result"
    }
   ],
   "source": [
    "LSTMmodel.fit(power_train, MRI_train, batch_size=128, epochs=5)"
   ]
  },
  {
   "cell_type": "code",
   "execution_count": 39,
   "metadata": {},
   "outputs": [
    {
     "name": "stderr",
     "output_type": "stream",
     "text": [
      "2022-05-07 11:58:13.295858: I tensorflow/core/grappler/optimizers/custom_graph_optimizer_registry.cc:113] Plugin optimizer for device_type GPU is enabled.\n",
      "2022-05-07 11:58:13.336054: I tensorflow/core/grappler/optimizers/custom_graph_optimizer_registry.cc:113] Plugin optimizer for device_type GPU is enabled.\n"
     ]
    },
    {
     "name": "stdout",
     "output_type": "stream",
     "text": [
      "[[1.         0.72129834]\n",
      " [0.72129834 1.        ]]\n"
     ]
    }
   ],
   "source": [
    "y_pred=LSTMmodel.predict(power_train)\n",
    "y = MRI_train\n",
    "y_pred_mean=np.mean(y_pred,axis=1)\n",
    "y_mean = np.mean(y,axis=1)\n",
    "#print(l(y,y_pred))\n",
    "print(np.corrcoef(y_mean,y_pred_mean))"
   ]
  },
  {
   "cell_type": "code",
   "execution_count": 40,
   "metadata": {},
   "outputs": [
    {
     "data": {
      "text/plain": [
       "<matplotlib.legend.Legend at 0x2e39ba880>"
      ]
     },
     "execution_count": 40,
     "metadata": {},
     "output_type": "execute_result"
    },
    {
     "data": {
      "image/png": "[encoded data removed]",
      "text/plain": [
       "<Figure size 432x288 with 1 Axes>"
      ]
     },
     "metadata": {
      "needs_background": "light"
     },
     "output_type": "display_data"
    }
   ],
   "source": [
    "plt.plot(y_pred_mean,label='y_pred',alpha=0.5)\n",
    "plt.plot(y_mean,label='y',alpha=0.5)\n",
    "# plt.plot(np.transpose(MRI_data)[:,2],label='y')\n",
    "plt.legend()"
   ]
  },
  {
   "cell_type": "code",
   "execution_count": 41,
   "metadata": {},
   "outputs": [
    {
     "name": "stdout",
     "output_type": "stream",
     "text": [
      "[[ 1.         -0.06446994]\n",
      " [-0.06446994  1.        ]]\n"
     ]
    }
   ],
   "source": [
    "y_pred=LSTMmodel.predict(power_test)\n",
    "y = MRI_test\n",
    "y_pred_mean=np.mean(y_pred,axis=1)\n",
    "y_mean = np.mean(y,axis=1)\n",
    "#print(l(y,y_pred))\n",
    "print(np.corrcoef(y_mean,y_pred_mean))"
   ]
  },
  {
   "cell_type": "markdown",
   "metadata": {},
   "source": [
    "## RNN model "
   ]
  },
  {
   "cell_type": "code",
   "execution_count": 43,
   "metadata": {},
   "outputs": [],
   "source": [
    "import numpy as np\n",
    "import tensorflow as tf\n",
    "from tensorflow import keras\n",
    "from tensorflow.keras import layers\n",
    "RNNmodel = tf.keras.Sequential()\n",
    "RNNmodel.add(tf.keras.layers.Dropout(0.2))\n",
    "RNNmodel.add(layers.Embedding(input_dim=power_train.shape[1], output_dim=64))\n",
    "\n",
    "# The output of GRU will be a 3D tensor of shape (batch_size, timesteps, 256)\n",
    "RNNmodel.add(layers.GRU(256, return_sequences=True))\n",
    "\n",
    "# The output of SimpleRNN will be a 2D tensor of shape (batch_size, 128)\n",
    "RNNmodel.add(layers.SimpleRNN(128))\n",
    "RNNmodel.add(tf.keras.layers.Dense(128, input_shape=(power_train.shape[1],),activation=\"relu\"))\n",
    "RNNmodel.add(tf.keras.layers.Dropout(0.2))\n",
    "RNNmodel.add(tf.keras.layers.Dense(128,activation=\"relu\"))\n",
    "RNNmodel.add(tf.keras.layers.Dropout(0.2))\n",
    "RNNmodel.add(tf.keras.layers.Dense(MRI_train.shape[1],activation=\"linear\"))\n",
    "l = tf.keras.losses.LogCosh()\n",
    "RNNmodel.compile(optimizer='Adam', loss=l)"
   ]
  },
  {
   "cell_type": "code",
   "execution_count": 44,
   "metadata": {},
   "outputs": [
    {
     "name": "stdout",
     "output_type": "stream",
     "text": [
      "Epoch 1/5\n"
     ]
    },
    {
     "name": "stderr",
     "output_type": "stream",
     "text": [
      "2022-05-07 11:59:00.112150: I tensorflow/core/grappler/optimizers/custom_graph_optimizer_registry.cc:113] Plugin optimizer for device_type GPU is enabled.\n",
      "2022-05-07 11:59:00.358120: I tensorflow/core/grappler/optimizers/custom_graph_optimizer_registry.cc:113] Plugin optimizer for device_type GPU is enabled.\n"
     ]
    },
    {
     "name": "stdout",
     "output_type": "stream",
     "text": [
      "\r",
      "  1/703 [..............................] - ETA: 17:55 - loss: 0.3358"
     ]
    },
    {
     "name": "stderr",
     "output_type": "stream",
     "text": [
      "2022-05-07 11:59:00.753640: I tensorflow/core/grappler/optimizers/custom_graph_optimizer_registry.cc:113] Plugin optimizer for device_type GPU is enabled.\n"
     ]
    },
    {
     "name": "stdout",
     "output_type": "stream",
     "text": [
      "703/703 [==============================] - 174s 245ms/step - loss: 0.3063\n",
      "Epoch 2/5\n",
      "703/703 [==============================] - 172s 245ms/step - loss: 0.2640\n",
      "Epoch 3/5\n",
      "703/703 [==============================] - 171s 243ms/step - loss: 0.2388\n",
      "Epoch 4/5\n",
      "703/703 [==============================] - 176s 251ms/step - loss: 0.2231\n",
      "Epoch 5/5\n",
      "703/703 [==============================] - 172s 245ms/step - loss: 0.2109\n"
     ]
    },
    {
     "data": {
      "text/plain": [
       "<keras.callbacks.History at 0x17510ebb0>"
      ]
     },
     "execution_count": 44,
     "metadata": {},
     "output_type": "execute_result"
    }
   ],
   "source": [
    "RNNmodel.fit(power_train, MRI_train, batch_size=128, epochs=5)"
   ]
  },
  {
   "cell_type": "code",
   "execution_count": 45,
   "metadata": {},
   "outputs": [
    {
     "name": "stderr",
     "output_type": "stream",
     "text": [
      "2022-05-07 12:13:25.209647: W tensorflow/python/util/util.cc:368] Sets are not currently considered sequences, but this may change in the future, so consider avoiding using them.\n",
      "WARNING:absl:Found untraced functions such as gru_cell_layer_call_fn, gru_cell_layer_call_and_return_conditional_losses while saving (showing 2 of 2). These functions will not be directly callable after loading.\n"
     ]
    },
    {
     "name": "stdout",
     "output_type": "stream",
     "text": [
      "INFO:tensorflow:Assets written to: ./modelRNN/assets\n"
     ]
    },
    {
     "name": "stderr",
     "output_type": "stream",
     "text": [
      "INFO:tensorflow:Assets written to: ./modelRNN/assets\n",
      "WARNING:absl:<keras.layers.recurrent.GRUCell object at 0x1750e22b0> has the same name 'GRUCell' as a built-in Keras object. Consider renaming <class 'keras.layers.recurrent.GRUCell'> to avoid naming conflicts when loading with `tf.keras.models.load_model`. If renaming is not possible, pass the object in the `custom_objects` parameter of the load function.\n"
     ]
    }
   ],
   "source": [
    "RNNmodel.save('./modelRNN')"
   ]
  },
  {
   "cell_type": "code",
   "execution_count": 46,
   "metadata": {},
   "outputs": [
    {
     "name": "stderr",
     "output_type": "stream",
     "text": [
      "2022-05-07 12:13:26.385152: I tensorflow/core/grappler/optimizers/custom_graph_optimizer_registry.cc:113] Plugin optimizer for device_type GPU is enabled.\n",
      "2022-05-07 12:13:26.443552: I tensorflow/core/grappler/optimizers/custom_graph_optimizer_registry.cc:113] Plugin optimizer for device_type GPU is enabled.\n"
     ]
    },
    {
     "name": "stdout",
     "output_type": "stream",
     "text": [
      "[[1.         0.66102924]\n",
      " [0.66102924 1.        ]]\n"
     ]
    }
   ],
   "source": [
    "y_pred=RNNmodel.predict(power_train)\n",
    "y = MRI_train\n",
    "y_pred_mean=np.mean(y_pred,axis=1)\n",
    "y_mean = np.mean(y,axis=1)\n",
    "#print(l(y,y_pred))\n",
    "print(np.corrcoef(y_mean,y_pred_mean))"
   ]
  },
  {
   "cell_type": "code",
   "execution_count": 47,
   "metadata": {},
   "outputs": [
    {
     "data": {
      "text/plain": [
       "<matplotlib.legend.Legend at 0x2f717ff10>"
      ]
     },
     "execution_count": 47,
     "metadata": {},
     "output_type": "execute_result"
    },
    {
     "data": {
      "image/png": "[encoded data removed]",
      "text/plain": [
       "<Figure size 432x288 with 1 Axes>"
      ]
     },
     "metadata": {
      "needs_background": "light"
     },
     "output_type": "display_data"
    }
   ],
   "source": [
    "plt.plot(y_pred_mean,label='y_pred',alpha=0.5)\n",
    "plt.plot(y_mean,label='y',alpha=0.5)\n",
    "# plt.plot(np.transpose(MRI_data)[:,2],label='y')\n",
    "plt.legend()"
   ]
  },
  {
   "cell_type": "markdown",
   "metadata": {},
   "source": [
    "## Graph CNN "
   ]
  },
  {
   "cell_type": "code",
   "execution_count": 49,
   "metadata": {},
   "outputs": [],
   "source": [
    "import torch\n"
   ]
  },
  {
   "cell_type": "code",
   "execution_count": 50,
   "metadata": {},
   "outputs": [],
   "source": [
    "from pyedflib import highlevel\n",
    "def write_edf(eeg_data, fname):\n",
    "    # write an edf file\n",
    "    signals = power_train.reshape(20,-1)\n",
    "    #[:, :10].reshape(10,-1)\n",
    "\n",
    "    ch = ['EEG Fp1-LE', 'EEG F3-LE', 'EEG C3-LE', 'EEG P3-LE', 'EEG O1-LE', 'EEG F7-LE', 'EEG T3-LE', 'EEG T5-LE', 'EEG Fz-LE', 'EEG Fp2-LE', 'EEG F4-LE', 'EEG C4-LE', 'EEG P4-LE', 'EEG O2-LE', 'EEG F8-LE', 'EEG T4-LE', 'EEG T6-LE', 'EEG Cz-LE', 'EEG Pz-LE',\n",
    "     'EEG A2-A1']\n",
    "\n",
    "    channel_names = ch[:20]\n",
    "    print()\n",
    "    #['ch1', 'ch2', 'ch3', 'ch4', 'ch5', 'ch6','ch7','ch9','ch10','ch11']\n",
    "    signal_headers = highlevel.make_signal_headers(channel_names, sample_frequency=600)\n",
    "    highlevel.write_edf(fname, signals, signal_headers)\n",
    "    return fname"
   ]
  },
  {
   "cell_type": "code",
   "execution_count": 52,
   "metadata": {},
   "outputs": [
    {
     "name": "stdout",
     "output_type": "stream",
     "text": [
      "\n",
      "\n"
     ]
    },
    {
     "data": {
      "text/plain": [
       "'edf_test.edf'"
      ]
     },
     "execution_count": 52,
     "metadata": {},
     "output_type": "execute_result"
    }
   ],
   "source": [
    "write_edf(power_train,'edf_file.edf')\n",
    "write_edf(power_test,'edf_test.edf')"
   ]
  },
  {
   "cell_type": "code",
   "execution_count": 53,
   "metadata": {},
   "outputs": [],
   "source": [
    "import eegraph\n",
    "def get_graph(fname):\n",
    "    G = eegraph.Graph()\n",
    "    file =fname\n",
    "    G.load_data(file)\n",
    "    graphs, connectivity_matrix = G.modelate(window_size = 600, bands = ['delta', 'theta', 'alpha', 'beta', 'gamma'],connectivity = 'squared_coherence',threshold=0.001)\n",
    "    return graphs"
   ]
  },
  {
   "cell_type": "code",
   "execution_count": 54,
   "metadata": {},
   "outputs": [
    {
     "name": "stdout",
     "output_type": "stream",
     "text": [
      "Extracting EDF parameters from /Users/ssackstein/Desktop/JHU/Capstone/EEGtransformMRI/edf_file.edf...\n",
      "EDF file detected\n",
      "Setting channel info structure...\n",
      "Creating raw.info structure...\n",
      "\n",
      "\u001b[1mEEG Information.\n",
      "\u001b[0mNumber of Channels: 20\n",
      "Sample rate: 600.0 Hz.\n",
      "Duration: 149.998 seconds.\n",
      "Channel Names: ['EEG Fp1-LE', 'EEG F3-LE', 'EEG C3-LE', 'EEG P3-LE', 'EEG O1-LE', 'EEG F7-LE', 'EEG T3-LE', 'EEG T5-LE', 'EEG Fz-LE', 'EEG Fp2-LE', 'EEG F4-LE', 'EEG C4-LE', 'EEG P4-LE', 'EEG O2-LE', 'EEG F8-LE', 'EEG T4-LE', 'EEG T6-LE', 'EEG Cz-LE', 'EEG Pz-LE', 'EEG A2-A1']\n",
      "\u001b[1mModel Data.\u001b[0m\n",
      "Squared_coherence_Estimator()\n",
      "Frequency Bands: ['delta', 'theta', 'alpha', 'beta', 'gamma'] [True, True, True, True, True]\n",
      "Intervals:  [(0, 89999.0)]\n",
      "\n",
      "Threshold: 0.001\n",
      "Number of graphs created: 5\n",
      "Extracting EDF parameters from /Users/ssackstein/Desktop/JHU/Capstone/EEGtransformMRI/edf_test.edf...\n",
      "EDF file detected\n",
      "Setting channel info structure...\n",
      "Creating raw.info structure...\n",
      "\n",
      "\u001b[1mEEG Information.\n",
      "\u001b[0mNumber of Channels: 20\n",
      "Sample rate: 600.0 Hz.\n",
      "Duration: 149.998 seconds.\n",
      "Channel Names: ['EEG Fp1-LE', 'EEG F3-LE', 'EEG C3-LE', 'EEG P3-LE', 'EEG O1-LE', 'EEG F7-LE', 'EEG T3-LE', 'EEG T5-LE', 'EEG Fz-LE', 'EEG Fp2-LE', 'EEG F4-LE', 'EEG C4-LE', 'EEG P4-LE', 'EEG O2-LE', 'EEG F8-LE', 'EEG T4-LE', 'EEG T6-LE', 'EEG Cz-LE', 'EEG Pz-LE', 'EEG A2-A1']\n",
      "\u001b[1mModel Data.\u001b[0m\n",
      "Squared_coherence_Estimator()\n",
      "Frequency Bands: ['delta', 'theta', 'alpha', 'beta', 'gamma'] [True, True, True, True, True]\n",
      "Intervals:  [(0, 89999.0)]\n",
      "\n",
      "Threshold: 0.001\n",
      "Number of graphs created: 5\n"
     ]
    }
   ],
   "source": [
    "graphs=get_graph('edf_file.edf')\n",
    "graphs_test=get_graph('edf_test.edf')"
   ]
  },
  {
   "cell_type": "code",
   "execution_count": 55,
   "metadata": {},
   "outputs": [
    {
     "name": "stdout",
     "output_type": "stream",
     "text": [
      "0 161\n",
      "1 189\n",
      "2 190\n",
      "3 190\n",
      "4 190\n"
     ]
    }
   ],
   "source": [
    "for i in range(len(graphs.keys())): \n",
    "    #if len(graphs[i].edges) > 20:\n",
    "    print(i, len(graphs[i].edges))"
   ]
  },
  {
   "cell_type": "code",
   "execution_count": 56,
   "metadata": {},
   "outputs": [
    {
     "name": "stdout",
     "output_type": "stream",
     "text": [
      "0 161\n",
      "1 189\n",
      "2 190\n",
      "3 190\n",
      "4 190\n"
     ]
    }
   ],
   "source": [
    "for i in range(len(graphs_test.keys())): \n",
    "    #if len(graphs[i].edges) > 20:\n",
    "    print(i, len(graphs_test[i].edges))"
   ]
  },
  {
   "cell_type": "code",
   "execution_count": 88,
   "metadata": {},
   "outputs": [],
   "source": [
    "def get_edgedict(nodes, node=None):\n",
    "    nodeslist=[i for i in nodes]\n",
    "    nodesval=[i for i in range(len(nodes))]\n",
    "    nodesdict= dict(zip(nodeslist,nodesval))\n",
    "    if node!=None:\n",
    "        return nodesdict, nodesdict[node]\n",
    "    return nodesdict, 0\n",
    "def per_edge(edge_list, nodes):\n",
    "    nodesdict, node = get_edgedict(nodes)\n",
    "    node_names = [i for i in nodesdict.keys()]\n",
    "    node_edg_flat =dict()\n",
    "    for i in node_names:\n",
    "        n=nodesdict[i]\n",
    "        if len(edge_list.edges(i))>5:\n",
    "            node_edg_flat[n]=[nodesdict[j[1]] for j in edge_list.edges(i)]\n",
    "        else:\n",
    "            node_edg_flat[n]=[n]*(len(edge_list.nodes)-1)\n",
    "    return node_edg_flat\n",
    "edges_per= per_edge(edge_list=graphs[3], nodes=graphs[3].nodes)    \n",
    "edges_per_test= per_edge(edge_list=graphs_test[4], nodes=graphs_test[4].nodes)  "
   ]
  },
  {
   "cell_type": "code",
   "execution_count": 89,
   "metadata": {},
   "outputs": [],
   "source": [
    "nodesdict,node_x =get_edgedict(nodes=graphs[3].nodes)\n",
    "nodesdict_test,node_x_test =get_edgedict(nodes=graphs_test[4].nodes)"
   ]
  },
  {
   "cell_type": "code",
   "execution_count": 90,
   "metadata": {},
   "outputs": [],
   "source": [
    "def get_edges(edges_per):\n",
    "    edges_min=min([len(i) for i in edges_per.values()])\n",
    "    edges= [i[:edges_min] for i in edges_per.values()]\n",
    "    edges_array=np.array(edges).flatten()\n",
    "    connect= [len(i) for i in edges_per.values()]\n",
    "    c= edges_min\n",
    "    l=[]\n",
    "    for i in range(len(connect)*c):\n",
    "        if i%c==0:\n",
    "            l.append([int(i/c)]*c)\n",
    "    l = np.array(l).flatten()\n",
    "    edge_index = torch.tensor(np.array([l,edges_array]))\n",
    "    return edge_index"
   ]
  },
  {
   "cell_type": "code",
   "execution_count": 91,
   "metadata": {},
   "outputs": [],
   "source": [
    "edge_index= get_edges(edges_per)\n",
    "edge_index_test= get_edges(edges_per_test)"
   ]
  },
  {
   "cell_type": "code",
   "execution_count": 92,
   "metadata": {},
   "outputs": [],
   "source": [
    "weights=np.array([i[2] for i in graphs[4].edges().data(\"weight\", default=0.1)])\n",
    "weights_test=np.array([i[2] for i in graphs[4].edges().data(\"weight\", default=0.1)])"
   ]
  },
  {
   "cell_type": "code",
   "execution_count": 93,
   "metadata": {},
   "outputs": [],
   "source": [
    "def node_weight(edge_list, nodes,weight):\n",
    "    nodesdict, node = get_edgedict(nodes)\n",
    "    node_names = [i for i in nodesdict.keys()]\n",
    "    node_edg_flat =dict()\n",
    "    for i in node_names:\n",
    "        n=nodesdict[i]\n",
    "        if len(edge_list.edges(i))>18:\n",
    "            nl=[]\n",
    "            for j in weight.data(\"weight\", default=0.1):   \n",
    "                if nodesdict[j[0]] == node_x: \n",
    "                    nl.append(j[2])\n",
    "            node_edg_flat[n]=nl\n",
    "        else:\n",
    "            node_edg_flat[n]=[0.1]*(len(edge_list.nodes))\n",
    "    return node_edg_flat\n",
    "node_weight_per= node_weight(edge_list=graphs[3], nodes=graphs[3].nodes, weight=graphs[4].edges())  \n",
    "node_weight_per_test= node_weight(edge_list=graphs_test[4], nodes=graphs_test[4].nodes, weight=graphs_test[4].edges())   "
   ]
  },
  {
   "cell_type": "code",
   "execution_count": 94,
   "metadata": {},
   "outputs": [],
   "source": [
    "def weight_array(node_weight_per):\n",
    "    node_weight_per_min=min([len(i) for i in node_weight_per.values()])\n",
    "    nweight= [i[:node_weight_per_min] for i in node_weight_per.values()]\n",
    "    weight_array=np.array(nweight).flatten()\n",
    "    weight_array=np.array(weight_array,np.double).astype(np.float32)\n",
    "    return torch.tensor(weight_array)"
   ]
  },
  {
   "cell_type": "code",
   "execution_count": null,
   "metadata": {},
   "outputs": [],
   "source": []
  },
  {
   "cell_type": "code",
   "execution_count": 95,
   "metadata": {},
   "outputs": [],
   "source": [
    "edge_attr =weight_array(node_weight_per)\n",
    "edge_attr_test =weight_array(node_weight_per_test)\n",
    "#edge_attr=edge_attr.type(torch.DoubleTensor)"
   ]
  },
  {
   "cell_type": "code",
   "execution_count": 97,
   "metadata": {},
   "outputs": [
    {
     "data": {
      "text/plain": [
       "torch.Size([380])"
      ]
     },
     "execution_count": 97,
     "metadata": {},
     "output_type": "execute_result"
    }
   ],
   "source": [
    "#edge_attr=edge_attr.double()\n",
    "edge_attr.shape"
   ]
  },
  {
   "cell_type": "code",
   "execution_count": 98,
   "metadata": {},
   "outputs": [],
   "source": [
    "#edge_attr =torch.tensor([1. for i in range(edge_index.shape[1])])"
   ]
  },
  {
   "cell_type": "code",
   "execution_count": 99,
   "metadata": {},
   "outputs": [
    {
     "data": {
      "text/plain": [
       "(torch.Size([380]), torch.Size([2, 380]))"
      ]
     },
     "execution_count": 99,
     "metadata": {},
     "output_type": "execute_result"
    }
   ],
   "source": [
    "edge_attr.shape, edge_index.shape"
   ]
  },
  {
   "cell_type": "code",
   "execution_count": 100,
   "metadata": {},
   "outputs": [
    {
     "data": {
      "text/plain": [
       "RecurrentGCN(\n",
       "  (recurrent): DCRNN(\n",
       "    (conv_x_z): DConv(148, 128)\n",
       "    (conv_x_r): DConv(148, 128)\n",
       "    (conv_x_h): DConv(148, 128)\n",
       "  )\n",
       "  (linear): Linear(in_features=128, out_features=1, bias=True)\n",
       ")"
      ]
     },
     "execution_count": 100,
     "metadata": {},
     "output_type": "execute_result"
    }
   ],
   "source": [
    "import torch\n",
    "import torch.nn.functional as F\n",
    "from torch_geometric_temporal.nn.recurrent import DCRNN\n",
    "from tqdm import tqdm\n",
    "class RecurrentGCN(torch.nn.Module):\n",
    "    def __init__(self, node_features):\n",
    "        super(RecurrentGCN, self).__init__()\n",
    "        self.recurrent = DCRNN(node_features, 128, 1)\n",
    "        self.linear = torch.nn.Linear(128, 1)\n",
    "\n",
    "    def forward(self, x, edge_index, edge_weight):\n",
    "        h = self.recurrent(x, edge_index, edge_weight)\n",
    "        h = F.relu(h)\n",
    "        h = self.linear(h)\n",
    "        return h\n",
    "\n",
    "from torch_geometric_temporal.signal import temporal_signal_split\n",
    "\n",
    "\n",
    "\n",
    "model = RecurrentGCN(node_features = 20)\n",
    "\n",
    "optimizer = torch.optim.Adam(model.parameters(), lr=0.01)\n",
    "\n",
    "model.train()\n",
    "time=0\n",
    "#for epoch in tqdm(range(sim_time)):\n",
    "cost = 0\n",
    "\n",
    "y_hat = model(torch.tensor(power_train[:,:], dtype=torch.float), edge_index,edge_attr)\n",
    "cost = cost + torch.mean((y_hat-torch.tensor(MRI_train[:,:], dtype=torch.float))**2)\n",
    "cost = cost \n",
    "time+=1\n",
    "cost.backward()\n",
    "optimizer.step()\n",
    "optimizer.zero_grad()\n",
    "model.eval()\n"
   ]
  },
  {
   "cell_type": "code",
   "execution_count": 81,
   "metadata": {},
   "outputs": [
    {
     "name": "stdout",
     "output_type": "stream",
     "text": [
      "MSE: 1.0027\n"
     ]
    }
   ],
   "source": [
    "#cost = 0\n",
    "\n",
    "#y_hat = model(torch.tensor(power_train[:,:], dtype=torch.float), edge_index, edge_attr)\n",
    "#cost = cost + torch.mean((y_hat-torch.tensor(MRI_train[:,:], dtype=torch.float))**2)\n",
    "#cost = cost / (time+1)\n",
    "cost = cost.item()\n",
    "print(\"MSE: {:.4f}\".format(cost))"
   ]
  },
  {
   "cell_type": "code",
   "execution_count": 82,
   "metadata": {},
   "outputs": [],
   "source": [
    "y_pred=(torch.tensor(MRI_train[:,:], dtype=torch.float)-y_hat).detach().numpy()\n",
    "y = MRI_train\n",
    "y_pred_mean=np.mean(y_pred,axis=1)\n",
    "y_mean = np.mean(y,axis=1)\n"
   ]
  },
  {
   "cell_type": "code",
   "execution_count": 83,
   "metadata": {},
   "outputs": [
    {
     "name": "stdout",
     "output_type": "stream",
     "text": [
      "[[1.         0.99977221]\n",
      " [0.99977221 1.        ]]\n"
     ]
    }
   ],
   "source": [
    "print(np.corrcoef(y_mean,y_pred_mean))"
   ]
  },
  {
   "cell_type": "code",
   "execution_count": 84,
   "metadata": {},
   "outputs": [
    {
     "data": {
      "text/plain": [
       "<matplotlib.legend.Legend at 0x28db85ca0>"
      ]
     },
     "execution_count": 84,
     "metadata": {},
     "output_type": "execute_result"
    },
    {
     "data": {
      "image/png": "[encoded data removed]",
      "text/plain": [
       "<Figure size 432x288 with 1 Axes>"
      ]
     },
     "metadata": {
      "needs_background": "light"
     },
     "output_type": "display_data"
    }
   ],
   "source": [
    "plt.plot(y_pred_mean,label='y_pred',alpha=0.5)\n",
    "plt.plot(y_mean,label='y',alpha=0.5)\n",
    "\n",
    "plt.legend()"
   ]
  },
  {
   "cell_type": "code",
   "execution_count": 101,
   "metadata": {},
   "outputs": [
    {
     "data": {
      "text/plain": [
       "(torch.Size([2, 380]), torch.Size([380]))"
      ]
     },
     "execution_count": 101,
     "metadata": {},
     "output_type": "execute_result"
    }
   ],
   "source": [
    "edge_index_test.shape,edge_attr_test.shape"
   ]
  },
  {
   "cell_type": "code",
   "execution_count": 103,
   "metadata": {},
   "outputs": [
    {
     "data": {
      "text/plain": [
       "RecurrentGCN(\n",
       "  (recurrent): DCRNN(\n",
       "    (conv_x_z): DConv(148, 128)\n",
       "    (conv_x_r): DConv(148, 128)\n",
       "    (conv_x_h): DConv(148, 128)\n",
       "  )\n",
       "  (linear): Linear(in_features=128, out_features=1, bias=True)\n",
       ")"
      ]
     },
     "execution_count": 103,
     "metadata": {},
     "output_type": "execute_result"
    }
   ],
   "source": [
    "import torch\n",
    "import torch.nn.functional as F\n",
    "from torch_geometric_temporal.nn.recurrent import DCRNN\n",
    "from tqdm import tqdm\n",
    "class RecurrentGCN(torch.nn.Module):\n",
    "    def __init__(self, node_features):\n",
    "        super(RecurrentGCN, self).__init__()\n",
    "        self.recurrent = DCRNN(node_features, 128, 1)\n",
    "        self.linear = torch.nn.Linear(128, 1)\n",
    "\n",
    "    def forward(self, x, edge_index, edge_weight):\n",
    "        h = self.recurrent(x, edge_index, edge_weight)\n",
    "        h = F.relu(h)\n",
    "        h = self.linear(h)\n",
    "        return h\n",
    "\n",
    "from torch_geometric_temporal.signal import temporal_signal_split\n",
    "\n",
    "\n",
    "\n",
    "model = RecurrentGCN(node_features = 20)\n",
    "\n",
    "optimizer = torch.optim.Adam(model.parameters(), lr=0.01)\n",
    "\n",
    "model.train()\n",
    "time=0\n",
    "#for epoch in tqdm(range(sim_time)):\n",
    "cost = 0\n",
    "y_hat = model(torch.tensor(power_test[:,:], dtype=torch.float), edge_index_test,edge_attr_test)\n",
    "cost = cost + torch.mean((y_hat-torch.tensor(MRI_test[:,:], dtype=torch.float))**2)\n",
    "cost = cost \n",
    "time+=1\n",
    "cost.backward()\n",
    "optimizer.step()\n",
    "optimizer.zero_grad()\n",
    "model.eval()\n"
   ]
  },
  {
   "cell_type": "code",
   "execution_count": 104,
   "metadata": {},
   "outputs": [
    {
     "name": "stdout",
     "output_type": "stream",
     "text": [
      "MSE: 1.0055\n"
     ]
    }
   ],
   "source": [
    "#cost = 0\n",
    "\n",
    "#y_hat = model(torch.tensor(power_train[:,:], dtype=torch.float), edge_index, edge_attr)\n",
    "#cost = cost + torch.mean((y_hat-torch.tensor(MRI_train[:,:], dtype=torch.float))**2)\n",
    "#cost = cost / (time+1)\n",
    "cost = cost.item()\n",
    "print(\"MSE: {:.4f}\".format(cost))"
   ]
  },
  {
   "cell_type": "code",
   "execution_count": 105,
   "metadata": {},
   "outputs": [],
   "source": [
    "y_pred=(torch.tensor(MRI_test[:,:], dtype=torch.float)-y_hat).detach().numpy()\n",
    "y = MRI_test\n",
    "y_pred_mean=np.mean(y_pred,axis=1)\n",
    "y_mean = np.mean(y,axis=1)"
   ]
  },
  {
   "cell_type": "code",
   "execution_count": 106,
   "metadata": {},
   "outputs": [
    {
     "name": "stdout",
     "output_type": "stream",
     "text": [
      "[[1.         0.99980698]\n",
      " [0.99980698 1.        ]]\n"
     ]
    }
   ],
   "source": [
    "print(np.corrcoef(y_mean,y_pred_mean))"
   ]
  },
  {
   "cell_type": "code",
   "execution_count": 107,
   "metadata": {},
   "outputs": [
    {
     "data": {
      "text/plain": [
       "<matplotlib.legend.Legend at 0x2bebc6760>"
      ]
     },
     "execution_count": 107,
     "metadata": {},
     "output_type": "execute_result"
    },
    {
     "data": {
      "image/png": "[encoded data removed]",
      "text/plain": [
       "<Figure size 432x288 with 1 Axes>"
      ]
     },
     "metadata": {
      "needs_background": "light"
     },
     "output_type": "display_data"
    }
   ],
   "source": [
    "plt.plot(y_pred_mean,label='y_pred',alpha=0.5)\n",
    "plt.plot(y_mean,label='y',alpha=0.5)\n",
    "\n",
    "plt.legend()"
   ]
  },
  {
   "cell_type": "markdown",
   "metadata": {},
   "source": [
    "# Simple models based on simulated data does not generalize well\n",
    "The model based on simulated data does not generalize well."
   ]
  },
  {
   "cell_type": "code",
   "execution_count": 108,
   "metadata": {},
   "outputs": [
    {
     "name": "stdout",
     "output_type": "stream",
     "text": [
      "tf.Tensor(0.36840248, shape=(), dtype=float32)\n",
      "[[1.         0.08974189]\n",
      " [0.08974189 1.        ]]\n"
     ]
    }
   ],
   "source": [
    "y_pred=CNNmodel.predict(power_val)\n",
    "y = MRI_val\n",
    "y_pred_mean=np.mean(y_pred,axis=1)\n",
    "y_mean = np.mean(y,axis=1)\n",
    "print(l(y,y_pred))\n",
    "print(np.corrcoef(y_mean,y_pred_mean))"
   ]
  },
  {
   "cell_type": "code",
   "execution_count": 109,
   "metadata": {
    "scrolled": true
   },
   "outputs": [
    {
     "data": {
      "text/plain": [
       "<matplotlib.legend.Legend at 0x2ded5ab50>"
      ]
     },
     "execution_count": 109,
     "metadata": {},
     "output_type": "execute_result"
    },
    {
     "data": {
      "image/png": "[encoded data removed]",
      "text/plain": [
       "<Figure size 432x288 with 1 Axes>"
      ]
     },
     "metadata": {
      "needs_background": "light"
     },
     "output_type": "display_data"
    }
   ],
   "source": [
    "plt.plot(y_pred_mean,label='y_pred',alpha=0.5)\n",
    "plt.plot(y_mean,label='y',alpha=0.5)\n",
    "# plt.plot(np.transpose(MRI_data)[:,2],label='y')\n",
    "plt.legend()"
   ]
  },
  {
   "cell_type": "markdown",
   "metadata": {},
   "source": [
    "# Cortical MRI ROI Only Fitting\n",
    "\n",
    "This model is based on real cortical MRI ROIs from the Harvard-Oxford cortical parcellation."
   ]
  },
  {
   "cell_type": "code",
   "execution_count": 110,
   "metadata": {},
   "outputs": [],
   "source": [
    "cort_train = MRI_train[:,:4]\n",
    "cort_val = MRI_val[:,4:]\n",
    "cort_test = MRI_test[:,:4]\n",
    "sub_train = power_train[:,:4]\n",
    "sub_val = power_val[:,:4]\n",
    "sub_test =power_test[:,:4]"
   ]
  },
  {
   "cell_type": "code",
   "execution_count": 111,
   "metadata": {},
   "outputs": [
    {
     "data": {
      "text/plain": [
       "(89921, 4)"
      ]
     },
     "execution_count": 111,
     "metadata": {},
     "output_type": "execute_result"
    }
   ],
   "source": [
    "MRI_train[:,:4].shape"
   ]
  },
  {
   "cell_type": "code",
   "execution_count": 141,
   "metadata": {},
   "outputs": [],
   "source": [
    "\n",
    "model2 = tf.keras.Sequential()\n",
    "model2.add(tf.keras.layers.Dropout(0.2))\n",
    "model2.add(tf.keras.layers.Dense(128, input_shape=(power_train[:,:4].shape[0],),activation=\"relu\"))\n",
    "model2.add(tf.keras.layers.Dropout(0.2))\n",
    "model2.add(tf.keras.layers.Dense(128,activation=\"relu\"))\n",
    "model2.add(tf.keras.layers.Dropout(0.2))\n",
    "model2.add(tf.keras.layers.Dense(4,activation=\"linear\"))\n",
    "l = tf.keras.losses.LogCosh()\n",
    "model2.compile(optimizer='Adam', loss=l)"
   ]
  },
  {
   "cell_type": "code",
   "execution_count": 142,
   "metadata": {},
   "outputs": [
    {
     "name": "stdout",
     "output_type": "stream",
     "text": [
      "Epoch 1/5\n",
      "  1/703 [..............................] - ETA: 3:57 - loss: 0.3690"
     ]
    },
    {
     "name": "stderr",
     "output_type": "stream",
     "text": [
      "2022-05-07 12:44:13.307745: I tensorflow/core/grappler/optimizers/custom_graph_optimizer_registry.cc:113] Plugin optimizer for device_type GPU is enabled.\n"
     ]
    },
    {
     "name": "stdout",
     "output_type": "stream",
     "text": [
      "703/703 [==============================] - 4s 6ms/step - loss: 0.3341\n",
      "Epoch 2/5\n",
      "703/703 [==============================] - 4s 6ms/step - loss: 0.3277\n",
      "Epoch 3/5\n",
      "703/703 [==============================] - 4s 6ms/step - loss: 0.3236\n",
      "Epoch 4/5\n",
      "703/703 [==============================] - 4s 6ms/step - loss: 0.3203\n",
      "Epoch 5/5\n",
      "703/703 [==============================] - 4s 6ms/step - loss: 0.3178\n"
     ]
    },
    {
     "data": {
      "text/plain": [
       "<keras.callbacks.History at 0x2d8d1dd60>"
      ]
     },
     "execution_count": 142,
     "metadata": {},
     "output_type": "execute_result"
    }
   ],
   "source": [
    "random.seed(100)\n",
    "model2.fit(power_train[:,:4], MRI_train[:,:4], batch_size=128, epochs=5)"
   ]
  },
  {
   "cell_type": "code",
   "execution_count": 114,
   "metadata": {},
   "outputs": [],
   "source": [
    "#model2.save('/model2')"
   ]
  },
  {
   "cell_type": "code",
   "execution_count": 115,
   "metadata": {},
   "outputs": [],
   "source": [
    "#model2 = tf.keras.models.load_model('/MRI/model2')"
   ]
  },
  {
   "cell_type": "code",
   "execution_count": 143,
   "metadata": {
    "scrolled": true
   },
   "outputs": [
    {
     "name": "stderr",
     "output_type": "stream",
     "text": [
      "2022-05-07 12:44:36.232928: I tensorflow/core/grappler/optimizers/custom_graph_optimizer_registry.cc:113] Plugin optimizer for device_type GPU is enabled.\n"
     ]
    },
    {
     "name": "stdout",
     "output_type": "stream",
     "text": [
      "[[1.         0.06981065]\n",
      " [0.06981065 1.        ]]\n"
     ]
    }
   ],
   "source": [
    "y_pred=model2.predict(cort_train)\n",
    "y = MRI_train[:,4:]\n",
    "y_pred_mean=np.mean(y_pred,axis=1)\n",
    "y_mean = np.mean(y,axis=1)\n",
    "# print(l(y,y_pred))\n",
    "print(np.corrcoef(y_mean,y_pred_mean))"
   ]
  },
  {
   "cell_type": "code",
   "execution_count": 144,
   "metadata": {},
   "outputs": [
    {
     "data": {
      "text/plain": [
       "<matplotlib.legend.Legend at 0x3209b0850>"
      ]
     },
     "execution_count": 144,
     "metadata": {},
     "output_type": "execute_result"
    },
    {
     "data": {
      "image/png": "[encoded data removed]",
      "text/plain": [
       "<Figure size 432x288 with 1 Axes>"
      ]
     },
     "metadata": {
      "needs_background": "light"
     },
     "output_type": "display_data"
    }
   ],
   "source": [
    "plt.plot(y_pred_mean,label='y_pred',alpha=0.5)\n",
    "plt.plot(y_mean,label='y',alpha=0.5)\n",
    "# plt.plot(np.transpose(MRI_data)[:,2],label='y')\n",
    "plt.legend()"
   ]
  },
  {
   "cell_type": "code",
   "execution_count": 161,
   "metadata": {
    "scrolled": false
   },
   "outputs": [
    {
     "data": {
      "text/plain": [
       "<matplotlib.legend.Legend at 0x324cdd850>"
      ]
     },
     "execution_count": 161,
     "metadata": {},
     "output_type": "execute_result"
    },
    {
     "data": {
      "image/png": "[encoded data removed]",
      "text/plain": [
       "<Figure size 432x288 with 1 Axes>"
      ]
     },
     "metadata": {
      "needs_background": "light"
     },
     "output_type": "display_data"
    }
   ],
   "source": [
    "\n",
    "ry_pred=RNNmodel.predict(power_train)[:,:4]\n",
    "ry=MRI_train[:,:4]\n",
    "ry_pred_mean=np.mean(ry_pred,axis=1)\n",
    "ry_mean = np.mean(ry,axis=1)\n",
    "plt.plot(ry_pred_mean,label='y_pred',alpha=0.5)\n",
    "plt.plot(ry_mean,label='y',alpha=0.5)\n",
    "# plt.plot(np.transpose(MRI_data)[:,2],label='y')\n",
    "plt.legend()"
   ]
  },
  {
   "cell_type": "code",
   "execution_count": 146,
   "metadata": {},
   "outputs": [
    {
     "name": "stdout",
     "output_type": "stream",
     "text": [
      "[[1.         0.00835898]\n",
      " [0.00835898 1.        ]]\n"
     ]
    }
   ],
   "source": [
    "print(np.corrcoef(ry_mean,ry_pred_mean))"
   ]
  },
  {
   "cell_type": "code",
   "execution_count": 164,
   "metadata": {},
   "outputs": [
    {
     "name": "stdout",
     "output_type": "stream",
     "text": [
      "Epoch 1/5\n"
     ]
    },
    {
     "name": "stderr",
     "output_type": "stream",
     "text": [
      "2022-05-07 12:53:34.702643: I tensorflow/core/grappler/optimizers/custom_graph_optimizer_registry.cc:113] Plugin optimizer for device_type GPU is enabled.\n",
      "2022-05-07 12:53:34.918018: I tensorflow/core/grappler/optimizers/custom_graph_optimizer_registry.cc:113] Plugin optimizer for device_type GPU is enabled.\n",
      "2022-05-07 12:53:35.017186: I tensorflow/core/grappler/optimizers/custom_graph_optimizer_registry.cc:113] Plugin optimizer for device_type GPU is enabled.\n"
     ]
    },
    {
     "name": "stdout",
     "output_type": "stream",
     "text": [
      "703/703 [==============================] - 13s 18ms/step - loss: 0.3363\n",
      "Epoch 2/5\n",
      "703/703 [==============================] - 13s 18ms/step - loss: 0.3280\n",
      "Epoch 3/5\n",
      "703/703 [==============================] - 12s 17ms/step - loss: 0.3238\n",
      "Epoch 4/5\n",
      "703/703 [==============================] - 12s 17ms/step - loss: 0.3225\n",
      "Epoch 5/5\n",
      "703/703 [==============================] - 12s 17ms/step - loss: 0.3222\n"
     ]
    },
    {
     "data": {
      "text/plain": [
       "<keras.callbacks.History at 0x2b5df6e20>"
      ]
     },
     "execution_count": 164,
     "metadata": {},
     "output_type": "execute_result"
    }
   ],
   "source": [
    "import numpy as np\n",
    "import tensorflow as tf\n",
    "from tensorflow import keras\n",
    "from tensorflow.keras import layers\n",
    "from tensorflow.keras.layers import Embedding, Dense, LSTM\n",
    "LSTMmodel = tf.keras.Sequential()\n",
    "LSTMmodel.add(layers.Embedding(input_dim=power_test.shape[0], output_dim=128))\n",
    "LSTMmodel.add(LSTM(128))\n",
    "LSTMmodel.add(tf.keras.layers.Dense(128, input_shape=(power_test.shape[1],),activation=\"relu\"))\n",
    "LSTMmodel.add(tf.keras.layers.Dropout(0.2))\n",
    "LSTMmodel.add(tf.keras.layers.Dense(128,activation=\"relu\"))\n",
    "LSTMmodel.add(tf.keras.layers.Dropout(0.2))\n",
    "LSTMmodel.add(tf.keras.layers.Dense(4,activation=\"linear\"))\n",
    "#l = tf.keras.losses.BinaryCrossentropy()\n",
    "l = tf.keras.losses.LogCosh()\n",
    "LSTMmodel.compile(optimizer='Adam', loss=l)\n",
    "LSTMmodel.fit(power_train[:,:4], MRI_train[:,:4], batch_size=128, epochs=5)"
   ]
  },
  {
   "cell_type": "code",
   "execution_count": 165,
   "metadata": {},
   "outputs": [
    {
     "name": "stderr",
     "output_type": "stream",
     "text": [
      "2022-05-07 12:54:36.491274: I tensorflow/core/grappler/optimizers/custom_graph_optimizer_registry.cc:113] Plugin optimizer for device_type GPU is enabled.\n",
      "2022-05-07 12:54:36.549208: I tensorflow/core/grappler/optimizers/custom_graph_optimizer_registry.cc:113] Plugin optimizer for device_type GPU is enabled.\n"
     ]
    },
    {
     "data": {
      "text/plain": [
       "<matplotlib.legend.Legend at 0x3572c4e20>"
      ]
     },
     "execution_count": 165,
     "metadata": {},
     "output_type": "execute_result"
    },
    {
     "data": {
      "image/png": "[encoded data removed]",
      "text/plain": [
       "<Figure size 432x288 with 1 Axes>"
      ]
     },
     "metadata": {
      "needs_background": "light"
     },
     "output_type": "display_data"
    }
   ],
   "source": [
    "\n",
    "ly_pred=LSTMmodel.predict(power_train)\n",
    "ly=MRI_train[:,:4]\n",
    "ly_pred_mean=np.mean(ly_pred,axis=1)\n",
    "ly_mean = np.mean(ly,axis=1)\n",
    "plt.plot(ly_pred_mean,label='y_pred',alpha=0.5)\n",
    "plt.plot(ly_mean,label='y',alpha=0.5)\n",
    "# plt.plot(np.transpose(MRI_data)[:,2],label='y')\n",
    "plt.legend()"
   ]
  },
  {
   "cell_type": "code",
   "execution_count": 166,
   "metadata": {},
   "outputs": [
    {
     "name": "stdout",
     "output_type": "stream",
     "text": [
      "[[ 1.         -0.02886846]\n",
      " [-0.02886846  1.        ]]\n"
     ]
    }
   ],
   "source": [
    "print(np.corrcoef(ly_mean,ly_pred_mean))"
   ]
  },
  {
   "cell_type": "markdown",
   "metadata": {},
   "source": [
    "# Conclusion\n",
    "\n",
    "Real data generalizes marginally better than simulated MRI/EEG data based on mostly uncorrelated colored noise and MNE/DiPy simulations. The graph neural network outperforms all other models. The RNN performs well compared to the CNN and LSTM, but CNN can predict ROI decently well. \n"
   ]
  }
 ],
 "metadata": {
  "kernelspec": {
   "display_name": "Python (myenv)",
   "language": "python",
   "name": "base"
  },
  "language_info": {
   "codemirror_mode": {
    "name": "ipython",
    "version": 3
   },
   "file_extension": ".py",
   "mimetype": "text/x-python",
   "name": "python",
   "nbconvert_exporter": "python",
   "pygments_lexer": "ipython3",
   "version": "3.9.10"
  }
 },
 "nbformat": 4,
 "nbformat_minor": 2
}
