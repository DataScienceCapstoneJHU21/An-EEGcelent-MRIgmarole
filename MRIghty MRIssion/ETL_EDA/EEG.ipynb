{
 "cells": [
  {
   "cell_type": "code",
   "execution_count": 4,
   "id": "3b984a47",
   "metadata": {},
   "outputs": [
    {
     "name": "stdout",
     "output_type": "stream",
     "text": [
      "[1.03089233 1.03229887 1.03181488 1.03123267 1.03069761]\n"
     ]
    }
   ],
   "source": [
    "from eeglib.helpers import CSVHelper\n",
    "\n",
    "helper= CSVHelper(\"fake_EEG_signal.csv\")\n",
    "\n",
    "for eeg in helper:\n",
    "    print(eeg.PFD())"
   ]
  },
  {
   "cell_type": "code",
   "execution_count": 3,
   "id": "88d61ac1",
   "metadata": {},
   "outputs": [
    {
     "name": "stdout",
     "output_type": "stream",
     "text": [
      "  % Total    % Received % Xferd  Average Speed   Time    Time     Time  Current\n",
      "                                 Dload  Upload   Total   Spent    Left  Speed\n",
      "100 90199  100 90199    0     0   889k      0 --:--:-- --:--:-- --:--:--  889k\n"
     ]
    }
   ],
   "source": [
    "!curl https://raw.githubusercontent.com/Xiul109/eeglib/master/Examples/fake_EEG_signal.csv -O"
   ]
  },
  {
   "cell_type": "code",
   "execution_count": 5,
   "id": "24f3c63c",
   "metadata": {},
   "outputs": [
    {
     "name": "stdout",
     "output_type": "stream",
     "text": [
      "[1.03922468 1.03897773 1.03971798 1.03674636 1.03873059]\n",
      "[1.03848326 1.04168343 1.04094783 1.04168343 1.03699509]\n",
      "[1.03996434 1.04045647 1.03996434 1.03774006 1.03947143]\n",
      "[1.03749194 1.04045647 1.03897773 1.0402105  1.03873059]\n"
     ]
    }
   ],
   "source": [
    "from eeglib.helpers import CSVHelper\n",
    "\n",
    "helper= CSVHelper(\"fake_EEG_signal.csv\", windowSize=256)\n",
    "\n",
    "for eeg in helper:\n",
    "    print(eeg.PFD())"
   ]
  },
  {
   "cell_type": "code",
   "execution_count": 6,
   "id": "74709699",
   "metadata": {},
   "outputs": [
    {
     "ename": "AttributeError",
     "evalue": "'_FeatureAdder' object has no attribute 'getFourierTransform'",
     "output_type": "error",
     "traceback": [
      "\u001b[0;31m---------------------------------------------------------------------------\u001b[0m",
      "\u001b[0;31mAttributeError\u001b[0m                            Traceback (most recent call last)",
      "Input \u001b[0;32mIn [6]\u001b[0m, in \u001b[0;36m<module>\u001b[0;34m\u001b[0m\n\u001b[1;32m      5\u001b[0m wrap \u001b[38;5;241m=\u001b[39m wrapper\u001b[38;5;241m.\u001b[39mWrapper(helper)\n\u001b[1;32m      7\u001b[0m wrap\u001b[38;5;241m.\u001b[39maddFeature\u001b[38;5;241m.\u001b[39mHFD()\n\u001b[0;32m----> 8\u001b[0m \u001b[43mwrap\u001b[49m\u001b[38;5;241;43m.\u001b[39;49m\u001b[43maddFeature\u001b[49m\u001b[38;5;241;43m.\u001b[39;49m\u001b[43mgetFourierTransform\u001b[49m()\n\u001b[1;32m      9\u001b[0m wrap\u001b[38;5;241m.\u001b[39maddFeature\u001b[38;5;241m.\u001b[39msynchronizationLikelihood()\n\u001b[1;32m     11\u001b[0m features\u001b[38;5;241m=\u001b[39mwrap\u001b[38;5;241m.\u001b[39mgetAllFeatures()\n",
      "\u001b[0;31mAttributeError\u001b[0m: '_FeatureAdder' object has no attribute 'getFourierTransform'"
     ]
    }
   ],
   "source": [
    "from eeglib import wrapper, helpers\n",
    "\n",
    "helper = helpers.CSVHelper(\"fake_EEG_signal.csv\", windowSize=128)\n",
    "\n",
    "wrap = wrapper.Wrapper(helper)\n",
    "\n",
    "wrap.addFeature.HFD()\n",
    "wrap.addFeature.getFourierTransform()\n",
    "wrap.addFeature.synchronizationLikelihood()\n",
    "\n",
    "features=wrap.getAllFeatures()"
   ]
  },
  {
   "cell_type": "code",
   "execution_count": 8,
   "id": "63c5981c",
   "metadata": {},
   "outputs": [
    {
     "data": {
      "text/html": [
       "<div>\n",
       "<style scoped>\n",
       "    .dataframe tbody tr th:only-of-type {\n",
       "        vertical-align: middle;\n",
       "    }\n",
       "\n",
       "    .dataframe tbody tr th {\n",
       "        vertical-align: top;\n",
       "    }\n",
       "\n",
       "    .dataframe thead th {\n",
       "        text-align: right;\n",
       "    }\n",
       "</style>\n",
       "<table border=\"1\" class=\"dataframe\">\n",
       "  <thead>\n",
       "    <tr style=\"text-align: right;\">\n",
       "      <th></th>\n",
       "      <th>HFD(){}_0</th>\n",
       "      <th>HFD(){}_1</th>\n",
       "      <th>HFD(){}_2</th>\n",
       "      <th>HFD(){}_3</th>\n",
       "      <th>HFD(){}_4</th>\n",
       "    </tr>\n",
       "    <tr>\n",
       "      <th>window_id</th>\n",
       "      <th></th>\n",
       "      <th></th>\n",
       "      <th></th>\n",
       "      <th></th>\n",
       "      <th></th>\n",
       "    </tr>\n",
       "  </thead>\n",
       "  <tbody>\n",
       "    <tr>\n",
       "      <th>0</th>\n",
       "      <td>2.075391</td>\n",
       "      <td>2.071034</td>\n",
       "      <td>2.121366</td>\n",
       "      <td>2.113046</td>\n",
       "      <td>2.122448</td>\n",
       "    </tr>\n",
       "    <tr>\n",
       "      <th>1</th>\n",
       "      <td>2.165376</td>\n",
       "      <td>2.127756</td>\n",
       "      <td>2.142201</td>\n",
       "      <td>2.185759</td>\n",
       "      <td>2.142667</td>\n",
       "    </tr>\n",
       "    <tr>\n",
       "      <th>2</th>\n",
       "      <td>2.088513</td>\n",
       "      <td>2.126656</td>\n",
       "      <td>2.119470</td>\n",
       "      <td>2.101255</td>\n",
       "      <td>2.122609</td>\n",
       "    </tr>\n",
       "    <tr>\n",
       "      <th>3</th>\n",
       "      <td>2.132532</td>\n",
       "      <td>2.147984</td>\n",
       "      <td>2.123692</td>\n",
       "      <td>2.176121</td>\n",
       "      <td>2.180053</td>\n",
       "    </tr>\n",
       "    <tr>\n",
       "      <th>4</th>\n",
       "      <td>2.119542</td>\n",
       "      <td>2.149438</td>\n",
       "      <td>2.103158</td>\n",
       "      <td>2.072021</td>\n",
       "      <td>2.122049</td>\n",
       "    </tr>\n",
       "    <tr>\n",
       "      <th>5</th>\n",
       "      <td>2.152988</td>\n",
       "      <td>2.141881</td>\n",
       "      <td>2.150179</td>\n",
       "      <td>2.176188</td>\n",
       "      <td>2.149479</td>\n",
       "    </tr>\n",
       "    <tr>\n",
       "      <th>6</th>\n",
       "      <td>2.129761</td>\n",
       "      <td>2.104530</td>\n",
       "      <td>2.093110</td>\n",
       "      <td>2.110664</td>\n",
       "      <td>2.092894</td>\n",
       "    </tr>\n",
       "    <tr>\n",
       "      <th>7</th>\n",
       "      <td>2.176519</td>\n",
       "      <td>2.149823</td>\n",
       "      <td>2.146592</td>\n",
       "      <td>2.109823</td>\n",
       "      <td>2.123788</td>\n",
       "    </tr>\n",
       "  </tbody>\n",
       "</table>\n",
       "</div>"
      ],
      "text/plain": [
       "           HFD(){}_0  HFD(){}_1  HFD(){}_2  HFD(){}_3  HFD(){}_4\n",
       "window_id                                                       \n",
       "0           2.075391   2.071034   2.121366   2.113046   2.122448\n",
       "1           2.165376   2.127756   2.142201   2.185759   2.142667\n",
       "2           2.088513   2.126656   2.119470   2.101255   2.122609\n",
       "3           2.132532   2.147984   2.123692   2.176121   2.180053\n",
       "4           2.119542   2.149438   2.103158   2.072021   2.122049\n",
       "5           2.152988   2.141881   2.150179   2.176188   2.149479\n",
       "6           2.129761   2.104530   2.093110   2.110664   2.092894\n",
       "7           2.176519   2.149823   2.146592   2.109823   2.123788"
      ]
     },
     "execution_count": 8,
     "metadata": {},
     "output_type": "execute_result"
    }
   ],
   "source": [
    "wrap.getAllFeatures()"
   ]
  },
  {
   "cell_type": "code",
   "execution_count": 1,
   "id": "3a88dca3",
   "metadata": {},
   "outputs": [
    {
     "name": "stdout",
     "output_type": "stream",
     "text": [
      "Defaulting to user installation because normal site-packages is not writeable\n",
      "Collecting imageio\n",
      "  Downloading imageio-2.13.5-py3-none-any.whl (3.3 MB)\n",
      "     |████████████████████████████████| 3.3 MB 3.9 MB/s            \n",
      "\u001b[?25hCollecting pillow>=8.3.2\n",
      "  Downloading Pillow-9.0.0-cp39-cp39-manylinux_2_17_x86_64.manylinux2014_x86_64.whl (4.3 MB)\n",
      "     |████████████████████████████████| 4.3 MB 7.8 MB/s            \n",
      "\u001b[?25hRequirement already satisfied: numpy in ./.local/lib/python3.9/site-packages (from imageio) (1.21.5)\n",
      "Installing collected packages: pillow, imageio\n",
      "\u001b[33m  WARNING: The scripts imageio_download_bin and imageio_remove_bin are installed in '/home/ssack/.local/bin' which is not on PATH.\n",
      "  Consider adding this directory to PATH or, if you prefer to suppress this warning, use --no-warn-script-location.\u001b[0m\n",
      "Successfully installed imageio-2.13.5 pillow-9.0.0\n"
     ]
    }
   ],
   "source": [
    "!pip install imageio"
   ]
  },
  {
   "cell_type": "code",
   "execution_count": 1,
   "id": "e95e1c39",
   "metadata": {},
   "outputs": [
    {
     "ename": "ValueError",
     "evalue": "Could not find a backend to open `xmFRAANN.hdr`` with iomode `ri`.",
     "output_type": "error",
     "traceback": [
      "\u001b[0;31m---------------------------------------------------------------------------\u001b[0m",
      "\u001b[0;31mValueError\u001b[0m                                Traceback (most recent call last)",
      "Input \u001b[0;32mIn [1]\u001b[0m, in \u001b[0;36m<module>\u001b[0;34m\u001b[0m\n\u001b[1;32m      1\u001b[0m \u001b[38;5;28;01mimport\u001b[39;00m \u001b[38;5;21;01mimageio\u001b[39;00m\n\u001b[1;32m      3\u001b[0m hdr_path \u001b[38;5;241m=\u001b[39m \u001b[38;5;124m\"\u001b[39m\u001b[38;5;124mxmFRAANN.hdr\u001b[39m\u001b[38;5;124m\"\u001b[39m\n\u001b[0;32m----> 4\u001b[0m img \u001b[38;5;241m=\u001b[39m \u001b[43mimageio\u001b[49m\u001b[38;5;241;43m.\u001b[39;49m\u001b[43mimread\u001b[49m\u001b[43m(\u001b[49m\u001b[43mhdr_path\u001b[49m\u001b[43m)\u001b[49m \u001b[38;5;66;03m# returns a tuple\u001b[39;00m\n\u001b[1;32m      6\u001b[0m img \u001b[38;5;241m=\u001b[39m np\u001b[38;5;241m.\u001b[39marray(img)\n",
      "File \u001b[0;32m~/.local/lib/python3.9/site-packages/imageio/core/functions.py:159\u001b[0m, in \u001b[0;36mimread\u001b[0;34m(uri, format, **kwargs)\u001b[0m\n\u001b[1;32m    154\u001b[0m \u001b[38;5;28;01mif\u001b[39;00m \u001b[38;5;124m\"\u001b[39m\u001b[38;5;124mmode\u001b[39m\u001b[38;5;124m\"\u001b[39m \u001b[38;5;129;01min\u001b[39;00m kwargs:\n\u001b[1;32m    155\u001b[0m     \u001b[38;5;28;01mraise\u001b[39;00m \u001b[38;5;167;01mTypeError\u001b[39;00m(\n\u001b[1;32m    156\u001b[0m         \u001b[38;5;124m'\u001b[39m\u001b[38;5;124mInvalid keyword argument \u001b[39m\u001b[38;5;124m\"\u001b[39m\u001b[38;5;124mmode\u001b[39m\u001b[38;5;124m\"\u001b[39m\u001b[38;5;124m, \u001b[39m\u001b[38;5;124m'\u001b[39m \u001b[38;5;124m'\u001b[39m\u001b[38;5;124mperhaps you mean \u001b[39m\u001b[38;5;124m\"\u001b[39m\u001b[38;5;124mpilmode\u001b[39m\u001b[38;5;124m\"\u001b[39m\u001b[38;5;124m?\u001b[39m\u001b[38;5;124m'\u001b[39m\n\u001b[1;32m    157\u001b[0m     )\n\u001b[0;32m--> 159\u001b[0m \u001b[38;5;28;01mwith\u001b[39;00m \u001b[43mimopen\u001b[49m\u001b[43m(\u001b[49m\u001b[43muri\u001b[49m\u001b[43m,\u001b[49m\u001b[43m \u001b[49m\u001b[38;5;124;43m\"\u001b[39;49m\u001b[38;5;124;43mri\u001b[39;49m\u001b[38;5;124;43m\"\u001b[39;49m\u001b[43m,\u001b[49m\u001b[43m \u001b[49m\u001b[43mplugin\u001b[49m\u001b[38;5;241;43m=\u001b[39;49m\u001b[38;5;28;43mformat\u001b[39;49m\u001b[43m)\u001b[49m \u001b[38;5;28;01mas\u001b[39;00m file:\n\u001b[1;32m    160\u001b[0m     \u001b[38;5;28;01mreturn\u001b[39;00m file\u001b[38;5;241m.\u001b[39mread(index\u001b[38;5;241m=\u001b[39m\u001b[38;5;241m0\u001b[39m, \u001b[38;5;241m*\u001b[39m\u001b[38;5;241m*\u001b[39mkwargs)\n",
      "File \u001b[0;32m~/.local/lib/python3.9/site-packages/imageio/core/imopen.py:277\u001b[0m, in \u001b[0;36mimopen\u001b[0;34m(uri, io_mode, plugin, legacy_mode, **kwargs)\u001b[0m\n\u001b[1;32m    271\u001b[0m         err_msg \u001b[38;5;241m+\u001b[39m\u001b[38;5;241m=\u001b[39m (\n\u001b[1;32m    272\u001b[0m             \u001b[38;5;124m\"\u001b[39m\u001b[38;5;130;01m\\n\u001b[39;00m\u001b[38;5;124mBased on the extension, the following plugins might add capable backends:\u001b[39m\u001b[38;5;130;01m\\n\u001b[39;00m\u001b[38;5;124m\"\u001b[39m\n\u001b[1;32m    273\u001b[0m             \u001b[38;5;124mf\u001b[39m\u001b[38;5;124m\"\u001b[39m\u001b[38;5;132;01m{\u001b[39;00minstall_candidates\u001b[38;5;132;01m}\u001b[39;00m\u001b[38;5;124m\"\u001b[39m\n\u001b[1;32m    274\u001b[0m         )\n\u001b[1;32m    276\u001b[0m request\u001b[38;5;241m.\u001b[39mfinish()\n\u001b[0;32m--> 277\u001b[0m \u001b[38;5;28;01mraise\u001b[39;00m err_type(err_msg)\n",
      "\u001b[0;31mValueError\u001b[0m: Could not find a backend to open `xmFRAANN.hdr`` with iomode `ri`."
     ]
    }
   ],
   "source": [
    "import imageio\n",
    "\n",
    "hdr_path = \"xmFRAANN.hdr\"\n",
    "img = imageio.imread(hdr_path) # returns a tuple\n",
    "\n",
    "img = np.array(img)"
   ]
  },
  {
   "cell_type": "code",
   "execution_count": 11,
   "id": "18f7e0e4",
   "metadata": {},
   "outputs": [
    {
     "ename": "AttributeError",
     "evalue": "module 'cv2' has no attribute 'xphoto'",
     "output_type": "error",
     "traceback": [
      "\u001b[0;31m---------------------------------------------------------------------------\u001b[0m",
      "\u001b[0;31mAttributeError\u001b[0m                            Traceback (most recent call last)",
      "Input \u001b[0;32mIn [11]\u001b[0m, in \u001b[0;36m<module>\u001b[0;34m\u001b[0m\n\u001b[1;32m      4\u001b[0m filename \u001b[38;5;241m=\u001b[39m hdr_path\n\u001b[1;32m      5\u001b[0m im \u001b[38;5;241m=\u001b[39m cv2\u001b[38;5;241m.\u001b[39mimread(filename, cv2\u001b[38;5;241m.\u001b[39mIMREAD_ANYDEPTH)\n\u001b[0;32m----> 7\u001b[0m tonemapDurand \u001b[38;5;241m=\u001b[39m \u001b[43mcv2\u001b[49m\u001b[38;5;241;43m.\u001b[39;49m\u001b[43mxphoto\u001b[49m\u001b[38;5;241m.\u001b[39mcreateTonemapDurand(\u001b[38;5;241m2.2\u001b[39m)\n\u001b[1;32m      8\u001b[0m \u001b[38;5;66;03m#cv2.createTonemapReinhard(2.2)\u001b[39;00m\n\u001b[1;32m      9\u001b[0m ldrDurand \u001b[38;5;241m=\u001b[39m tonemapDurand\u001b[38;5;241m.\u001b[39mprocess(im)\n",
      "\u001b[0;31mAttributeError\u001b[0m: module 'cv2' has no attribute 'xphoto'"
     ]
    }
   ],
   "source": [
    "import cv2\n",
    "import numpy as np\n",
    "hdr_path = \"xmFRAANN.hdr\"\n",
    "filename = hdr_path\n",
    "im = cv2.imread(filename, cv2.IMREAD_ANYDEPTH)\n",
    "\n",
    "tonemapDurand = cv2.xphoto.createTonemapDurand(2.2)\n",
    "#cv2.createTonemapReinhard(2.2)\n",
    "ldrDurand = tonemapDurand.process(im)\n",
    "\n",
    "im2_8bit = np.clip(ldrDurand * 255, 0, 255).astype('uint8')\n",
    "\n",
    "new_filename = filename + \".jpg\"\n",
    "cv2.imwrite(new_filename, im2_8bit)"
   ]
  },
  {
   "cell_type": "code",
   "execution_count": 1,
   "id": "9478e5bd",
   "metadata": {},
   "outputs": [
    {
     "ename": "NameError",
     "evalue": "name 'cv2' is not defined",
     "output_type": "error",
     "traceback": [
      "\u001b[0;31m---------------------------------------------------------------------------\u001b[0m",
      "\u001b[0;31mNameError\u001b[0m                                 Traceback (most recent call last)",
      "Input \u001b[0;32mIn [1]\u001b[0m, in \u001b[0;36m<module>\u001b[0;34m\u001b[0m\n\u001b[1;32m      2\u001b[0m hdr_path \u001b[38;5;241m=\u001b[39m \u001b[38;5;124m\"\u001b[39m\u001b[38;5;124mxmFRAANN.hdr\u001b[39m\u001b[38;5;124m\"\u001b[39m\n\u001b[1;32m      3\u001b[0m filename \u001b[38;5;241m=\u001b[39m hdr_path\n\u001b[0;32m----> 4\u001b[0m im \u001b[38;5;241m=\u001b[39m \u001b[43mcv2\u001b[49m\u001b[38;5;241m.\u001b[39mimread(filename)\n\u001b[1;32m      5\u001b[0m tonemapDrago \u001b[38;5;241m=\u001b[39m cv2\u001b[38;5;241m.\u001b[39mcreateTonemapDrago(\u001b[38;5;241m1.0\u001b[39m, \u001b[38;5;241m0.7\u001b[39m)\n\u001b[1;32m      6\u001b[0m ldrDrago \u001b[38;5;241m=\u001b[39m tonemapDrago\u001b[38;5;241m.\u001b[39mprocess(im)\n",
      "\u001b[0;31mNameError\u001b[0m: name 'cv2' is not defined"
     ]
    }
   ],
   "source": [
    "# Tonemap using Drago's method to obtain 24-bit color image\n",
    "hdr_path = \"xmFRAANN.hdr\"\n",
    "filename = hdr_path\n",
    "im = cv2.imread(filename)\n",
    "tonemapDrago = cv2.createTonemapDrago(1.0, 0.7)\n",
    "ldrDrago = tonemapDrago.process(im)\n",
    "ldrDrago = 3 * ldrDrago\n",
    "cv2.imwrite(\"ldr-Drago.jpg\", ldrDrago * 255)"
   ]
  },
  {
   "cell_type": "code",
   "execution_count": 2,
   "id": "88304160",
   "metadata": {},
   "outputs": [
    {
     "ename": "NameError",
     "evalue": "name 'cv2' is not defined",
     "output_type": "error",
     "traceback": [
      "\u001b[0;31m---------------------------------------------------------------------------\u001b[0m",
      "\u001b[0;31mNameError\u001b[0m                                 Traceback (most recent call last)",
      "Input \u001b[0;32mIn [2]\u001b[0m, in \u001b[0;36m<module>\u001b[0;34m\u001b[0m\n\u001b[0;32m----> 1\u001b[0m tonemap \u001b[38;5;241m=\u001b[39m \u001b[43mcv2\u001b[49m\u001b[38;5;241m.\u001b[39mcreateTonemap(\u001b[38;5;241m2.2\u001b[39m)\n\u001b[1;32m      2\u001b[0m ldr \u001b[38;5;241m=\u001b[39m tonemap\u001b[38;5;241m.\u001b[39mprocess(im)\n",
      "\u001b[0;31mNameError\u001b[0m: name 'cv2' is not defined"
     ]
    }
   ],
   "source": [
    "tonemap = cv2.createTonemap(2.2)\n",
    "ldr = tonemap.process(im)"
   ]
  },
  {
   "cell_type": "code",
   "execution_count": 3,
   "id": "c108b5a8",
   "metadata": {},
   "outputs": [
    {
     "ename": "NameError",
     "evalue": "name 'cv2' is not defined",
     "output_type": "error",
     "traceback": [
      "\u001b[0;31m---------------------------------------------------------------------------\u001b[0m",
      "\u001b[0;31mNameError\u001b[0m                                 Traceback (most recent call last)",
      "Input \u001b[0;32mIn [3]\u001b[0m, in \u001b[0;36m<module>\u001b[0;34m\u001b[0m\n\u001b[0;32m----> 1\u001b[0m img \u001b[38;5;241m=\u001b[39m \u001b[43mcv2\u001b[49m\u001b[38;5;241m.\u001b[39mimread(hdr_path, flags\u001b[38;5;241m=\u001b[39mcv2\u001b[38;5;241m.\u001b[39mIMREAD_ANYDEPTH)\n",
      "\u001b[0;31mNameError\u001b[0m: name 'cv2' is not defined"
     ]
    }
   ],
   "source": [
    "img = cv2.imread(hdr_path, flags=cv2.IMREAD_ANYDEPTH)"
   ]
  },
  {
   "cell_type": "code",
   "execution_count": 4,
   "id": "71ae02c1",
   "metadata": {},
   "outputs": [
    {
     "ename": "NameError",
     "evalue": "name 'img' is not defined",
     "output_type": "error",
     "traceback": [
      "\u001b[0;31m---------------------------------------------------------------------------\u001b[0m",
      "\u001b[0;31mNameError\u001b[0m                                 Traceback (most recent call last)",
      "Input \u001b[0;32mIn [4]\u001b[0m, in \u001b[0;36m<module>\u001b[0;34m\u001b[0m\n\u001b[0;32m----> 1\u001b[0m \u001b[43mimg\u001b[49m\n",
      "\u001b[0;31mNameError\u001b[0m: name 'img' is not defined"
     ]
    }
   ],
   "source": [
    "img"
   ]
  },
  {
   "cell_type": "code",
   "execution_count": 5,
   "id": "97290f7b",
   "metadata": {},
   "outputs": [
    {
     "ename": "ModuleNotFoundError",
     "evalue": "No module named 'OpenImageIO'",
     "output_type": "error",
     "traceback": [
      "\u001b[0;31m---------------------------------------------------------------------------\u001b[0m",
      "\u001b[0;31mModuleNotFoundError\u001b[0m                       Traceback (most recent call last)",
      "Input \u001b[0;32mIn [5]\u001b[0m, in \u001b[0;36m<module>\u001b[0;34m\u001b[0m\n\u001b[0;32m----> 1\u001b[0m \u001b[38;5;28;01mfrom\u001b[39;00m \u001b[38;5;21;01mOpenImageIO\u001b[39;00m \u001b[38;5;28;01mimport\u001b[39;00m ImageBuf\n\u001b[1;32m      3\u001b[0m img \u001b[38;5;241m=\u001b[39m ImageBuf(hdr_path)\n\u001b[1;32m      5\u001b[0m \u001b[38;5;66;03m# OpenImageIO has a lot of handy functions for manipulating\u001b[39;00m\n\u001b[1;32m      6\u001b[0m \u001b[38;5;66;03m# and writing the image back out.\u001b[39;00m\n\u001b[1;32m      7\u001b[0m \u001b[38;5;66;03m# You could also get a numpy array for the pixel data with:\u001b[39;00m\n",
      "\u001b[0;31mModuleNotFoundError\u001b[0m: No module named 'OpenImageIO'"
     ]
    }
   ],
   "source": [
    "from OpenImageIO import ImageBuf\n",
    "\n",
    "img = ImageBuf(hdr_path)\n",
    "\n",
    "# OpenImageIO has a lot of handy functions for manipulating\n",
    "# and writing the image back out.\n",
    "# You could also get a numpy array for the pixel data with:\n",
    "img.get_pixels()"
   ]
  },
  {
   "cell_type": "code",
   "execution_count": 14,
   "id": "8e35d5d0",
   "metadata": {},
   "outputs": [
    {
     "ename": "UnicodeDecodeError",
     "evalue": "'utf-8' codec can't decode byte 0x90 in position 46: invalid start byte",
     "output_type": "error",
     "traceback": [
      "\u001b[0;31m---------------------------------------------------------------------------\u001b[0m",
      "\u001b[0;31mUnicodeDecodeError\u001b[0m                        Traceback (most recent call last)",
      "Input \u001b[0;32mIn [14]\u001b[0m, in \u001b[0;36m<module>\u001b[0;34m\u001b[0m\n\u001b[1;32m      2\u001b[0m \u001b[38;5;28;01mimport\u001b[39;00m \u001b[38;5;21;01mmatplotlib\u001b[39;00m\u001b[38;5;21;01m.\u001b[39;00m\u001b[38;5;21;01mpyplot\u001b[39;00m \u001b[38;5;28;01mas\u001b[39;00m \u001b[38;5;21;01mplt\u001b[39;00m\n\u001b[1;32m      4\u001b[0m f \u001b[38;5;241m=\u001b[39m \u001b[38;5;28mopen\u001b[39m(\u001b[38;5;124m\"\u001b[39m\u001b[38;5;124mxmFRAANN.hdr\u001b[39m\u001b[38;5;124m\"\u001b[39m, \u001b[38;5;124m'\u001b[39m\u001b[38;5;124mr\u001b[39m\u001b[38;5;124m'\u001b[39m)\n\u001b[0;32m----> 5\u001b[0m data \u001b[38;5;241m=\u001b[39m \u001b[43mf\u001b[49m\u001b[38;5;241;43m.\u001b[39;49m\u001b[43mread\u001b[49m\u001b[43m(\u001b[49m\u001b[43m)\u001b[49m\n\u001b[1;32m      6\u001b[0m \u001b[38;5;28mprint\u001b[39m (data)\n\u001b[1;32m      8\u001b[0m \u001b[38;5;28;01mfor\u001b[39;00m line \u001b[38;5;129;01min\u001b[39;00m f:\n",
      "File \u001b[0;32m/usr/lib/python3.9/codecs.py:322\u001b[0m, in \u001b[0;36mBufferedIncrementalDecoder.decode\u001b[0;34m(self, input, final)\u001b[0m\n\u001b[1;32m    319\u001b[0m \u001b[38;5;28;01mdef\u001b[39;00m \u001b[38;5;21mdecode\u001b[39m(\u001b[38;5;28mself\u001b[39m, \u001b[38;5;28minput\u001b[39m, final\u001b[38;5;241m=\u001b[39m\u001b[38;5;28;01mFalse\u001b[39;00m):\n\u001b[1;32m    320\u001b[0m     \u001b[38;5;66;03m# decode input (taking the buffer into account)\u001b[39;00m\n\u001b[1;32m    321\u001b[0m     data \u001b[38;5;241m=\u001b[39m \u001b[38;5;28mself\u001b[39m\u001b[38;5;241m.\u001b[39mbuffer \u001b[38;5;241m+\u001b[39m \u001b[38;5;28minput\u001b[39m\n\u001b[0;32m--> 322\u001b[0m     (result, consumed) \u001b[38;5;241m=\u001b[39m \u001b[38;5;28;43mself\u001b[39;49m\u001b[38;5;241;43m.\u001b[39;49m\u001b[43m_buffer_decode\u001b[49m\u001b[43m(\u001b[49m\u001b[43mdata\u001b[49m\u001b[43m,\u001b[49m\u001b[43m \u001b[49m\u001b[38;5;28;43mself\u001b[39;49m\u001b[38;5;241;43m.\u001b[39;49m\u001b[43merrors\u001b[49m\u001b[43m,\u001b[49m\u001b[43m \u001b[49m\u001b[43mfinal\u001b[49m\u001b[43m)\u001b[49m\n\u001b[1;32m    323\u001b[0m     \u001b[38;5;66;03m# keep undecoded input until the next call\u001b[39;00m\n\u001b[1;32m    324\u001b[0m     \u001b[38;5;28mself\u001b[39m\u001b[38;5;241m.\u001b[39mbuffer \u001b[38;5;241m=\u001b[39m data[consumed:]\n",
      "\u001b[0;31mUnicodeDecodeError\u001b[0m: 'utf-8' codec can't decode byte 0x90 in position 46: invalid start byte"
     ]
    }
   ],
   "source": [
    "import numpy as np\n",
    "import matplotlib.pyplot as plt\n",
    "\n",
    "f = open(\"xmFRAANN.hdr\", 'r')\n",
    "data = f.read()\n",
    "print (data)\n",
    "\n",
    "for line in f:\n",
    "    columns = line.split()\n",
    "    time = float(columns[2])\n",
    "    print (time)\n",
    "\n",
    "f.close()"
   ]
  },
  {
   "cell_type": "code",
   "execution_count": 19,
   "id": "357560a8",
   "metadata": {},
   "outputs": [
    {
     "ename": "ModuleNotFoundError",
     "evalue": "No module named 'smc'",
     "output_type": "error",
     "traceback": [
      "\u001b[0;31m---------------------------------------------------------------------------\u001b[0m",
      "\u001b[0;31mModuleNotFoundError\u001b[0m                       Traceback (most recent call last)",
      "Input \u001b[0;32mIn [19]\u001b[0m, in \u001b[0;36m<module>\u001b[0;34m\u001b[0m\n\u001b[1;32m      1\u001b[0m \u001b[38;5;28;01mimport\u001b[39;00m \u001b[38;5;21;01marray\u001b[39;00m\n\u001b[0;32m----> 2\u001b[0m \u001b[38;5;28;01mimport\u001b[39;00m \u001b[38;5;21;01msmc\u001b[39;00m\u001b[38;5;21;01m.\u001b[39;00m\u001b[38;5;21;01mfreeimage\u001b[39;00m \u001b[38;5;28;01mas\u001b[39;00m \u001b[38;5;21;01mfi\u001b[39;00m\n\u001b[1;32m      3\u001b[0m \u001b[38;5;28;01mfrom\u001b[39;00m \u001b[38;5;21;01mPIL\u001b[39;00m \u001b[38;5;28;01mimport\u001b[39;00m Image\n\u001b[1;32m      4\u001b[0m \u001b[38;5;28;01mimport\u001b[39;00m \u001b[38;5;21;01mnumpy\u001b[39;00m \u001b[38;5;28;01mas\u001b[39;00m \u001b[38;5;21;01mnp\u001b[39;00m\n",
      "\u001b[0;31mModuleNotFoundError\u001b[0m: No module named 'smc'"
     ]
    }
   ],
   "source": [
    "import array\n",
    "import smc.freeimage as fi\n",
    "from PIL import Image\n",
    "import numpy as np\n",
    "import cv2\n",
    "\n",
    "def gamma_correction(a, gamma):\n",
    "\treturn np.power(a, 1/gamma)\n",
    "\n",
    "def load_hdr(file):\n",
    "\timg = fi.Image(file).flipVertical()\n",
    "\n",
    "\tsize = img.height * img.pitch\n",
    "\traw = img.getRaw()\n",
    "\tfloats = array.array('f', raw)\n",
    "\n",
    "\ta1 = np.array(floats).reshape((img.width, img.height, 3))\n",
    "\ta2 = np.clip(gamma_correction(a1, 2.2), 0, 1)\n",
    "\treturn (a2 * 255).astype(np.uint8)\n",
    "\n",
    "def save_image(file, image):\n",
    "\timg2 = Image.fromarray(image)\n",
    "\timg2.save(file)\n",
    "\n",
    "image = load_hdr(\"xmFRAANN.hdr\")\n",
    "save_image('grace_probe.png', image)\n"
   ]
  },
  {
   "cell_type": "code",
   "execution_count": 21,
   "id": "99c720b6",
   "metadata": {},
   "outputs": [
    {
     "name": "stdout",
     "output_type": "stream",
     "text": [
      "Defaulting to user installation because normal site-packages is not writeable\n",
      "Collecting nibabel\n",
      "  Downloading nibabel-3.2.1-py3-none-any.whl (3.3 MB)\n",
      "     |████████████████████████████████| 3.3 MB 5.9 MB/s            \n",
      "\u001b[?25hRequirement already satisfied: packaging>=14.3 in /usr/local/lib/python3.9/dist-packages (from nibabel) (21.3)\n",
      "Requirement already satisfied: numpy>=1.14 in ./.local/lib/python3.9/site-packages (from nibabel) (1.21.5)\n",
      "Requirement already satisfied: pyparsing!=3.0.5,>=2.0.2 in /usr/local/lib/python3.9/dist-packages (from packaging>=14.3->nibabel) (3.0.6)\n",
      "Installing collected packages: nibabel\n",
      "\u001b[33m  WARNING: The scripts nib-conform, nib-dicomfs, nib-diff, nib-ls, nib-nifti-dx, nib-roi, nib-stats, nib-tck2trk, nib-trk2tck and parrec2nii are installed in '/home/ssack/.local/bin' which is not on PATH.\n",
      "  Consider adding this directory to PATH or, if you prefer to suppress this warning, use --no-warn-script-location.\u001b[0m\n",
      "Successfully installed nibabel-3.2.1\n"
     ]
    }
   ],
   "source": [
    "!pip install nibabel"
   ]
  },
  {
   "cell_type": "code",
   "execution_count": 36,
   "id": "f901c980",
   "metadata": {},
   "outputs": [],
   "source": [
    "import nibabel as nb\n",
    "hdr = nb.load(\"xmFRAANN.hdr\")"
   ]
  },
  {
   "cell_type": "code",
   "execution_count": 37,
   "id": "e24f5497",
   "metadata": {},
   "outputs": [
    {
     "name": "stdout",
     "output_type": "stream",
     "text": [
      "<class 'nibabel.nifti1.Nifti1PairHeader'> object, endian='<'\n",
      "sizeof_hdr      : 348\n",
      "data_type       : b''\n",
      "db_name         : b''\n",
      "extents         : 0\n",
      "session_error   : 0\n",
      "regular         : b'r'\n",
      "dim_info        : 0\n",
      "dim             : [  3 512 512 144   1   1   1   1]\n",
      "intent_p1       : 0.0\n",
      "intent_p2       : 0.0\n",
      "intent_p3       : 0.0\n",
      "intent_code     : none\n",
      "datatype        : int16\n",
      "bitpix          : 16\n",
      "slice_start     : 0\n",
      "pixdim          : [-1.    0.47  0.47  1.2   0.    0.    0.    0.  ]\n",
      "vox_offset      : 0.0\n",
      "scl_slope       : nan\n",
      "scl_inter       : nan\n",
      "slice_end       : 0\n",
      "slice_code      : unknown\n",
      "xyzt_units      : 10\n",
      "cal_max         : 0.0\n",
      "cal_min         : 0.0\n",
      "slice_duration  : 0.0\n",
      "toffset         : 0.0\n",
      "glmax           : 32767\n",
      "glmin           : 0\n",
      "descrip         : b'Bias Corrected'\n",
      "aux_file        : b''\n",
      "qform_code      : aligned\n",
      "sform_code      : aligned\n",
      "quatern_b       : 0.0\n",
      "quatern_c       : 1.0\n",
      "quatern_d       : 0.0\n",
      "qoffset_x       : 119.765625\n",
      "qoffset_y       : -119.765625\n",
      "qoffset_z       : -85.80006\n",
      "srow_x          : [ -0.46875    0.         0.       119.765625]\n",
      "srow_y          : [   0.          0.46875     0.       -119.765625]\n",
      "srow_z          : [  0.          0.          1.2000008 -85.80006  ]\n",
      "intent_name     : b''\n",
      "magic           : b'ni1'\n"
     ]
    }
   ],
   "source": [
    "print(hdr.header)"
   ]
  },
  {
   "cell_type": "code",
   "execution_count": 38,
   "id": "28ff82b2",
   "metadata": {},
   "outputs": [
    {
     "ename": "AttributeError",
     "evalue": "'Nifti1Pair' object has no attribute 'keys'",
     "output_type": "error",
     "traceback": [
      "\u001b[0;31m---------------------------------------------------------------------------\u001b[0m",
      "\u001b[0;31mAttributeError\u001b[0m                            Traceback (most recent call last)",
      "Input \u001b[0;32mIn [38]\u001b[0m, in \u001b[0;36m<module>\u001b[0;34m\u001b[0m\n\u001b[1;32m      1\u001b[0m t1_hdr \u001b[38;5;241m=\u001b[39mhdr\n\u001b[0;32m----> 2\u001b[0m \u001b[38;5;28mprint\u001b[39m(\u001b[43mhdr\u001b[49m\u001b[38;5;241;43m.\u001b[39;49m\u001b[43mkeys\u001b[49m())\n",
      "\u001b[0;31mAttributeError\u001b[0m: 'Nifti1Pair' object has no attribute 'keys'"
     ]
    }
   ],
   "source": [
    "t1_hdr =hdr\n",
    "print(hdr.keys())"
   ]
  },
  {
   "cell_type": "code",
   "execution_count": 39,
   "id": "f05d521f",
   "metadata": {},
   "outputs": [
    {
     "name": "stdout",
     "output_type": "stream",
     "text": [
      "[[  -0.47          0.            0.          119.765625  ]\n",
      " [   0.            0.47          0.         -119.765625  ]\n",
      " [   0.            0.            1.20000005  -85.80005646]\n",
      " [   0.            0.            0.            1.        ]]\n"
     ]
    }
   ],
   "source": [
    "print(hdr.get_qform())"
   ]
  },
  {
   "cell_type": "code",
   "execution_count": 40,
   "id": "46264a56",
   "metadata": {},
   "outputs": [
    {
     "name": "stdout",
     "output_type": "stream",
     "text": [
      "[[  -0.46875       0.            0.          119.765625  ]\n",
      " [   0.            0.46875       0.         -119.765625  ]\n",
      " [   0.            0.            1.20000076  -85.80005646]\n",
      " [   0.            0.            0.            1.        ]]\n"
     ]
    }
   ],
   "source": [
    "print(hdr.get_sform())"
   ]
  },
  {
   "cell_type": "code",
   "execution_count": 43,
   "id": "d46d9cb5",
   "metadata": {},
   "outputs": [],
   "source": [
    "import nibabel as nb\n",
    "img = nb.load(\"xmFRAANN.img\")\n",
    "img_data =img.get_fdata()\n"
   ]
  },
  {
   "cell_type": "code",
   "execution_count": 44,
   "id": "f50eeabf",
   "metadata": {},
   "outputs": [
    {
     "data": {
      "text/plain": [
       "(512, 512, 144)"
      ]
     },
     "execution_count": 44,
     "metadata": {},
     "output_type": "execute_result"
    }
   ],
   "source": [
    "img_data.shape"
   ]
  },
  {
   "cell_type": "code",
   "execution_count": 46,
   "id": "8fadc6b3",
   "metadata": {},
   "outputs": [
    {
     "name": "stdout",
     "output_type": "stream",
     "text": [
      "(512, 512, 144)\n",
      "(0.47, 0.47, 1.2)\n",
      "('mm', 'sec')\n"
     ]
    }
   ],
   "source": [
    "f_img = nb.load(\"xmFRAANN.img\")\n",
    "print(f_img.shape)\n",
    "print(f_img.header.get_zooms())\n",
    "print(f_img.header.get_xyzt_units())"
   ]
  },
  {
   "cell_type": "code",
   "execution_count": 59,
   "id": "2ab789ec",
   "metadata": {},
   "outputs": [
    {
     "data": {
      "text/plain": [
       "256.0"
      ]
     },
     "execution_count": 59,
     "metadata": {},
     "output_type": "execute_result"
    }
   ],
   "source": [
    "512/2"
   ]
  },
  {
   "cell_type": "code",
   "execution_count": 52,
   "id": "7389574a",
   "metadata": {},
   "outputs": [
    {
     "name": "stdout",
     "output_type": "stream",
     "text": [
      "[[[439.16722988 438.00541181 419.84436096 382.54388613]\n",
      "  [421.8622555  418.31565297 400.27689875 373.98312141]\n",
      "  [416.8480933  403.578908   377.1016857  355.76092223]\n",
      "  [411.83393111 396.11881303 369.70273905 350.80790836]\n",
      "  [409.32685002 400.88838194 384.13374243 363.95479703]\n",
      "  [414.09641893 414.21871557 407.12551052 372.33211679]]\n",
      "\n",
      " [[456.10531436 445.03746855 429.32235046 411.34474456]\n",
      "  [432.68550803 424.18589163 406.08598909 393.06139706]\n",
      "  [422.71833197 415.50283028 391.41039244 379.66991511]\n",
      "  [429.99498197 416.66464835 393.73402857 385.60130209]\n",
      "  [443.44761224 427.5490492  410.61096473 403.64005632]\n",
      "  [460.50799335 443.26416728 431.15680004 413.11804582]]\n",
      "\n",
      " [[486.49602909 453.29249166 422.96292524 411.03900296]\n",
      "  [447.1165114  427.5490492  398.50359749 389.20905294]\n",
      "  [429.81153702 421.37306894 395.99651639 381.81010629]\n",
      "  [443.20301896 434.64225425 411.65048616 393.79517689]\n",
      "  [471.33124588 456.53335259 432.19632147 417.82646642]\n",
      "  [495.79057364 472.24847068 446.62732485 430.97335508]]\n",
      "\n",
      " [[507.04186441 461.54751478 425.10311642 418.00991137]\n",
      "  [449.25670258 426.02034121 403.08972144 397.34177942]\n",
      "  [417.27613154 413.72952902 400.58264035 387.61919663]\n",
      "  [426.99871432 430.72876181 418.68254289 395.93536807]\n",
      "  [459.95765848 459.83536184 440.39019627 416.29775843]\n",
      "  [483.13287153 477.9964127  451.15230048 431.82943156]]\n",
      "\n",
      " [[504.22904172 462.46473957 433.29699122 439.47297148]\n",
      "  [431.76828324 419.660916   418.62139457 426.08148953]\n",
      "  [381.38206806 395.14043992 408.77651514 409.02110842]\n",
      "  [381.32091974 403.578908   415.93086851 405.29106094]\n",
      "  [411.83393111 435.1314408  433.96962273 418.43794961]\n",
      "  [430.11727861 453.29249166 444.73172695 432.74665635]]\n",
      "\n",
      " [[478.17985766 449.9293341  434.15306769 449.99048242]\n",
      "  [403.2731664  409.5714433  426.81526937 445.03746855]\n",
      "  [346.8332676  376.61249914 413.3626391  428.03823575]\n",
      "  [340.59613902 376.49020251 409.5714433  421.8622555 ]\n",
      "  [366.21728485 400.70493698 422.77948029 432.56321139]\n",
      "  [374.71690124 418.86598784 435.92636896 444.42598535]]]\n"
     ]
    }
   ],
   "source": [
    "mid_vox = img_data[253:259, 253:259, 70:74]\n",
    "print(mid_vox)"
   ]
  },
  {
   "cell_type": "code",
   "execution_count": 55,
   "id": "0a3c68a1",
   "metadata": {},
   "outputs": [
    {
     "name": "stdout",
     "output_type": "stream",
     "text": [
      "(512, 144)\n"
     ]
    }
   ],
   "source": [
    "mid_slice_x = img_data[253, :, :]\n",
    "print(mid_slice_x.shape)"
   ]
  },
  {
   "cell_type": "code",
   "execution_count": 58,
   "id": "ae9c0a7e",
   "metadata": {},
   "outputs": [
    {
     "data": {
      "image/png": "[encoded data removed]",
      "text/plain": [
       "<Figure size 432x288 with 2 Axes>"
      ]
     },
     "metadata": {
      "needs_background": "light"
     },
     "output_type": "display_data"
    }
   ],
   "source": [
    "plt.imshow(mid_slice_x.T, cmap='gray', origin='lower')\n",
    "plt.xlabel('First axis')\n",
    "plt.ylabel('Second axis')\n",
    "plt.colorbar(label='Signal intensity')\n",
    "plt.show()"
   ]
  },
  {
   "cell_type": "code",
   "execution_count": 60,
   "id": "d1241924",
   "metadata": {},
   "outputs": [
    {
     "ename": "ModuleNotFoundError",
     "evalue": "No module named 'nilearn'",
     "output_type": "error",
     "traceback": [
      "\u001b[0;31m---------------------------------------------------------------------------\u001b[0m",
      "\u001b[0;31mModuleNotFoundError\u001b[0m                       Traceback (most recent call last)",
      "Input \u001b[0;32mIn [60]\u001b[0m, in \u001b[0;36m<module>\u001b[0;34m\u001b[0m\n\u001b[0;32m----> 1\u001b[0m \u001b[38;5;28;01mfrom\u001b[39;00m \u001b[38;5;21;01mnilearn\u001b[39;00m\u001b[38;5;21;01m.\u001b[39;00m\u001b[38;5;21;01mimage\u001b[39;00m \u001b[38;5;28;01mimport\u001b[39;00m resample_to_img\n\u001b[1;32m      3\u001b[0m resampled_stat_img \u001b[38;5;241m=\u001b[39m resample_to_img(stat_img, template)\n",
      "\u001b[0;31mModuleNotFoundError\u001b[0m: No module named 'nilearn'"
     ]
    }
   ],
   "source": [
    "from nilearn.image import resample_to_img\n",
    "\n",
    "resampled_stat_img = resample_to_img(stat_img, template)"
   ]
  },
  {
   "cell_type": "code",
   "execution_count": null,
   "id": "054ce1a6",
   "metadata": {},
   "outputs": [],
   "source": []
  }
 ],
 "metadata": {
  "kernelspec": {
   "display_name": "Python 3 (ipykernel)",
   "language": "python",
   "name": "python3"
  },
  "language_info": {
   "codemirror_mode": {
    "name": "ipython",
    "version": 3
   },
   "file_extension": ".py",
   "mimetype": "text/x-python",
   "name": "python",
   "nbconvert_exporter": "python",
   "pygments_lexer": "ipython3",
   "version": "3.9.10"
  }
 },
 "nbformat": 4,
 "nbformat_minor": 5
}
