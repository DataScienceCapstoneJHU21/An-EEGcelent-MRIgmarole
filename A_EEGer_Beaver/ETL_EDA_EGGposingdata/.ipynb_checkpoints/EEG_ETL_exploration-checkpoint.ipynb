{
 "cells": [
  {
   "cell_type": "code",
   "execution_count": 18,
   "id": "323851db",
   "metadata": {},
   "outputs": [
    {
     "name": "stdout",
     "output_type": "stream",
     "text": [
      "Extracting EDF parameters from /home/ssack/An-EEGcelent-MRIgmarole/A_EEGer_Beaver/ETL_EDA_EGGposingdata/CHIMIC_EEG_DATA.edf...\n",
      "EDF file detected\n",
      "Setting channel info structure...\n",
      "Creating raw.info structure...\n"
     ]
    }
   ],
   "source": [
    "import os\n",
    "import numpy as np\n",
    "import mne\n",
    "from mne.preprocessing import *\n",
    "from neurodsp.rhythm import compute_lagged_coherence\n",
    "sample_data_raw_file = \"./CHIMIC_EEG_DATA.edf\"\n",
    "raw = mne.io.read_raw_edf(sample_data_raw_file)\n",
    "#raw.crop(0, 60).load_data()  # just use a fraction of data for speed here"
   ]
  },
  {
   "cell_type": "code",
   "execution_count": 20,
   "id": "cb3cc9b9",
   "metadata": {
    "scrolled": false
   },
   "outputs": [],
   "source": [
    "t_start =  10\n",
    "t_stop = int(t_start + (60 * 50))\n",
    "channels = mne.pick_types(raw.info, meg=False, eeg=True)\n",
    "# Initialize output variables\n",
    "f_range = (5, 25, 0.25)\n",
    "max_freq = np.zeros(32)\n",
    "max_score = np.zeros(len(raw.ch_names))\n",
    "\n",
    "# Loop lagged coherence across each channel\n",
    "for ind, ch_label in enumerate(raw.ch_names):\n",
    "\n",
    "    # Extract current channel data\n",
    "    cur_sig = np.squeeze(raw.get_data(mne.pick_channels(raw.ch_names, [ch_label]),\n",
    "                                      start=t_start, stop=t_stop))\n",
    "\n",
    "    # Calculate lagged coherence on current channel data\n",
    "    cur_lcs, cur_freqs = compute_lagged_coherence(cur_sig, 50, f_range, return_spectrum=True)\n",
    "\n",
    "    # Collect data of interest: frequency of max rhythmicity & associated rhythmicity value\n",
    "    max_freq[ind] = cur_freqs[np.argmax(cur_lcs)]\n",
    "    max_score[ind] = np.max(cur_lcs)"
   ]
  },
  {
   "cell_type": "code",
   "execution_count": 23,
   "id": "de9003fd",
   "metadata": {},
   "outputs": [
    {
     "name": "stdout",
     "output_type": "stream",
     "text": [
      "Extracting EDF parameters from /home/ssack/An-EEGcelent-MRIgmarole/A_EEGer_Beaver/ETL_EDA_EGGposingdata/CHIMIC_EEG_DATA.edf...\n",
      "EDF file detected\n",
      "Setting channel info structure...\n",
      "Creating raw.info structure...\n"
     ]
    },
    {
     "ename": "ImportError",
     "evalue": "Cannot load backend 'Qt5Agg' which requires the 'qt' interactive framework, as 'headless' is currently running",
     "output_type": "error",
     "traceback": [
      "\u001b[0;31m---------------------------------------------------------------------------\u001b[0m",
      "\u001b[0;31mImportError\u001b[0m                               Traceback (most recent call last)",
      "Input \u001b[0;32mIn [23]\u001b[0m, in \u001b[0;36m<module>\u001b[0;34m\u001b[0m\n\u001b[1;32m      3\u001b[0m vmin, vmax \u001b[38;5;241m=\u001b[39m \u001b[38;5;241m0\u001b[39m, \u001b[38;5;241m0.5\u001b[39m\n\u001b[1;32m      4\u001b[0m raw \u001b[38;5;241m=\u001b[39m mne\u001b[38;5;241m.\u001b[39mio\u001b[38;5;241m.\u001b[39mread_raw_edf(sample_data_raw_file)\n\u001b[0;32m----> 5\u001b[0m \u001b[43mplot_topomap\u001b[49m\u001b[43m(\u001b[49m\u001b[43mmax_score\u001b[49m\u001b[43m,\u001b[49m\u001b[43m \u001b[49m\u001b[43mraw\u001b[49m\u001b[38;5;241;43m.\u001b[39;49m\u001b[43minfo\u001b[49m\u001b[43m,\u001b[49m\u001b[43m \u001b[49m\u001b[43mcmap\u001b[49m\u001b[38;5;241;43m=\u001b[39;49m\u001b[43mcm\u001b[49m\u001b[38;5;241;43m.\u001b[39;49m\u001b[43mviridis\u001b[49m\u001b[43m,\u001b[49m\u001b[43m \u001b[49m\u001b[43mvmin\u001b[49m\u001b[38;5;241;43m=\u001b[39;49m\u001b[43mvmin\u001b[49m\u001b[43m,\u001b[49m\u001b[43m \u001b[49m\u001b[43mvmax\u001b[49m\u001b[38;5;241;43m=\u001b[39;49m\u001b[43mvmax\u001b[49m\u001b[43m,\u001b[49m\u001b[43m \u001b[49m\u001b[43mcontours\u001b[49m\u001b[38;5;241;43m=\u001b[39;49m\u001b[38;5;241;43m0\u001b[39;49m\u001b[43m)\u001b[49m\n",
      "File \u001b[0;32m~/.local/lib/python3.9/site-packages/mne/viz/topomap.py:803\u001b[0m, in \u001b[0;36mplot_topomap\u001b[0;34m(data, pos, vmin, vmax, cmap, sensors, res, axes, names, show_names, mask, mask_params, outlines, contours, image_interp, show, onselect, extrapolate, sphere, border, ch_type, cnorm)\u001b[0m\n\u001b[1;32m    800\u001b[0m     \u001b[38;5;28;01mif\u001b[39;00m vmax \u001b[38;5;129;01mis\u001b[39;00m \u001b[38;5;129;01mnot\u001b[39;00m \u001b[38;5;28;01mNone\u001b[39;00m:\n\u001b[1;32m    801\u001b[0m         warn(\u001b[38;5;124mf\u001b[39m\u001b[38;5;124m\"\u001b[39m\u001b[38;5;124mvmax=\u001b[39m\u001b[38;5;132;01m{\u001b[39;00mcnorm\u001b[38;5;241m.\u001b[39mvmax\u001b[38;5;132;01m}\u001b[39;00m\u001b[38;5;124m is implicitly defined by cnorm, ignoring \u001b[39m\u001b[38;5;124m\"\u001b[39m\n\u001b[1;32m    802\u001b[0m              \u001b[38;5;124mf\u001b[39m\u001b[38;5;124m\"\u001b[39m\u001b[38;5;124mvmax=\u001b[39m\u001b[38;5;132;01m{\u001b[39;00mvmax\u001b[38;5;132;01m}\u001b[39;00m\u001b[38;5;124m.\u001b[39m\u001b[38;5;124m\"\u001b[39m)\n\u001b[0;32m--> 803\u001b[0m \u001b[38;5;28;01mreturn\u001b[39;00m \u001b[43m_plot_topomap\u001b[49m\u001b[43m(\u001b[49m\u001b[43mdata\u001b[49m\u001b[43m,\u001b[49m\u001b[43m \u001b[49m\u001b[43mpos\u001b[49m\u001b[43m,\u001b[49m\u001b[43m \u001b[49m\u001b[43mvmin\u001b[49m\u001b[43m,\u001b[49m\u001b[43m \u001b[49m\u001b[43mvmax\u001b[49m\u001b[43m,\u001b[49m\u001b[43m \u001b[49m\u001b[43mcmap\u001b[49m\u001b[43m,\u001b[49m\u001b[43m \u001b[49m\u001b[43msensors\u001b[49m\u001b[43m,\u001b[49m\u001b[43m \u001b[49m\u001b[43mres\u001b[49m\u001b[43m,\u001b[49m\u001b[43m \u001b[49m\u001b[43maxes\u001b[49m\u001b[43m,\u001b[49m\n\u001b[1;32m    804\u001b[0m \u001b[43m                     \u001b[49m\u001b[43mnames\u001b[49m\u001b[43m,\u001b[49m\u001b[43m \u001b[49m\u001b[43mshow_names\u001b[49m\u001b[43m,\u001b[49m\u001b[43m \u001b[49m\u001b[43mmask\u001b[49m\u001b[43m,\u001b[49m\u001b[43m \u001b[49m\u001b[43mmask_params\u001b[49m\u001b[43m,\u001b[49m\u001b[43m \u001b[49m\u001b[43moutlines\u001b[49m\u001b[43m,\u001b[49m\n\u001b[1;32m    805\u001b[0m \u001b[43m                     \u001b[49m\u001b[43mcontours\u001b[49m\u001b[43m,\u001b[49m\u001b[43m \u001b[49m\u001b[43mimage_interp\u001b[49m\u001b[43m,\u001b[49m\u001b[43m \u001b[49m\u001b[43mshow\u001b[49m\u001b[43m,\u001b[49m\n\u001b[1;32m    806\u001b[0m \u001b[43m                     \u001b[49m\u001b[43monselect\u001b[49m\u001b[43m,\u001b[49m\u001b[43m \u001b[49m\u001b[43mextrapolate\u001b[49m\u001b[43m,\u001b[49m\u001b[43m \u001b[49m\u001b[43msphere\u001b[49m\u001b[38;5;241;43m=\u001b[39;49m\u001b[43msphere\u001b[49m\u001b[43m,\u001b[49m\u001b[43m \u001b[49m\u001b[43mborder\u001b[49m\u001b[38;5;241;43m=\u001b[39;49m\u001b[43mborder\u001b[49m\u001b[43m,\u001b[49m\n\u001b[1;32m    807\u001b[0m \u001b[43m                     \u001b[49m\u001b[43mch_type\u001b[49m\u001b[38;5;241;43m=\u001b[39;49m\u001b[43mch_type\u001b[49m\u001b[43m,\u001b[49m\u001b[43m \u001b[49m\u001b[43mcnorm\u001b[49m\u001b[38;5;241;43m=\u001b[39;49m\u001b[43mcnorm\u001b[49m\u001b[43m)\u001b[49m[:\u001b[38;5;241m2\u001b[39m]\n",
      "File \u001b[0;32m~/.local/lib/python3.9/site-packages/mne/viz/topomap.py:868\u001b[0m, in \u001b[0;36m_plot_topomap\u001b[0;34m(data, pos, vmin, vmax, cmap, sensors, res, axes, names, show_names, mask, mask_params, outlines, contours, image_interp, show, onselect, extrapolate, sphere, border, ch_type, cnorm)\u001b[0m\n\u001b[1;32m    861\u001b[0m \u001b[38;5;28;01mdef\u001b[39;00m \u001b[38;5;21m_plot_topomap\u001b[39m(data, pos, vmin\u001b[38;5;241m=\u001b[39m\u001b[38;5;28;01mNone\u001b[39;00m, vmax\u001b[38;5;241m=\u001b[39m\u001b[38;5;28;01mNone\u001b[39;00m, cmap\u001b[38;5;241m=\u001b[39m\u001b[38;5;28;01mNone\u001b[39;00m, sensors\u001b[38;5;241m=\u001b[39m\u001b[38;5;28;01mTrue\u001b[39;00m,\n\u001b[1;32m    862\u001b[0m                   res\u001b[38;5;241m=\u001b[39m\u001b[38;5;241m64\u001b[39m, axes\u001b[38;5;241m=\u001b[39m\u001b[38;5;28;01mNone\u001b[39;00m, names\u001b[38;5;241m=\u001b[39m\u001b[38;5;28;01mNone\u001b[39;00m, show_names\u001b[38;5;241m=\u001b[39m\u001b[38;5;28;01mFalse\u001b[39;00m, mask\u001b[38;5;241m=\u001b[39m\u001b[38;5;28;01mNone\u001b[39;00m,\n\u001b[1;32m    863\u001b[0m                   mask_params\u001b[38;5;241m=\u001b[39m\u001b[38;5;28;01mNone\u001b[39;00m, outlines\u001b[38;5;241m=\u001b[39m\u001b[38;5;124m'\u001b[39m\u001b[38;5;124mhead\u001b[39m\u001b[38;5;124m'\u001b[39m,\n\u001b[1;32m    864\u001b[0m                   contours\u001b[38;5;241m=\u001b[39m\u001b[38;5;241m6\u001b[39m, image_interp\u001b[38;5;241m=\u001b[39m\u001b[38;5;124m'\u001b[39m\u001b[38;5;124mbilinear\u001b[39m\u001b[38;5;124m'\u001b[39m, show\u001b[38;5;241m=\u001b[39m\u001b[38;5;28;01mTrue\u001b[39;00m,\n\u001b[1;32m    865\u001b[0m                   onselect\u001b[38;5;241m=\u001b[39m\u001b[38;5;28;01mNone\u001b[39;00m, extrapolate\u001b[38;5;241m=\u001b[39m_EXTRAPOLATE_DEFAULT, sphere\u001b[38;5;241m=\u001b[39m\u001b[38;5;28;01mNone\u001b[39;00m,\n\u001b[1;32m    866\u001b[0m                   border\u001b[38;5;241m=\u001b[39m_BORDER_DEFAULT, ch_type\u001b[38;5;241m=\u001b[39m\u001b[38;5;124m'\u001b[39m\u001b[38;5;124meeg\u001b[39m\u001b[38;5;124m'\u001b[39m, cnorm\u001b[38;5;241m=\u001b[39m\u001b[38;5;28;01mNone\u001b[39;00m):\n\u001b[1;32m    867\u001b[0m     \u001b[38;5;28;01mfrom\u001b[39;00m \u001b[38;5;21;01mmatplotlib\u001b[39;00m\u001b[38;5;21;01m.\u001b[39;00m\u001b[38;5;21;01mcolors\u001b[39;00m \u001b[38;5;28;01mimport\u001b[39;00m Normalize\n\u001b[0;32m--> 868\u001b[0m     \u001b[38;5;28;01mimport\u001b[39;00m \u001b[38;5;21;01mmatplotlib\u001b[39;00m\u001b[38;5;21;01m.\u001b[39;00m\u001b[38;5;21;01mpyplot\u001b[39;00m \u001b[38;5;28;01mas\u001b[39;00m \u001b[38;5;21;01mplt\u001b[39;00m\n\u001b[1;32m    869\u001b[0m     \u001b[38;5;28;01mfrom\u001b[39;00m \u001b[38;5;21;01mmatplotlib\u001b[39;00m\u001b[38;5;21;01m.\u001b[39;00m\u001b[38;5;21;01mwidgets\u001b[39;00m \u001b[38;5;28;01mimport\u001b[39;00m RectangleSelector\n\u001b[1;32m    870\u001b[0m     data \u001b[38;5;241m=\u001b[39m np\u001b[38;5;241m.\u001b[39masarray(data)\n",
      "File \u001b[0;32m~/.local/lib/python3.9/site-packages/matplotlib/pyplot.py:2230\u001b[0m, in \u001b[0;36m<module>\u001b[0;34m\u001b[0m\n\u001b[1;32m   2228\u001b[0m     \u001b[38;5;28mdict\u001b[39m\u001b[38;5;241m.\u001b[39m\u001b[38;5;21m__setitem__\u001b[39m(rcParams, \u001b[38;5;124m\"\u001b[39m\u001b[38;5;124mbackend\u001b[39m\u001b[38;5;124m\"\u001b[39m, rcsetup\u001b[38;5;241m.\u001b[39m_auto_backend_sentinel)\n\u001b[1;32m   2229\u001b[0m \u001b[38;5;66;03m# Set up the backend.\u001b[39;00m\n\u001b[0;32m-> 2230\u001b[0m \u001b[43mswitch_backend\u001b[49m\u001b[43m(\u001b[49m\u001b[43mrcParams\u001b[49m\u001b[43m[\u001b[49m\u001b[38;5;124;43m\"\u001b[39;49m\u001b[38;5;124;43mbackend\u001b[39;49m\u001b[38;5;124;43m\"\u001b[39;49m\u001b[43m]\u001b[49m\u001b[43m)\u001b[49m\n\u001b[1;32m   2232\u001b[0m \u001b[38;5;66;03m# Just to be safe.  Interactive mode can be turned on without\u001b[39;00m\n\u001b[1;32m   2233\u001b[0m \u001b[38;5;66;03m# calling `plt.ion()` so register it again here.\u001b[39;00m\n\u001b[1;32m   2234\u001b[0m \u001b[38;5;66;03m# This is safe because multiple calls to `install_repl_displayhook`\u001b[39;00m\n\u001b[1;32m   2235\u001b[0m \u001b[38;5;66;03m# are no-ops and the registered function respect `mpl.is_interactive()`\u001b[39;00m\n\u001b[1;32m   2236\u001b[0m \u001b[38;5;66;03m# to determine if they should trigger a draw.\u001b[39;00m\n\u001b[1;32m   2237\u001b[0m install_repl_displayhook()\n",
      "File \u001b[0;32m~/.local/lib/python3.9/site-packages/matplotlib/pyplot.py:275\u001b[0m, in \u001b[0;36mswitch_backend\u001b[0;34m(newbackend)\u001b[0m\n\u001b[1;32m    272\u001b[0m     current_framework \u001b[38;5;241m=\u001b[39m cbook\u001b[38;5;241m.\u001b[39m_get_running_interactive_framework()\n\u001b[1;32m    273\u001b[0m     \u001b[38;5;28;01mif\u001b[39;00m (current_framework \u001b[38;5;129;01mand\u001b[39;00m required_framework\n\u001b[1;32m    274\u001b[0m             \u001b[38;5;129;01mand\u001b[39;00m current_framework \u001b[38;5;241m!=\u001b[39m required_framework):\n\u001b[0;32m--> 275\u001b[0m         \u001b[38;5;28;01mraise\u001b[39;00m \u001b[38;5;167;01mImportError\u001b[39;00m(\n\u001b[1;32m    276\u001b[0m             \u001b[38;5;124m\"\u001b[39m\u001b[38;5;124mCannot load backend \u001b[39m\u001b[38;5;132;01m{!r}\u001b[39;00m\u001b[38;5;124m which requires the \u001b[39m\u001b[38;5;132;01m{!r}\u001b[39;00m\u001b[38;5;124m interactive \u001b[39m\u001b[38;5;124m\"\u001b[39m\n\u001b[1;32m    277\u001b[0m             \u001b[38;5;124m\"\u001b[39m\u001b[38;5;124mframework, as \u001b[39m\u001b[38;5;132;01m{!r}\u001b[39;00m\u001b[38;5;124m is currently running\u001b[39m\u001b[38;5;124m\"\u001b[39m\u001b[38;5;241m.\u001b[39mformat(\n\u001b[1;32m    278\u001b[0m                 newbackend, required_framework, current_framework))\n\u001b[1;32m    280\u001b[0m _log\u001b[38;5;241m.\u001b[39mdebug(\u001b[38;5;124m\"\u001b[39m\u001b[38;5;124mLoaded backend \u001b[39m\u001b[38;5;132;01m%s\u001b[39;00m\u001b[38;5;124m version \u001b[39m\u001b[38;5;132;01m%s\u001b[39;00m\u001b[38;5;124m.\u001b[39m\u001b[38;5;124m\"\u001b[39m,\n\u001b[1;32m    281\u001b[0m            newbackend, backend_mod\u001b[38;5;241m.\u001b[39mbackend_version)\n\u001b[1;32m    283\u001b[0m rcParams[\u001b[38;5;124m'\u001b[39m\u001b[38;5;124mbackend\u001b[39m\u001b[38;5;124m'\u001b[39m] \u001b[38;5;241m=\u001b[39m rcParamsDefault[\u001b[38;5;124m'\u001b[39m\u001b[38;5;124mbackend\u001b[39m\u001b[38;5;124m'\u001b[39m] \u001b[38;5;241m=\u001b[39m newbackend\n",
      "\u001b[0;31mImportError\u001b[0m: Cannot load backend 'Qt5Agg' which requires the 'qt' interactive framework, as 'headless' is currently running"
     ]
    }
   ],
   "source": [
    "from mne.viz import *\n",
    "from matplotlib import cm, colors\n",
    "vmin, vmax = 0, 0.5\n",
    "raw = mne.io.read_raw_edf(sample_data_raw_file)\n",
    "plot_topomap(max_score, raw.info, cmap=cm.viridis, vmin=vmin, vmax=vmax, contours=0)\n"
   ]
  },
  {
   "cell_type": "code",
   "execution_count": 5,
   "id": "5632c26d",
   "metadata": {},
   "outputs": [
    {
     "ename": "ModuleNotFoundError",
     "evalue": "No module named 'pyvista'",
     "output_type": "error",
     "traceback": [
      "\u001b[0;31m---------------------------------------------------------------------------\u001b[0m",
      "\u001b[0;31mModuleNotFoundError\u001b[0m                       Traceback (most recent call last)",
      "Input \u001b[0;32mIn [5]\u001b[0m, in \u001b[0;36m<module>\u001b[0;34m\u001b[0m\n\u001b[1;32m      1\u001b[0m \u001b[38;5;28;01mfrom\u001b[39;00m \u001b[38;5;21;01mmne\u001b[39;00m\u001b[38;5;21;01m.\u001b[39;00m\u001b[38;5;21;01mviz\u001b[39;00m \u001b[38;5;28;01mimport\u001b[39;00m plot_alignment, set_3d_view\n\u001b[0;32m----> 2\u001b[0m \u001b[43mmne\u001b[49m\u001b[38;5;241;43m.\u001b[39;49m\u001b[43mviz\u001b[49m\u001b[38;5;241;43m.\u001b[39;49m\u001b[43mset_3d_backend\u001b[49m\u001b[43m(\u001b[49m\u001b[38;5;124;43m\"\u001b[39;49m\u001b[38;5;124;43mnotebook\u001b[39;49m\u001b[38;5;124;43m\"\u001b[39;49m\u001b[43m)\u001b[49m\n\u001b[1;32m      3\u001b[0m fig \u001b[38;5;241m=\u001b[39m plot_alignment(raw\u001b[38;5;241m.\u001b[39minfo,  subject\u001b[38;5;241m=\u001b[39m\u001b[38;5;124m'\u001b[39m\u001b[38;5;124msample\u001b[39m\u001b[38;5;124m'\u001b[39m, dig\u001b[38;5;241m=\u001b[39m\u001b[38;5;28;01mFalse\u001b[39;00m,\n\u001b[1;32m      4\u001b[0m                      eeg\u001b[38;5;241m=\u001b[39m[\u001b[38;5;124m'\u001b[39m\u001b[38;5;124moriginal\u001b[39m\u001b[38;5;124m'\u001b[39m], meg\u001b[38;5;241m=\u001b[39m[],\n\u001b[1;32m      5\u001b[0m                      coord_frame\u001b[38;5;241m=\u001b[39m\u001b[38;5;124m'\u001b[39m\u001b[38;5;124mhead\u001b[39m\u001b[38;5;124m'\u001b[39m)\n",
      "File \u001b[0;32m<decorator-gen-182>:24\u001b[0m, in \u001b[0;36mset_3d_backend\u001b[0;34m(backend_name, verbose)\u001b[0m\n",
      "File \u001b[0;32m~/.local/lib/python3.9/site-packages/mne/viz/backends/renderer.py:129\u001b[0m, in \u001b[0;36mset_3d_backend\u001b[0;34m(backend_name, verbose)\u001b[0m\n\u001b[1;32m    127\u001b[0m backend_name \u001b[38;5;241m=\u001b[39m _check_3d_backend_name(backend_name)\n\u001b[1;32m    128\u001b[0m \u001b[38;5;28;01mif\u001b[39;00m MNE_3D_BACKEND \u001b[38;5;241m!=\u001b[39m backend_name:\n\u001b[0;32m--> 129\u001b[0m     \u001b[43m_reload_backend\u001b[49m\u001b[43m(\u001b[49m\u001b[43mbackend_name\u001b[49m\u001b[43m)\u001b[49m\n\u001b[1;32m    130\u001b[0m     MNE_3D_BACKEND \u001b[38;5;241m=\u001b[39m backend_name\n\u001b[1;32m    132\u001b[0m \u001b[38;5;66;03m# Qt5 macOS 11 compatibility\u001b[39;00m\n",
      "File \u001b[0;32m~/.local/lib/python3.9/site-packages/mne/viz/backends/renderer.py:34\u001b[0m, in \u001b[0;36m_reload_backend\u001b[0;34m(backend_name)\u001b[0m\n\u001b[1;32m     32\u001b[0m \u001b[38;5;28;01mdef\u001b[39;00m \u001b[38;5;21m_reload_backend\u001b[39m(backend_name):\n\u001b[1;32m     33\u001b[0m     \u001b[38;5;28;01mglobal\u001b[39;00m backend\n\u001b[0;32m---> 34\u001b[0m     backend \u001b[38;5;241m=\u001b[39m \u001b[43mimportlib\u001b[49m\u001b[38;5;241;43m.\u001b[39;49m\u001b[43mimport_module\u001b[49m\u001b[43m(\u001b[49m\u001b[43mname\u001b[49m\u001b[38;5;241;43m=\u001b[39;49m\u001b[43m_backend_name_map\u001b[49m\u001b[43m[\u001b[49m\u001b[43mbackend_name\u001b[49m\u001b[43m]\u001b[49m\u001b[43m,\u001b[49m\n\u001b[1;32m     35\u001b[0m \u001b[43m                                      \u001b[49m\u001b[43mpackage\u001b[49m\u001b[38;5;241;43m=\u001b[39;49m\u001b[38;5;124;43m'\u001b[39;49m\u001b[38;5;124;43mmne.viz.backends\u001b[39;49m\u001b[38;5;124;43m'\u001b[39;49m\u001b[43m)\u001b[49m\n\u001b[1;32m     36\u001b[0m     logger\u001b[38;5;241m.\u001b[39minfo(\u001b[38;5;124m'\u001b[39m\u001b[38;5;124mUsing \u001b[39m\u001b[38;5;132;01m%s\u001b[39;00m\u001b[38;5;124m 3d backend.\u001b[39m\u001b[38;5;130;01m\\n\u001b[39;00m\u001b[38;5;124m'\u001b[39m \u001b[38;5;241m%\u001b[39m backend_name)\n",
      "File \u001b[0;32m/usr/lib/python3.9/importlib/__init__.py:127\u001b[0m, in \u001b[0;36mimport_module\u001b[0;34m(name, package)\u001b[0m\n\u001b[1;32m    125\u001b[0m             \u001b[38;5;28;01mbreak\u001b[39;00m\n\u001b[1;32m    126\u001b[0m         level \u001b[38;5;241m+\u001b[39m\u001b[38;5;241m=\u001b[39m \u001b[38;5;241m1\u001b[39m\n\u001b[0;32m--> 127\u001b[0m \u001b[38;5;28;01mreturn\u001b[39;00m \u001b[43m_bootstrap\u001b[49m\u001b[38;5;241;43m.\u001b[39;49m\u001b[43m_gcd_import\u001b[49m\u001b[43m(\u001b[49m\u001b[43mname\u001b[49m\u001b[43m[\u001b[49m\u001b[43mlevel\u001b[49m\u001b[43m:\u001b[49m\u001b[43m]\u001b[49m\u001b[43m,\u001b[49m\u001b[43m \u001b[49m\u001b[43mpackage\u001b[49m\u001b[43m,\u001b[49m\u001b[43m \u001b[49m\u001b[43mlevel\u001b[49m\u001b[43m)\u001b[49m\n",
      "File \u001b[0;32m<frozen importlib._bootstrap>:1030\u001b[0m, in \u001b[0;36m_gcd_import\u001b[0;34m(name, package, level)\u001b[0m\n",
      "File \u001b[0;32m<frozen importlib._bootstrap>:1007\u001b[0m, in \u001b[0;36m_find_and_load\u001b[0;34m(name, import_)\u001b[0m\n",
      "File \u001b[0;32m<frozen importlib._bootstrap>:986\u001b[0m, in \u001b[0;36m_find_and_load_unlocked\u001b[0;34m(name, import_)\u001b[0m\n",
      "File \u001b[0;32m<frozen importlib._bootstrap>:680\u001b[0m, in \u001b[0;36m_load_unlocked\u001b[0;34m(spec)\u001b[0m\n",
      "File \u001b[0;32m<frozen importlib._bootstrap_external>:850\u001b[0m, in \u001b[0;36mexec_module\u001b[0;34m(self, module)\u001b[0m\n",
      "File \u001b[0;32m<frozen importlib._bootstrap>:228\u001b[0m, in \u001b[0;36m_call_with_frames_removed\u001b[0;34m(f, *args, **kwds)\u001b[0m\n",
      "File \u001b[0;32m~/.local/lib/python3.9/site-packages/mne/viz/backends/_notebook.py:10\u001b[0m, in \u001b[0;36m<module>\u001b[0;34m\u001b[0m\n\u001b[1;32m      7\u001b[0m \u001b[38;5;28;01mfrom\u001b[39;00m \u001b[38;5;21;01mcontextlib\u001b[39;00m \u001b[38;5;28;01mimport\u001b[39;00m contextmanager, nullcontext\n\u001b[1;32m      8\u001b[0m \u001b[38;5;28;01mfrom\u001b[39;00m \u001b[38;5;21;01mdistutils\u001b[39;00m\u001b[38;5;21;01m.\u001b[39;00m\u001b[38;5;21;01mversion\u001b[39;00m \u001b[38;5;28;01mimport\u001b[39;00m LooseVersion\n\u001b[0;32m---> 10\u001b[0m \u001b[38;5;28;01mimport\u001b[39;00m \u001b[38;5;21;01mpyvista\u001b[39;00m\n\u001b[1;32m     11\u001b[0m \u001b[38;5;28;01mfrom\u001b[39;00m \u001b[38;5;21;01mIPython\u001b[39;00m\u001b[38;5;21;01m.\u001b[39;00m\u001b[38;5;21;01mdisplay\u001b[39;00m \u001b[38;5;28;01mimport\u001b[39;00m display\n\u001b[1;32m     12\u001b[0m \u001b[38;5;28;01mfrom\u001b[39;00m \u001b[38;5;21;01mipywidgets\u001b[39;00m \u001b[38;5;28;01mimport\u001b[39;00m (Button, Dropdown, FloatSlider, BoundedFloatText, HBox,\n\u001b[1;32m     13\u001b[0m                         IntSlider, IntText, Text, VBox, IntProgress, Play,\n\u001b[1;32m     14\u001b[0m                         Checkbox, RadioButtons, jsdlink)\n",
      "\u001b[0;31mModuleNotFoundError\u001b[0m: No module named 'pyvista'"
     ]
    }
   ],
   "source": [
    "\n",
    "\n",
    "mne.viz.set_3d_backend(\"notebook\")\n",
    "fig = plot_alignment(raw.info,  subject='sample', dig=False,\n",
    "                     eeg=['original'], meg=[],\n",
    "                     coord_frame='head')\n",
    "# Set viewing angle\n",
    "#set_3d_view(figure=fig, azimuth=135, elevation=80)"
   ]
  },
  {
   "cell_type": "markdown",
   "id": "52326819",
   "metadata": {},
   "source": [
    "# What are artifacts?\n",
    "\n",
    " Artifacts are parts of the recorded signal that arise from sources other than\n",
    " the source of interest (i.e., neuronal activity in the brain). As such,\n",
    " artifacts are a form of interference or noise relative to the signal of\n",
    " interest. There are many possible causes of such interference, for example:\n",
    "\n",
    "## - Environmental artifacts\n",
    "     - Persistent oscillations centered around the `AC power line frequency`_\n",
    "       (typically 50 or 60 Hz)\n",
    "     - Brief signal jumps due to building vibration (such as a door slamming)\n",
    "     - Electromagnetic field noise from nearby elevators, cell phones, the\n",
    "       geomagnetic field, etc.\n",
    "\n",
    "## - Instrumentation artifacts\n",
    "     - Electromagnetic interference from stimulus presentation (such as EEG\n",
    "       sensors picking up the field generated by unshielded headphones)\n",
    "     - Continuous oscillations at specific frequencies used by head position\n",
    "       indicator (HPI) coils\n",
    "     - Random high-amplitude fluctuations (or alternatively, constant zero\n",
    "       signal) in a single channel due to sensor malfunction (e.g., in surface\n",
    "       electrodes, poor scalp contact)\n",
    "\n",
    "## - Biological artifacts\n",
    "     - Periodic `QRS`_-like signal patterns (especially in magnetometer\n",
    "       channels) due to electrical activity of the heart\n",
    "     - Short step-like deflections (especially in frontal EEG channels) due to\n",
    "       eye movements\n",
    "     - Large transient deflections (especially in frontal EEG channels) due to\n",
    "       blinking\n",
    "     - Brief bursts of high frequency fluctuations across several channels due\n",
    "       to the muscular activity during swallowing\n",
    "\n",
    " There are also some cases where signals from within the brain can be\n",
    " considered artifactual. For example, if a researcher is primarily interested\n",
    " in the sensory response to a stimulus, but the experimental paradigm involves\n",
    " a behavioral response (such as button press), the neural activity associated\n",
    " with the planning and executing the button press could be considered an\n",
    " artifact relative to signal of interest (i.e., the evoked sensory response).\n"
   ]
  },
  {
   "cell_type": "code",
   "execution_count": null,
   "id": "7ff2b4b8",
   "metadata": {},
   "outputs": [],
   "source": [
    "ssp_projectors = raw.info['projs']\n",
    "raw.del_proj()\n",
    "\n",
    "# %%\n",
    "# Low-frequency drifts\n",
    "# ~~~~~~~~~~~~~~~~~~~~\n",
    "#\n",
    "# Low-frequency drifts are most readily detected by visual inspection using the\n",
    "# basic :meth:`~mne.io.Raw.plot` method, though it is helpful to plot a\n",
    "# relatively long time span and to disable channel-wise DC shift correction.\n",
    "# Here we plot 60 seconds and show all the magnetometer channels:\n",
    "\n"
   ]
  },
  {
   "cell_type": "code",
   "execution_count": null,
   "id": "b75d74ad",
   "metadata": {},
   "outputs": [],
   "source": [
    "channels = mne.pick_types(raw.info, meg=False, eeg=True)\n",
    "raw.plot_psd(fmax=50)"
   ]
  },
  {
   "cell_type": "code",
   "execution_count": null,
   "id": "80ba63e0",
   "metadata": {
    "scrolled": true
   },
   "outputs": [],
   "source": [
    "\n",
    "raw.plot(duration=3, order=channels, n_channels=32)"
   ]
  },
  {
   "cell_type": "code",
   "execution_count": null,
   "id": "cd12195e",
   "metadata": {},
   "outputs": [],
   "source": [
    "# set up and fit the ICA\n",
    "filt_raw = raw.copy().filter(l_freq=1., h_freq=None)\n",
    "ica = ICA(n_components=15, max_iter='auto', random_state=97)\n",
    "ica.fit(filt_raw)\n",
    "ica"
   ]
  },
  {
   "cell_type": "code",
   "execution_count": null,
   "id": "c8bf411c",
   "metadata": {},
   "outputs": [],
   "source": [
    "\n",
    "epochTime = [4*60+59 5*60 + 4,\n",
    "    6*60+32,6*60+40,\n",
    "    2*60+18 2*60+22,\n",
    "    8 15]"
   ]
  },
  {
   "cell_type": "code",
   "execution_count": null,
   "id": "88e07107",
   "metadata": {},
   "outputs": [],
   "source": [
    "mne.find_events(raw, stim_channel='A1', verbose=True)"
   ]
  },
  {
   "cell_type": "code",
   "execution_count": null,
   "id": "be49d2e6",
   "metadata": {},
   "outputs": [],
   "source": [
    "sample_data_raw_file = \"./CHIMIC_EEG_DATA.edf\"\n",
    "raw = mne.io.read_raw_edf(sample_data_raw_file)"
   ]
  },
  {
   "cell_type": "code",
   "execution_count": null,
   "id": "8ec8b03c",
   "metadata": {},
   "outputs": [],
   "source": [
    "raw.load_data()\n",
    "ica.plot_sources(raw, show_scrollbars=False)"
   ]
  },
  {
   "cell_type": "code",
   "execution_count": null,
   "id": "308effce",
   "metadata": {},
   "outputs": [],
   "source": [
    "raw.filter(1., None, n_jobs=1, fir_design='firwin')"
   ]
  },
  {
   "cell_type": "code",
   "execution_count": null,
   "id": "d1cdf80e",
   "metadata": {},
   "outputs": [],
   "source": [
    "raw.plot();\n",
    "ica = ICA(n_components=25, method='fastica', random_state=23).fit(raw)\n",
    "ica.exclude = [1]\n",
    "raw_clean = ica.apply(raw.copy())"
   ]
  },
  {
   "cell_type": "code",
   "execution_count": null,
   "id": "a01f0ec0",
   "metadata": {},
   "outputs": [],
   "source": [
    "raw_clean.plot()"
   ]
  },
  {
   "cell_type": "code",
   "execution_count": null,
   "id": "68d5be2a",
   "metadata": {},
   "outputs": [],
   "source": [
    "\n",
    "# %%\n",
    "# Low-frequency drifts are readily removed by high-pass filtering at a fairly\n",
    "# low cutoff frequency (the wavelength of the drifts seen above is probably\n",
    "# around 20 seconds, so in this case a cutoff of 0.1 Hz would probably suppress\n",
    "# most of the drift).\n",
    "#\n",
    "#\n",
    "# Power line noise\n",
    "# ~~~~~~~~~~~~~~~~\n",
    "#\n",
    "# Power line artifacts are easiest to see on plots of the spectrum, so we'll\n",
    "# use :meth:`~mne.io.Raw.plot_psd` to illustrate.\n",
    "\n",
    "fig = raw.plot_psd(tmax=np.inf, fmax=50, average=True)\n",
    "# add some arrows at 60 Hz and its harmonics:\n",
    "for ax in fig.axes[1:]:\n",
    "    freqs = ax.lines[-1].get_xdata()\n",
    "    psds = ax.lines[-1].get_ydata()\n",
    "    for freq in (60, 120, 180, 240):\n",
    "        idx = np.searchsorted(freqs, freq)\n",
    "        ax.arrow(x=freqs[idx], y=psds[idx] + 18, dx=0, dy=-12, color='red',\n",
    "                 width=0.1, head_width=3, length_includes_head=True)\n"
   ]
  },
  {
   "cell_type": "code",
   "execution_count": null,
   "id": "c0d9798e",
   "metadata": {},
   "outputs": [],
   "source": [
    "\n",
    "\n",
    "\n",
    "\n",
    "# %%\n",
    "# Here we see narrow frequency peaks at 60, 120, 180, and 240 Hz — the power\n",
    "# line frequency of the USA (where the sample data was recorded) and its 2nd,\n",
    "# 3rd, and 4th harmonics. Other peaks (around 25 to 30 Hz, and the second\n",
    "# harmonic of those) are probably related to the heartbeat, which is more\n",
    "# easily seen in the time domain using a dedicated heartbeat detection function\n",
    "# as described in the next section.\n",
    "#\n",
    "#\n",
    "# Heartbeat artifacts (ECG)\n",
    "# ~~~~~~~~~~~~~~~~~~~~~~~~~\n",
    "#\n",
    "# MNE-Python includes a dedicated function\n",
    "# :func:`~mne.preprocessing.find_ecg_events` in the :mod:`mne.preprocessing`\n",
    "# submodule, for detecting heartbeat artifacts from either dedicated ECG\n",
    "# channels or from magnetometers (if no ECG channel is present). Additionally,\n",
    "# the function :func:`~mne.preprocessing.create_ecg_epochs` will call\n",
    "# :func:`~mne.preprocessing.find_ecg_events` under the hood, and use the\n",
    "# resulting events array to extract epochs centered around the detected\n",
    "# heartbeat artifacts. Here we create those epochs, then show an image plot of\n",
    "# the detected ECG artifacts along with the average ERF across artifacts. We'll\n",
    "# show all three channel types, even though EEG channels are less strongly\n",
    "# affected by heartbeat artifacts:\n",
    "\n",
    "# sphinx_gallery_thumbnail_number = 4\n",
    "ecg_epochs = mne.preprocessing.create_ecg_epochs(raw)\n",
    "ecg_epochs.plot_image(combine='mean')\n",
    "\n",
    "# %%\n",
    "# The horizontal streaks in the magnetometer image plot reflect the fact that\n",
    "# the heartbeat artifacts are superimposed on low-frequency drifts like the one\n",
    "# we saw in an earlier section; to avoid this you could pass\n",
    "# ``baseline=(-0.5, -0.2)`` in the call to\n",
    "# :func:`~mne.preprocessing.create_ecg_epochs`.\n",
    "# You can also get a quick look at the\n",
    "# ECG-related field pattern across sensors by averaging the ECG epochs together\n",
    "# via the :meth:`~mne.Epochs.average` method, and then using the\n",
    "# :meth:`mne.Evoked.plot_topomap` method:\n",
    "\n",
    "avg_ecg_epochs = ecg_epochs.average().apply_baseline((-0.5, -0.2))\n",
    "\n",
    "# %%\n",
    "# Here again we can visualize the spatial pattern of the associated field at\n",
    "# various times relative to the peak of the EOG response:\n",
    "\n",
    "avg_ecg_epochs.plot_topomap(times=np.linspace(-0.05, 0.05, 11))\n",
    "\n",
    "# %%\n",
    "# Or, we can get an ERP/F plot with :meth:`~mne.Evoked.plot` or a combined\n",
    "# scalp field maps and ERP/F plot with :meth:`~mne.Evoked.plot_joint`. Here\n",
    "# we've specified the times for scalp field maps manually, but if not provided\n",
    "# they will be chosen automatically based on peaks in the signal:\n",
    "\n",
    "avg_ecg_epochs.plot_joint(times=[-0.25, -0.025, 0, 0.025, 0.25])\n",
    "\n",
    "# %%\n",
    "# Ocular artifacts (EOG)\n",
    "# ~~~~~~~~~~~~~~~~~~~~~~\n",
    "#\n",
    "# Similar to the ECG detection and epoching methods described above, MNE-Python\n",
    "# also includes functions for detecting and extracting ocular artifacts:\n",
    "# :func:`~mne.preprocessing.find_eog_events` and\n",
    "# :func:`~mne.preprocessing.create_eog_epochs`. Once again we'll use the\n",
    "# higher-level convenience function that automatically finds the artifacts and\n",
    "# extracts them in to an :class:`~mne.Epochs` object in one step. Unlike the\n",
    "# heartbeat artifacts seen above, ocular artifacts are usually most prominent\n",
    "# in the EEG channels, but we'll still show all three channel types. We'll use\n",
    "# the ``baseline`` parameter this time too; note that there are many fewer\n",
    "# blinks than heartbeats, which makes the image plots appear somewhat blocky:\n",
    "\n",
    "eog_epochs = mne.preprocessing.create_eog_epochs(raw, baseline=(-0.5, -0.2))\n",
    "eog_epochs.plot_image(combine='mean')\n",
    "eog_epochs.average().plot_joint()\n",
    "\n",
    "# %%\n",
    "# Summary\n",
    "# ^^^^^^^\n",
    "#\n",
    "# Familiarizing yourself with typical artifact patterns and magnitudes is a\n",
    "# crucial first step in assessing the efficacy of later attempts to repair\n",
    "# those artifacts. A good rule of thumb is that the artifact amplitudes should\n",
    "# be orders of magnitude larger than your signal of interest — and there should\n",
    "# be several occurrences of such events — in order to find signal\n",
    "# decompositions that effectively estimate and repair the artifacts.\n",
    "#\n",
    "# Several other tutorials in this section illustrate the various tools for\n",
    "# artifact repair, and discuss the pros and cons of each technique, for\n",
    "# example:\n",
    "#\n",
    "# - :ref:`tut-artifact-ssp`\n",
    "# - :ref:`tut-artifact-ica`\n",
    "# - :ref:`tut-artifact-sss`\n",
    "#\n",
    "# There are also tutorials on general-purpose preprocessing steps such as\n",
    "# :ref:`filtering and resampling <tut-filter-resample>` and :ref:`excluding\n",
    "# bad channels <tut-bad-channels>` or :ref:`spans of data\n",
    "# <tut-reject-data-spans>`.\n",
    "#\n",
    "# .. LINKS\n",
    "#\n",
    "# .. _`AC power line frequency`:\n",
    "#    https://en.wikipedia.org/wiki/Mains_electricity\n",
    "# .. _`QRS`: https://en.wikipedia.org/wiki/QRS_complex\n",
    "# .. _`memory-mapped`: https://en.wikipedia.org/wiki/Memory-mapped_file\n"
   ]
  }
 ],
 "metadata": {
  "kernelspec": {
   "display_name": "Python 3 (ipykernel)",
   "language": "python",
   "name": "python3"
  },
  "language_info": {
   "codemirror_mode": {
    "name": "ipython",
    "version": 3
   },
   "file_extension": ".py",
   "mimetype": "text/x-python",
   "name": "python",
   "nbconvert_exporter": "python",
   "pygments_lexer": "ipython3",
   "version": "3.9.10"
  }
 },
 "nbformat": 4,
 "nbformat_minor": 5
}
